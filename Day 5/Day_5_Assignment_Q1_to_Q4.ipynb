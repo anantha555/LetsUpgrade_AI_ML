{
 "cells": [
  {
   "cell_type": "markdown",
   "metadata": {},
   "source": [
    "# Question 1 :\n",
    "Write a Python program to find the first 20 non-even prime natural numbers."
   ]
  },
  {
   "cell_type": "code",
   "execution_count": 1,
   "metadata": {},
   "outputs": [
    {
     "name": "stdout",
     "output_type": "stream",
     "text": [
      "The first 20 non-even prime natural numbers:\n",
      "\n",
      "Prime 1 : 3\n",
      "Prime 2 : 5\n",
      "Prime 3 : 7\n",
      "Prime 4 : 11\n",
      "Prime 5 : 13\n",
      "Prime 6 : 17\n",
      "Prime 7 : 19\n",
      "Prime 8 : 23\n",
      "Prime 9 : 29\n",
      "Prime 10 : 31\n",
      "Prime 11 : 37\n",
      "Prime 12 : 41\n",
      "Prime 13 : 43\n",
      "Prime 14 : 47\n",
      "Prime 15 : 53\n",
      "Prime 16 : 59\n",
      "Prime 17 : 61\n",
      "Prime 18 : 67\n",
      "Prime 19 : 71\n",
      "Prime 20 : 73\n"
     ]
    }
   ],
   "source": [
    "def isnumprime(n):\n",
    "    for i in range(2,n):\n",
    "        if (n%i) == 0:\n",
    "            return False\n",
    "    else:\n",
    "        return True\n",
    "\n",
    "count = 0\n",
    "num = 3\n",
    "print(\"The first 20 non-even prime natural numbers:\\n\")\n",
    "while count < 20:\n",
    "    if isnumprime(num) ==  True:\n",
    "        print (\"Prime\",count+1,\":\",num)\n",
    "        count = count + 1\n",
    "        num = num + 1\n",
    "    else:\n",
    "        num = num + 1"
   ]
  },
  {
   "cell_type": "markdown",
   "metadata": {},
   "source": [
    "# Question 2 :\n",
    "Write a Python program to implement 15 functions of string"
   ]
  },
  {
   "cell_type": "code",
   "execution_count": 2,
   "metadata": {},
   "outputs": [
    {
     "name": "stdout",
     "output_type": "stream",
     "text": [
      "Diffrent string functions for string: anantha kumar \n",
      "\n",
      "Anantha kumar\n",
      "1\n",
      "False\n",
      "ANANTHA KUMAR\n",
      "3\n",
      "Anantha Kumar\n",
      "anantha kumar\n",
      "False\n",
      "   anantha kumar    \n",
      "2\n",
      "True\n",
      "False\n",
      "('anantha', ' ', 'kumar')\n",
      "13\n",
      "0anantha kumar\n",
      "[' ', 'a', 'a', 'a', 'a', 'h', 'k', 'm', 'n', 'n', 'r', 't', 'u']\n"
     ]
    }
   ],
   "source": [
    "ak_str = 'anantha kumar'\n",
    "print(\"Diffrent string functions for string:\",ak_str,\"\\n\")\n",
    "print(ak_str.capitalize())\n",
    "print(ak_str.find(\"n\"))\n",
    "print(ak_str.isdigit())\n",
    "print(ak_str.swapcase())\n",
    "print(ak_str.rfind(\"n\"))\n",
    "print(ak_str.title())\n",
    "print(ak_str.lower())\n",
    "print(ak_str.isspace())\n",
    "print(ak_str.center(20))\n",
    "print(ak_str.count(\"an\"))\n",
    "print(ak_str.endswith('r'))\n",
    "print(ak_str.isalpha())\n",
    "print(ak_str.partition(\" \"))\n",
    "print(len(ak_str))\n",
    "print(ak_str.zfill(14))\n",
    "print(sorted(ak_str))"
   ]
  },
  {
   "cell_type": "markdown",
   "metadata": {},
   "source": [
    "# Question 3:\n",
    "Write a Python program to check if the given string is a Palindrome or Anagram or None of them.\n",
    "Display the message accordingly to the user."
   ]
  },
  {
   "cell_type": "code",
   "execution_count": 3,
   "metadata": {},
   "outputs": [
    {
     "name": "stdout",
     "output_type": "stream",
     "text": [
      "***Test 1***\n",
      "The string : abcd is not a palindrome and the strings : list sile are not anagrams\n",
      "\n",
      "***Test 2***\n",
      "The string : abcddcba is a palindrome\n",
      "The strings : listen silent are anagrams\n",
      "\n",
      "***Test 3***\n",
      "The string : abcddcba is a palindrome\n",
      "\n",
      "***Test 4***\n",
      "The strings : listen silent are anagrams\n"
     ]
    }
   ],
   "source": [
    "def is_anagram(str1, str2):\n",
    "    list_str1 = list(str1)\n",
    "    list_str1.sort()\n",
    "    list_str2 = list(str2)\n",
    "    list_str2.sort()\n",
    "    if(list_str1 == list_str2): \n",
    "        #print(\"The strings are anagrams.\")  \n",
    "        return True\n",
    "\n",
    "def is_palindrome(s):\n",
    "    if s == s[::-1] :\n",
    "        #print(\"potentialprime\")\n",
    "        return True\n",
    "\n",
    "def main_prog(s1,s2,s3):\n",
    "    if is_palindrome(s1):\n",
    "        print(\"The string :\",s1, \"is a palindrome\") \n",
    "    if is_anagram(s2,s3):\n",
    "        print(\"The strings :\",s2,s3,\"are anagrams\") \n",
    "    if not is_anagram(s2,s3) and not is_palindrome(s1):\n",
    "        print(\"The string :\",s1, \"is not a palindrome and the strings :\",s2,s3,\"are not anagrams\")\n",
    "\n",
    "print(\"***Test 1***\")\n",
    "sa1 = \"abcd\"\n",
    "sa2 = \"list\"\n",
    "sa3 = \"sile\" \n",
    "main_prog(sa1,sa2,sa3)\n",
    "\n",
    "print(\"\\n***Test 2***\")\n",
    "sd1 = \"abcddcba\"\n",
    "sd2 = \"listen\"\n",
    "sd3 = \"silent\" \n",
    "main_prog(sd1,sd2,sd3)\n",
    "\n",
    "print(\"\\n***Test 3***\")\n",
    "sd1 = \"abcddcba\"\n",
    "sd2 = \"list\"\n",
    "sd3 = \"silent\" \n",
    "main_prog(sd1,sd2,sd3)\n",
    "\n",
    "print(\"\\n***Test 4***\")\n",
    "sd1 = \"abcdba\"\n",
    "sd2 = \"listen\"\n",
    "sd3 = \"silent\" \n",
    "main_prog(sd1,sd2,sd3)"
   ]
  },
  {
   "cell_type": "markdown",
   "metadata": {},
   "source": [
    "# Question 4:\n",
    "Write a Python's user defined function that removes all the additional characters from the string\n",
    "and converts it finally to lower case using built-in lower(). eg: If the string is \"Dr. Darshan Ingle\n",
    "@AI-ML Trainer\", then the output be \"drdarshaningleaimltrainer\"."
   ]
  },
  {
   "cell_type": "code",
   "execution_count": 4,
   "metadata": {},
   "outputs": [
    {
     "name": "stdout",
     "output_type": "stream",
     "text": [
      "drdarshaningleaimltrainer"
     ]
    }
   ],
   "source": [
    "su = \"Dr. Darshan Ingle @AI-ML Trainer\"\n",
    "\n",
    "def remove_a_char(s):\n",
    "    for i in s:\n",
    "        if i.isalpha():\n",
    "            print(i.lower(),end=\"\")\n",
    "            \n",
    "remove_a_char(su)"
   ]
  }
 ],
 "metadata": {
  "kernelspec": {
   "display_name": "Python 3",
   "language": "python",
   "name": "python3"
  },
  "language_info": {
   "codemirror_mode": {
    "name": "ipython",
    "version": 3
   },
   "file_extension": ".py",
   "mimetype": "text/x-python",
   "name": "python",
   "nbconvert_exporter": "python",
   "pygments_lexer": "ipython3",
   "version": "3.7.6"
  }
 },
 "nbformat": 4,
 "nbformat_minor": 4
}
