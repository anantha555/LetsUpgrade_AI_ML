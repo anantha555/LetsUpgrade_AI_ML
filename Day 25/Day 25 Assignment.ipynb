{
 "cells": [
  {
   "cell_type": "code",
   "execution_count": 1,
   "metadata": {},
   "outputs": [],
   "source": [
    "import pandas as pd\n",
    "from sklearn import preprocessing\n",
    "from sklearn.model_selection import train_test_split\n",
    "from sklearn.naive_bayes import *\n",
    "from sklearn.metrics import accuracy_score\n",
    "from sklearn.metrics import confusion_matrix"
   ]
  },
  {
   "cell_type": "code",
   "execution_count": 2,
   "metadata": {},
   "outputs": [
    {
     "data": {
      "text/html": [
       "<div>\n",
       "<style scoped>\n",
       "    .dataframe tbody tr th:only-of-type {\n",
       "        vertical-align: middle;\n",
       "    }\n",
       "\n",
       "    .dataframe tbody tr th {\n",
       "        vertical-align: top;\n",
       "    }\n",
       "\n",
       "    .dataframe thead th {\n",
       "        text-align: right;\n",
       "    }\n",
       "</style>\n",
       "<table border=\"1\" class=\"dataframe\">\n",
       "  <thead>\n",
       "    <tr style=\"text-align: right;\">\n",
       "      <th></th>\n",
       "      <th>PassengerId</th>\n",
       "      <th>Survived</th>\n",
       "      <th>Pclass</th>\n",
       "      <th>Name</th>\n",
       "      <th>Sex</th>\n",
       "      <th>Age</th>\n",
       "      <th>SibSp</th>\n",
       "      <th>Parch</th>\n",
       "      <th>Ticket</th>\n",
       "      <th>Fare</th>\n",
       "      <th>Cabin</th>\n",
       "      <th>Embarked</th>\n",
       "    </tr>\n",
       "  </thead>\n",
       "  <tbody>\n",
       "    <tr>\n",
       "      <th>0</th>\n",
       "      <td>1</td>\n",
       "      <td>0</td>\n",
       "      <td>3</td>\n",
       "      <td>Braund, Mr. Owen Harris</td>\n",
       "      <td>male</td>\n",
       "      <td>22.0</td>\n",
       "      <td>1</td>\n",
       "      <td>0</td>\n",
       "      <td>A/5 21171</td>\n",
       "      <td>7.2500</td>\n",
       "      <td>NaN</td>\n",
       "      <td>S</td>\n",
       "    </tr>\n",
       "    <tr>\n",
       "      <th>1</th>\n",
       "      <td>2</td>\n",
       "      <td>1</td>\n",
       "      <td>1</td>\n",
       "      <td>Cumings, Mrs. John Bradley (Florence Briggs Th...</td>\n",
       "      <td>female</td>\n",
       "      <td>38.0</td>\n",
       "      <td>1</td>\n",
       "      <td>0</td>\n",
       "      <td>PC 17599</td>\n",
       "      <td>71.2833</td>\n",
       "      <td>C85</td>\n",
       "      <td>C</td>\n",
       "    </tr>\n",
       "  </tbody>\n",
       "</table>\n",
       "</div>"
      ],
      "text/plain": [
       "   PassengerId  Survived  Pclass  \\\n",
       "0            1         0       3   \n",
       "1            2         1       1   \n",
       "\n",
       "                                                Name     Sex   Age  SibSp  \\\n",
       "0                            Braund, Mr. Owen Harris    male  22.0      1   \n",
       "1  Cumings, Mrs. John Bradley (Florence Briggs Th...  female  38.0      1   \n",
       "\n",
       "   Parch     Ticket     Fare Cabin Embarked  \n",
       "0      0  A/5 21171   7.2500   NaN        S  \n",
       "1      0   PC 17599  71.2833   C85        C  "
      ]
     },
     "execution_count": 2,
     "metadata": {},
     "output_type": "execute_result"
    }
   ],
   "source": [
    "df = pd.read_csv('train.csv')\n",
    "df.head(2)"
   ]
  },
  {
   "cell_type": "code",
   "execution_count": 3,
   "metadata": {
    "scrolled": false
   },
   "outputs": [
    {
     "name": "stdout",
     "output_type": "stream",
     "text": [
      "['female' 'male']\n"
     ]
    }
   ],
   "source": [
    "le = preprocessing.LabelEncoder()\n",
    "le.fit(df['Sex'])\n",
    "print(le.classes_)"
   ]
  },
  {
   "cell_type": "code",
   "execution_count": 4,
   "metadata": {
    "scrolled": true
   },
   "outputs": [],
   "source": [
    "df[\"Sex\"]= le.transform(df[\"Sex\"])"
   ]
  },
  {
   "cell_type": "code",
   "execution_count": 5,
   "metadata": {},
   "outputs": [
    {
     "name": "stdout",
     "output_type": "stream",
     "text": [
      "['C' 'Q' 'S']\n"
     ]
    }
   ],
   "source": [
    "le1 = preprocessing.LabelEncoder()\n",
    "le1.fit(df['Embarked'])\n",
    "print(le1.classes_)"
   ]
  },
  {
   "cell_type": "code",
   "execution_count": 6,
   "metadata": {},
   "outputs": [],
   "source": [
    "df[\"Embarked\"]= le1.transform(df[\"Embarked\"])"
   ]
  },
  {
   "cell_type": "code",
   "execution_count": 7,
   "metadata": {},
   "outputs": [
    {
     "name": "stdout",
     "output_type": "stream",
     "text": [
      "<class 'pandas.core.frame.DataFrame'>\n",
      "RangeIndex: 889 entries, 0 to 888\n",
      "Data columns (total 12 columns):\n",
      " #   Column       Non-Null Count  Dtype  \n",
      "---  ------       --------------  -----  \n",
      " 0   PassengerId  889 non-null    int64  \n",
      " 1   Survived     889 non-null    int64  \n",
      " 2   Pclass       889 non-null    int64  \n",
      " 3   Name         889 non-null    object \n",
      " 4   Sex          889 non-null    int32  \n",
      " 5   Age          889 non-null    float64\n",
      " 6   SibSp        889 non-null    int64  \n",
      " 7   Parch        889 non-null    int64  \n",
      " 8   Ticket       889 non-null    object \n",
      " 9   Fare         889 non-null    float64\n",
      " 10  Cabin        202 non-null    object \n",
      " 11  Embarked     889 non-null    int32  \n",
      "dtypes: float64(2), int32(2), int64(5), object(3)\n",
      "memory usage: 76.5+ KB\n"
     ]
    }
   ],
   "source": [
    "df.info()"
   ]
  },
  {
   "cell_type": "markdown",
   "metadata": {},
   "source": [
    "# Naive Bayes for all columns using Python Funcations and For loop"
   ]
  },
  {
   "cell_type": "code",
   "execution_count": 8,
   "metadata": {},
   "outputs": [],
   "source": [
    "df2  = df.drop(['PassengerId','Name','Ticket','Cabin','Fare','Age'], axis=1)"
   ]
  },
  {
   "cell_type": "code",
   "execution_count": 9,
   "metadata": {},
   "outputs": [
    {
     "data": {
      "text/plain": [
       "Index(['Survived', 'Pclass', 'Sex', 'SibSp', 'Parch', 'Embarked'], dtype='object')"
      ]
     },
     "execution_count": 9,
     "metadata": {},
     "output_type": "execute_result"
    }
   ],
   "source": [
    "df2.columns"
   ]
  },
  {
   "cell_type": "code",
   "execution_count": 10,
   "metadata": {
    "scrolled": false
   },
   "outputs": [
    {
     "name": "stdout",
     "output_type": "stream",
     "text": [
      "MODEL 1 \n",
      "\n",
      "IDV: Survived \n",
      "\n",
      "DV: Index(['Pclass', 'Sex', 'SibSp', 'Parch', 'Embarked'], dtype='object') \n",
      "\n",
      "Model Accuracy Score :\n",
      "0.7715355805243446 \n",
      "\n",
      "Confusion Matrix :\n",
      "[[131  26]\n",
      " [ 35  75]]\n",
      "\n",
      "****************************************************************************************\n",
      "\n",
      "MODEL 2 \n",
      "\n",
      "IDV: Pclass \n",
      "\n",
      "DV: Index(['Survived', 'Sex', 'SibSp', 'Parch', 'Embarked'], dtype='object') \n",
      "\n",
      "Model Accuracy Score :\n",
      "0.5880149812734082 \n",
      "\n",
      "Confusion Matrix :\n",
      "[[ 26  10  34]\n",
      " [  8  10  31]\n",
      " [ 20   7 121]]\n",
      "\n",
      "****************************************************************************************\n",
      "\n",
      "MODEL 3 \n",
      "\n",
      "IDV: Sex \n",
      "\n",
      "DV: Index(['Survived', 'Pclass', 'SibSp', 'Parch', 'Embarked'], dtype='object') \n",
      "\n",
      "Model Accuracy Score :\n",
      "0.7453183520599251 \n",
      "\n",
      "Confusion Matrix :\n",
      "[[ 49  49]\n",
      " [ 19 150]]\n",
      "\n",
      "****************************************************************************************\n",
      "\n",
      "MODEL 4 \n",
      "\n",
      "IDV: SibSp \n",
      "\n",
      "DV: Index(['Survived', 'Pclass', 'Sex', 'Parch', 'Embarked'], dtype='object') \n",
      "\n",
      "Model Accuracy Score :\n",
      "0.6891385767790262 \n",
      "\n",
      "Confusion Matrix :\n",
      "[[162  20   0   0   0   0   0]\n",
      " [ 43  22   0   0   0   0   0]\n",
      " [  6   2   0   0   0   0   0]\n",
      " [  5   2   0   0   0   0   0]\n",
      " [  2   0   0   0   0   0   0]\n",
      " [  1   0   0   0   0   0   0]\n",
      " [  2   0   0   0   0   0   0]]\n",
      "\n",
      "****************************************************************************************\n",
      "\n",
      "MODEL 5 \n",
      "\n",
      "IDV: Parch \n",
      "\n",
      "DV: Index(['Survived', 'Pclass', 'Sex', 'SibSp', 'Embarked'], dtype='object') \n",
      "\n",
      "Model Accuracy Score :\n",
      "0.7153558052434457 \n",
      "\n",
      "Confusion Matrix :\n",
      "[[182  16   0   0   0]\n",
      " [ 31   9   0   0   0]\n",
      " [ 24   3   0   0   0]\n",
      " [  1   0   0   0   0]\n",
      " [  1   0   0   0   0]]\n",
      "\n",
      "****************************************************************************************\n",
      "\n",
      "MODEL 6 \n",
      "\n",
      "IDV: Embarked \n",
      "\n",
      "DV: Index(['Survived', 'Pclass', 'Sex', 'SibSp', 'Parch'], dtype='object') \n",
      "\n",
      "Model Accuracy Score :\n",
      "0.7340823970037453 \n",
      "\n",
      "Confusion Matrix :\n",
      "[[  0   0  49]\n",
      " [  0   0  22]\n",
      " [  0   0 196]]\n",
      "\n",
      "****************************************************************************************\n",
      "\n",
      "All Models Accuracy Score Summery:\n",
      "\n",
      "MODEL 1 : 0.7715355805243446 \n",
      "\n",
      "MODEL 2 : 0.5880149812734082 \n",
      "\n",
      "MODEL 3 : 0.7453183520599251 \n",
      "\n",
      "MODEL 4 : 0.6891385767790262 \n",
      "\n",
      "MODEL 5 : 0.7153558052434457 \n",
      "\n",
      "MODEL 6 : 0.7340823970037453 \n",
      "\n"
     ]
    }
   ],
   "source": [
    "def naive_bayes_cm(a):\n",
    "    y = df2[a]\n",
    "    X =df2.drop([a], axis=1)\n",
    "    X_train,X_test,y_train,y_test = train_test_split(X,y,test_size =0.3,random_state =0)\n",
    "    clf = BernoulliNB()\n",
    "    y_pred = clf.fit(X_train,y_train).predict(X_test)\n",
    "    acc_sc = accuracy_score(y_test,y_pred,normalize=True)\n",
    "    con_mtx = confusion_matrix(y_test,y_pred)\n",
    "    print('IDV:',a,'\\n')\n",
    "    print('DV:',X.columns,'\\n')\n",
    "    print('Model Accuracy Score :')\n",
    "    print(acc_sc,'\\n')\n",
    "    print('Confusion Matrix :')\n",
    "    print(con_mtx)\n",
    "    print('\\n****************************************************************************************\\n')\n",
    "    return acc_sc\n",
    "    \n",
    "\n",
    "n = 0\n",
    "models_acc_sc =[]\n",
    "for i in df2.columns:\n",
    "    n=n+1\n",
    "    print('MODEL',n,'\\n' )\n",
    "    accc = naive_bayes_cm(i)\n",
    "    models_acc_sc.append(accc)\n",
    "n = 0\n",
    "print('All Models Accuracy Score Summery:\\n')\n",
    "for i in range(0,len(models_acc_sc)):\n",
    "    n=n+1\n",
    "    print('MODEL',n,':',models_acc_sc[i],'\\n' )"
   ]
  }
 ],
 "metadata": {
  "kernelspec": {
   "display_name": "Python 3",
   "language": "python",
   "name": "python3"
  },
  "language_info": {
   "codemirror_mode": {
    "name": "ipython",
    "version": 3
   },
   "file_extension": ".py",
   "mimetype": "text/x-python",
   "name": "python",
   "nbconvert_exporter": "python",
   "pygments_lexer": "ipython3",
   "version": "3.7.6"
  }
 },
 "nbformat": 4,
 "nbformat_minor": 4
}
