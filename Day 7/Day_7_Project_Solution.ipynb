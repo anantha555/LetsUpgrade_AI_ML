{
 "cells": [
  {
   "cell_type": "markdown",
   "metadata": {},
   "source": [
    "# HR Analytics Case Study Solution"
   ]
  },
  {
   "cell_type": "markdown",
   "metadata": {},
   "source": [
    "## Problem Definition\n",
    "Problem Statement A large company named XYZ, employs, at any given point of time, around 4000 employees. However, every year, around 15% of its employees leave the company and need to be replaced with the talent pool available in the job market. The management believes that this level of attrition (employees leaving, either on their own or because they got fired) is bad for the company, because of the following reasons -\n",
    "\n",
    "The former employees’ projects get delayed, which makes it difficult to meet timelines, resulting in a reputation loss among consumers and partners\n",
    "A sizeable department has to be maintained, for the purposes of recruiting new talent\n",
    "More often than not, the new employees have to be trained for the job and/or given time to acclimatise themselves to the company\n",
    "Hence, the management has contracted an HR analytics firm to understand what factors they should focus on, in order to curb attrition. In other words, they want to know what changes they should make to their workplace, in order to get most of their employees to stay. Also, they want to know which of these variables is most important and needs to be addressed right away.\n",
    "\n",
    "Since you are one of the star analysts at the firm, this project has been given to you.\n",
    "\n",
    "Goal of the case study You are required to model the probability of attrition. The results thus obtained will be used by the management to understand what changes they should make to their workplace, in order to get most of their employees to stay.\n",
    "\n",
    "----------------------------------------------------------------------------------------------------------------------------\n",
    "## Problem Statement\n",
    "A Company named XYZ has a problem of attrition .The rate of attrition has been quite high so\n",
    "being the head analyst of the company the repost on all the employees has been provided to\n",
    "you and you need to find out the reason of attrition so the company can reduce the attrition."
   ]
  },
  {
   "cell_type": "markdown",
   "metadata": {},
   "source": [
    "### Importing Python libraries"
   ]
  },
  {
   "cell_type": "code",
   "execution_count": 29,
   "metadata": {},
   "outputs": [],
   "source": [
    "import numpy as np\n",
    "import pandas as pd\n",
    "import seaborn as sns\n",
    "import matplotlib.pyplot as plt\n",
    "from sklearn import preprocessing\n",
    "from scipy.stats import pearsonr\n",
    "from scipy.stats import wilcoxon\n",
    "from scipy.stats import friedmanchisquare\n",
    "from scipy.stats import mannwhitneyu\n",
    "from scipy.stats import kruskal\n",
    "from scipy.stats import chi2_contingency\n",
    "from scipy.stats import ttest_1samp\n",
    "from scipy.stats import ttest_rel\n",
    "from scipy.stats import ttest_ind"
   ]
  },
  {
   "cell_type": "markdown",
   "metadata": {},
   "source": [
    "### Importing the data"
   ]
  },
  {
   "cell_type": "code",
   "execution_count": 4,
   "metadata": {},
   "outputs": [
    {
     "data": {
      "text/html": [
       "<div>\n",
       "<style scoped>\n",
       "    .dataframe tbody tr th:only-of-type {\n",
       "        vertical-align: middle;\n",
       "    }\n",
       "\n",
       "    .dataframe tbody tr th {\n",
       "        vertical-align: top;\n",
       "    }\n",
       "\n",
       "    .dataframe thead th {\n",
       "        text-align: right;\n",
       "    }\n",
       "</style>\n",
       "<table border=\"1\" class=\"dataframe\">\n",
       "  <thead>\n",
       "    <tr style=\"text-align: right;\">\n",
       "      <th></th>\n",
       "      <th>Age</th>\n",
       "      <th>Attrition</th>\n",
       "      <th>BusinessTravel</th>\n",
       "      <th>Department</th>\n",
       "      <th>DistanceFromHome</th>\n",
       "      <th>Education</th>\n",
       "      <th>EducationField</th>\n",
       "      <th>EmployeeCount</th>\n",
       "      <th>EmployeeID</th>\n",
       "      <th>Gender</th>\n",
       "      <th>...</th>\n",
       "      <th>NumCompaniesWorked</th>\n",
       "      <th>Over18</th>\n",
       "      <th>PercentSalaryHike</th>\n",
       "      <th>StandardHours</th>\n",
       "      <th>StockOptionLevel</th>\n",
       "      <th>TotalWorkingYears</th>\n",
       "      <th>TrainingTimesLastYear</th>\n",
       "      <th>YearsAtCompany</th>\n",
       "      <th>YearsSinceLastPromotion</th>\n",
       "      <th>YearsWithCurrManager</th>\n",
       "    </tr>\n",
       "  </thead>\n",
       "  <tbody>\n",
       "    <tr>\n",
       "      <th>0</th>\n",
       "      <td>51</td>\n",
       "      <td>No</td>\n",
       "      <td>Travel_Rarely</td>\n",
       "      <td>Sales</td>\n",
       "      <td>6</td>\n",
       "      <td>2</td>\n",
       "      <td>Life Sciences</td>\n",
       "      <td>1</td>\n",
       "      <td>1</td>\n",
       "      <td>Female</td>\n",
       "      <td>...</td>\n",
       "      <td>1.0</td>\n",
       "      <td>Y</td>\n",
       "      <td>11</td>\n",
       "      <td>8</td>\n",
       "      <td>0</td>\n",
       "      <td>1.0</td>\n",
       "      <td>6</td>\n",
       "      <td>1</td>\n",
       "      <td>0</td>\n",
       "      <td>0</td>\n",
       "    </tr>\n",
       "    <tr>\n",
       "      <th>1</th>\n",
       "      <td>31</td>\n",
       "      <td>Yes</td>\n",
       "      <td>Travel_Frequently</td>\n",
       "      <td>Research &amp; Development</td>\n",
       "      <td>10</td>\n",
       "      <td>1</td>\n",
       "      <td>Life Sciences</td>\n",
       "      <td>1</td>\n",
       "      <td>2</td>\n",
       "      <td>Female</td>\n",
       "      <td>...</td>\n",
       "      <td>0.0</td>\n",
       "      <td>Y</td>\n",
       "      <td>23</td>\n",
       "      <td>8</td>\n",
       "      <td>1</td>\n",
       "      <td>6.0</td>\n",
       "      <td>3</td>\n",
       "      <td>5</td>\n",
       "      <td>1</td>\n",
       "      <td>4</td>\n",
       "    </tr>\n",
       "    <tr>\n",
       "      <th>2</th>\n",
       "      <td>32</td>\n",
       "      <td>No</td>\n",
       "      <td>Travel_Frequently</td>\n",
       "      <td>Research &amp; Development</td>\n",
       "      <td>17</td>\n",
       "      <td>4</td>\n",
       "      <td>Other</td>\n",
       "      <td>1</td>\n",
       "      <td>3</td>\n",
       "      <td>Male</td>\n",
       "      <td>...</td>\n",
       "      <td>1.0</td>\n",
       "      <td>Y</td>\n",
       "      <td>15</td>\n",
       "      <td>8</td>\n",
       "      <td>3</td>\n",
       "      <td>5.0</td>\n",
       "      <td>2</td>\n",
       "      <td>5</td>\n",
       "      <td>0</td>\n",
       "      <td>3</td>\n",
       "    </tr>\n",
       "    <tr>\n",
       "      <th>3</th>\n",
       "      <td>38</td>\n",
       "      <td>No</td>\n",
       "      <td>Non-Travel</td>\n",
       "      <td>Research &amp; Development</td>\n",
       "      <td>2</td>\n",
       "      <td>5</td>\n",
       "      <td>Life Sciences</td>\n",
       "      <td>1</td>\n",
       "      <td>4</td>\n",
       "      <td>Male</td>\n",
       "      <td>...</td>\n",
       "      <td>3.0</td>\n",
       "      <td>Y</td>\n",
       "      <td>11</td>\n",
       "      <td>8</td>\n",
       "      <td>3</td>\n",
       "      <td>13.0</td>\n",
       "      <td>5</td>\n",
       "      <td>8</td>\n",
       "      <td>7</td>\n",
       "      <td>5</td>\n",
       "    </tr>\n",
       "    <tr>\n",
       "      <th>4</th>\n",
       "      <td>32</td>\n",
       "      <td>No</td>\n",
       "      <td>Travel_Rarely</td>\n",
       "      <td>Research &amp; Development</td>\n",
       "      <td>10</td>\n",
       "      <td>1</td>\n",
       "      <td>Medical</td>\n",
       "      <td>1</td>\n",
       "      <td>5</td>\n",
       "      <td>Male</td>\n",
       "      <td>...</td>\n",
       "      <td>4.0</td>\n",
       "      <td>Y</td>\n",
       "      <td>12</td>\n",
       "      <td>8</td>\n",
       "      <td>2</td>\n",
       "      <td>9.0</td>\n",
       "      <td>2</td>\n",
       "      <td>6</td>\n",
       "      <td>0</td>\n",
       "      <td>4</td>\n",
       "    </tr>\n",
       "  </tbody>\n",
       "</table>\n",
       "<p>5 rows × 24 columns</p>\n",
       "</div>"
      ],
      "text/plain": [
       "   Age Attrition     BusinessTravel              Department  DistanceFromHome  \\\n",
       "0   51        No      Travel_Rarely                   Sales                 6   \n",
       "1   31       Yes  Travel_Frequently  Research & Development                10   \n",
       "2   32        No  Travel_Frequently  Research & Development                17   \n",
       "3   38        No         Non-Travel  Research & Development                 2   \n",
       "4   32        No      Travel_Rarely  Research & Development                10   \n",
       "\n",
       "   Education EducationField  EmployeeCount  EmployeeID  Gender  ...  \\\n",
       "0          2  Life Sciences              1           1  Female  ...   \n",
       "1          1  Life Sciences              1           2  Female  ...   \n",
       "2          4          Other              1           3    Male  ...   \n",
       "3          5  Life Sciences              1           4    Male  ...   \n",
       "4          1        Medical              1           5    Male  ...   \n",
       "\n",
       "   NumCompaniesWorked Over18 PercentSalaryHike  StandardHours  \\\n",
       "0                 1.0      Y                11              8   \n",
       "1                 0.0      Y                23              8   \n",
       "2                 1.0      Y                15              8   \n",
       "3                 3.0      Y                11              8   \n",
       "4                 4.0      Y                12              8   \n",
       "\n",
       "   StockOptionLevel TotalWorkingYears  TrainingTimesLastYear  YearsAtCompany  \\\n",
       "0                 0               1.0                      6               1   \n",
       "1                 1               6.0                      3               5   \n",
       "2                 3               5.0                      2               5   \n",
       "3                 3              13.0                      5               8   \n",
       "4                 2               9.0                      2               6   \n",
       "\n",
       "   YearsSinceLastPromotion  YearsWithCurrManager  \n",
       "0                        0                     0  \n",
       "1                        1                     4  \n",
       "2                        0                     3  \n",
       "3                        7                     5  \n",
       "4                        0                     4  \n",
       "\n",
       "[5 rows x 24 columns]"
      ]
     },
     "execution_count": 4,
     "metadata": {},
     "output_type": "execute_result"
    }
   ],
   "source": [
    "#to import the dataset into the notebook\n",
    "\n",
    "ds = pd.read_csv(\"general_data.csv\")\n",
    "ds.head()"
   ]
  },
  {
   "cell_type": "markdown",
   "metadata": {},
   "source": [
    ">The dataset contains several numerical and categorical columns providing various information on employee's personal and employment details.\n",
    "\n",
    ">Also we can see that there some columns which dont not add any value to the process. we shall be droping them later down."
   ]
  },
  {
   "cell_type": "code",
   "execution_count": 6,
   "metadata": {},
   "outputs": [
    {
     "data": {
      "text/plain": [
       "Index(['Age', 'Attrition', 'BusinessTravel', 'Department', 'DistanceFromHome',\n",
       "       'Education', 'EducationField', 'EmployeeCount', 'EmployeeID', 'Gender',\n",
       "       'JobLevel', 'JobRole', 'MaritalStatus', 'MonthlyIncome',\n",
       "       'NumCompaniesWorked', 'Over18', 'PercentSalaryHike', 'StandardHours',\n",
       "       'StockOptionLevel', 'TotalWorkingYears', 'TrainingTimesLastYear',\n",
       "       'YearsAtCompany', 'YearsSinceLastPromotion', 'YearsWithCurrManager'],\n",
       "      dtype='object')"
      ]
     },
     "execution_count": 6,
     "metadata": {},
     "output_type": "execute_result"
    }
   ],
   "source": [
    "# The list of columns in the dataset \n",
    "ds.columns"
   ]
  },
  {
   "cell_type": "markdown",
   "metadata": {},
   "source": [
    "# Data Treatment"
   ]
  },
  {
   "cell_type": "code",
   "execution_count": 17,
   "metadata": {},
   "outputs": [],
   "source": [
    "# ds.isnull()\n",
    "# ds.duplicated()"
   ]
  },
  {
   "cell_type": "code",
   "execution_count": 18,
   "metadata": {},
   "outputs": [],
   "source": [
    "ds = ds.dropna()"
   ]
  },
  {
   "cell_type": "code",
   "execution_count": 19,
   "metadata": {},
   "outputs": [],
   "source": [
    "ds = ds.drop_duplicates()"
   ]
  },
  {
   "cell_type": "code",
   "execution_count": 20,
   "metadata": {
    "scrolled": false
   },
   "outputs": [
    {
     "name": "stdout",
     "output_type": "stream",
     "text": [
      "<class 'pandas.core.frame.DataFrame'>\n",
      "Int64Index: 4382 entries, 0 to 4408\n",
      "Data columns (total 24 columns):\n",
      " #   Column                   Non-Null Count  Dtype  \n",
      "---  ------                   --------------  -----  \n",
      " 0   Age                      4382 non-null   int64  \n",
      " 1   Attrition                4382 non-null   object \n",
      " 2   BusinessTravel           4382 non-null   object \n",
      " 3   Department               4382 non-null   object \n",
      " 4   DistanceFromHome         4382 non-null   int64  \n",
      " 5   Education                4382 non-null   int64  \n",
      " 6   EducationField           4382 non-null   object \n",
      " 7   EmployeeCount            4382 non-null   int64  \n",
      " 8   EmployeeID               4382 non-null   int64  \n",
      " 9   Gender                   4382 non-null   object \n",
      " 10  JobLevel                 4382 non-null   int64  \n",
      " 11  JobRole                  4382 non-null   object \n",
      " 12  MaritalStatus            4382 non-null   object \n",
      " 13  MonthlyIncome            4382 non-null   int64  \n",
      " 14  NumCompaniesWorked       4382 non-null   float64\n",
      " 15  Over18                   4382 non-null   object \n",
      " 16  PercentSalaryHike        4382 non-null   int64  \n",
      " 17  StandardHours            4382 non-null   int64  \n",
      " 18  StockOptionLevel         4382 non-null   int64  \n",
      " 19  TotalWorkingYears        4382 non-null   float64\n",
      " 20  TrainingTimesLastYear    4382 non-null   int64  \n",
      " 21  YearsAtCompany           4382 non-null   int64  \n",
      " 22  YearsSinceLastPromotion  4382 non-null   int64  \n",
      " 23  YearsWithCurrManager     4382 non-null   int64  \n",
      "dtypes: float64(2), int64(14), object(8)\n",
      "memory usage: 855.9+ KB\n"
     ]
    }
   ],
   "source": [
    "ds.info()\n",
    "# we see that there are no null values in the dataset "
   ]
  },
  {
   "cell_type": "markdown",
   "metadata": {},
   "source": [
    "# Univariate Analysis"
   ]
  },
  {
   "cell_type": "code",
   "execution_count": 65,
   "metadata": {},
   "outputs": [],
   "source": [
    "# Make a copy of the original sourcefile\n",
    "ds2 = ds.copy()"
   ]
  },
  {
   "cell_type": "code",
   "execution_count": 66,
   "metadata": {},
   "outputs": [],
   "source": [
    "# To drop the columns which are not of any signifigance anymore\n",
    "ds2 = ds2.drop([ 'EmployeeCount', 'EmployeeID', 'StandardHours', 'Over18'], axis=1)"
   ]
  },
  {
   "cell_type": "code",
   "execution_count": 67,
   "metadata": {},
   "outputs": [
    {
     "data": {
      "text/plain": [
       "Index(['Age', 'Attrition', 'BusinessTravel', 'Department', 'DistanceFromHome',\n",
       "       'Education', 'EducationField', 'Gender', 'JobLevel', 'JobRole',\n",
       "       'MaritalStatus', 'MonthlyIncome', 'NumCompaniesWorked',\n",
       "       'PercentSalaryHike', 'StockOptionLevel', 'TotalWorkingYears',\n",
       "       'TrainingTimesLastYear', 'YearsAtCompany', 'YearsSinceLastPromotion',\n",
       "       'YearsWithCurrManager'],\n",
       "      dtype='object')"
      ]
     },
     "execution_count": 67,
     "metadata": {},
     "output_type": "execute_result"
    }
   ],
   "source": [
    "ds2.columns"
   ]
  },
  {
   "cell_type": "code",
   "execution_count": 68,
   "metadata": {},
   "outputs": [
    {
     "data": {
      "text/html": [
       "<div>\n",
       "<style scoped>\n",
       "    .dataframe tbody tr th:only-of-type {\n",
       "        vertical-align: middle;\n",
       "    }\n",
       "\n",
       "    .dataframe tbody tr th {\n",
       "        vertical-align: top;\n",
       "    }\n",
       "\n",
       "    .dataframe thead th {\n",
       "        text-align: right;\n",
       "    }\n",
       "</style>\n",
       "<table border=\"1\" class=\"dataframe\">\n",
       "  <thead>\n",
       "    <tr style=\"text-align: right;\">\n",
       "      <th></th>\n",
       "      <th>Age</th>\n",
       "      <th>Attrition</th>\n",
       "      <th>BusinessTravel</th>\n",
       "      <th>Department</th>\n",
       "      <th>DistanceFromHome</th>\n",
       "      <th>Education</th>\n",
       "      <th>EducationField</th>\n",
       "      <th>Gender</th>\n",
       "      <th>JobLevel</th>\n",
       "      <th>JobRole</th>\n",
       "      <th>MaritalStatus</th>\n",
       "      <th>MonthlyIncome</th>\n",
       "      <th>NumCompaniesWorked</th>\n",
       "      <th>PercentSalaryHike</th>\n",
       "      <th>StockOptionLevel</th>\n",
       "      <th>TotalWorkingYears</th>\n",
       "      <th>TrainingTimesLastYear</th>\n",
       "      <th>YearsAtCompany</th>\n",
       "      <th>YearsSinceLastPromotion</th>\n",
       "      <th>YearsWithCurrManager</th>\n",
       "    </tr>\n",
       "  </thead>\n",
       "  <tbody>\n",
       "    <tr>\n",
       "      <th>0</th>\n",
       "      <td>51</td>\n",
       "      <td>No</td>\n",
       "      <td>Travel_Rarely</td>\n",
       "      <td>Sales</td>\n",
       "      <td>6</td>\n",
       "      <td>2</td>\n",
       "      <td>Life Sciences</td>\n",
       "      <td>Female</td>\n",
       "      <td>1</td>\n",
       "      <td>Healthcare Representative</td>\n",
       "      <td>Married</td>\n",
       "      <td>131160</td>\n",
       "      <td>1.0</td>\n",
       "      <td>11</td>\n",
       "      <td>0</td>\n",
       "      <td>1.0</td>\n",
       "      <td>6</td>\n",
       "      <td>1</td>\n",
       "      <td>0</td>\n",
       "      <td>0</td>\n",
       "    </tr>\n",
       "    <tr>\n",
       "      <th>1</th>\n",
       "      <td>31</td>\n",
       "      <td>Yes</td>\n",
       "      <td>Travel_Frequently</td>\n",
       "      <td>Research &amp; Development</td>\n",
       "      <td>10</td>\n",
       "      <td>1</td>\n",
       "      <td>Life Sciences</td>\n",
       "      <td>Female</td>\n",
       "      <td>1</td>\n",
       "      <td>Research Scientist</td>\n",
       "      <td>Single</td>\n",
       "      <td>41890</td>\n",
       "      <td>0.0</td>\n",
       "      <td>23</td>\n",
       "      <td>1</td>\n",
       "      <td>6.0</td>\n",
       "      <td>3</td>\n",
       "      <td>5</td>\n",
       "      <td>1</td>\n",
       "      <td>4</td>\n",
       "    </tr>\n",
       "    <tr>\n",
       "      <th>2</th>\n",
       "      <td>32</td>\n",
       "      <td>No</td>\n",
       "      <td>Travel_Frequently</td>\n",
       "      <td>Research &amp; Development</td>\n",
       "      <td>17</td>\n",
       "      <td>4</td>\n",
       "      <td>Other</td>\n",
       "      <td>Male</td>\n",
       "      <td>4</td>\n",
       "      <td>Sales Executive</td>\n",
       "      <td>Married</td>\n",
       "      <td>193280</td>\n",
       "      <td>1.0</td>\n",
       "      <td>15</td>\n",
       "      <td>3</td>\n",
       "      <td>5.0</td>\n",
       "      <td>2</td>\n",
       "      <td>5</td>\n",
       "      <td>0</td>\n",
       "      <td>3</td>\n",
       "    </tr>\n",
       "    <tr>\n",
       "      <th>3</th>\n",
       "      <td>38</td>\n",
       "      <td>No</td>\n",
       "      <td>Non-Travel</td>\n",
       "      <td>Research &amp; Development</td>\n",
       "      <td>2</td>\n",
       "      <td>5</td>\n",
       "      <td>Life Sciences</td>\n",
       "      <td>Male</td>\n",
       "      <td>3</td>\n",
       "      <td>Human Resources</td>\n",
       "      <td>Married</td>\n",
       "      <td>83210</td>\n",
       "      <td>3.0</td>\n",
       "      <td>11</td>\n",
       "      <td>3</td>\n",
       "      <td>13.0</td>\n",
       "      <td>5</td>\n",
       "      <td>8</td>\n",
       "      <td>7</td>\n",
       "      <td>5</td>\n",
       "    </tr>\n",
       "    <tr>\n",
       "      <th>4</th>\n",
       "      <td>32</td>\n",
       "      <td>No</td>\n",
       "      <td>Travel_Rarely</td>\n",
       "      <td>Research &amp; Development</td>\n",
       "      <td>10</td>\n",
       "      <td>1</td>\n",
       "      <td>Medical</td>\n",
       "      <td>Male</td>\n",
       "      <td>1</td>\n",
       "      <td>Sales Executive</td>\n",
       "      <td>Single</td>\n",
       "      <td>23420</td>\n",
       "      <td>4.0</td>\n",
       "      <td>12</td>\n",
       "      <td>2</td>\n",
       "      <td>9.0</td>\n",
       "      <td>2</td>\n",
       "      <td>6</td>\n",
       "      <td>0</td>\n",
       "      <td>4</td>\n",
       "    </tr>\n",
       "  </tbody>\n",
       "</table>\n",
       "</div>"
      ],
      "text/plain": [
       "   Age Attrition     BusinessTravel              Department  DistanceFromHome  \\\n",
       "0   51        No      Travel_Rarely                   Sales                 6   \n",
       "1   31       Yes  Travel_Frequently  Research & Development                10   \n",
       "2   32        No  Travel_Frequently  Research & Development                17   \n",
       "3   38        No         Non-Travel  Research & Development                 2   \n",
       "4   32        No      Travel_Rarely  Research & Development                10   \n",
       "\n",
       "   Education EducationField  Gender  JobLevel                    JobRole  \\\n",
       "0          2  Life Sciences  Female         1  Healthcare Representative   \n",
       "1          1  Life Sciences  Female         1         Research Scientist   \n",
       "2          4          Other    Male         4            Sales Executive   \n",
       "3          5  Life Sciences    Male         3            Human Resources   \n",
       "4          1        Medical    Male         1            Sales Executive   \n",
       "\n",
       "  MaritalStatus  MonthlyIncome  NumCompaniesWorked  PercentSalaryHike  \\\n",
       "0       Married         131160                 1.0                 11   \n",
       "1        Single          41890                 0.0                 23   \n",
       "2       Married         193280                 1.0                 15   \n",
       "3       Married          83210                 3.0                 11   \n",
       "4        Single          23420                 4.0                 12   \n",
       "\n",
       "   StockOptionLevel  TotalWorkingYears  TrainingTimesLastYear  YearsAtCompany  \\\n",
       "0                 0                1.0                      6               1   \n",
       "1                 1                6.0                      3               5   \n",
       "2                 3                5.0                      2               5   \n",
       "3                 3               13.0                      5               8   \n",
       "4                 2                9.0                      2               6   \n",
       "\n",
       "   YearsSinceLastPromotion  YearsWithCurrManager  \n",
       "0                        0                     0  \n",
       "1                        1                     4  \n",
       "2                        0                     3  \n",
       "3                        7                     5  \n",
       "4                        0                     4  "
      ]
     },
     "execution_count": 68,
     "metadata": {},
     "output_type": "execute_result"
    }
   ],
   "source": [
    "ds2.head()"
   ]
  },
  {
   "cell_type": "code",
   "execution_count": 69,
   "metadata": {},
   "outputs": [],
   "source": [
    "le = preprocessing.LabelEncoder()"
   ]
  },
  {
   "cell_type": "code",
   "execution_count": 70,
   "metadata": {},
   "outputs": [],
   "source": [
    "ds2['Attrition'] = le.fit_transform(ds2['Attrition'])\n",
    "ds2['BusinessTravel'] = le.fit_transform(ds2['BusinessTravel'])\n",
    "ds2['MaritalStatus'] = le.fit_transform(ds2['MaritalStatus'])\n",
    "ds2['Department'] = le.fit_transform(ds2['Department'])\n",
    "ds2['EducationField'] = le.fit_transform(ds2['EducationField'])\n",
    "ds2['Gender'] = le.fit_transform(ds2['Gender'])\n",
    "ds2['JobRole'] = le.fit_transform(ds2['JobRole'])"
   ]
  },
  {
   "cell_type": "code",
   "execution_count": 71,
   "metadata": {},
   "outputs": [
    {
     "data": {
      "text/html": [
       "<div>\n",
       "<style scoped>\n",
       "    .dataframe tbody tr th:only-of-type {\n",
       "        vertical-align: middle;\n",
       "    }\n",
       "\n",
       "    .dataframe tbody tr th {\n",
       "        vertical-align: top;\n",
       "    }\n",
       "\n",
       "    .dataframe thead th {\n",
       "        text-align: right;\n",
       "    }\n",
       "</style>\n",
       "<table border=\"1\" class=\"dataframe\">\n",
       "  <thead>\n",
       "    <tr style=\"text-align: right;\">\n",
       "      <th></th>\n",
       "      <th>Attrition</th>\n",
       "      <th>BusinessTravel</th>\n",
       "      <th>MaritalStatus</th>\n",
       "      <th>Department</th>\n",
       "      <th>EducationField</th>\n",
       "      <th>Gender</th>\n",
       "      <th>JobRole</th>\n",
       "    </tr>\n",
       "  </thead>\n",
       "  <tbody>\n",
       "    <tr>\n",
       "      <th>0</th>\n",
       "      <td>0</td>\n",
       "      <td>2</td>\n",
       "      <td>1</td>\n",
       "      <td>2</td>\n",
       "      <td>1</td>\n",
       "      <td>0</td>\n",
       "      <td>0</td>\n",
       "    </tr>\n",
       "    <tr>\n",
       "      <th>1</th>\n",
       "      <td>1</td>\n",
       "      <td>1</td>\n",
       "      <td>2</td>\n",
       "      <td>1</td>\n",
       "      <td>1</td>\n",
       "      <td>0</td>\n",
       "      <td>6</td>\n",
       "    </tr>\n",
       "    <tr>\n",
       "      <th>2</th>\n",
       "      <td>0</td>\n",
       "      <td>1</td>\n",
       "      <td>1</td>\n",
       "      <td>1</td>\n",
       "      <td>4</td>\n",
       "      <td>1</td>\n",
       "      <td>7</td>\n",
       "    </tr>\n",
       "    <tr>\n",
       "      <th>3</th>\n",
       "      <td>0</td>\n",
       "      <td>0</td>\n",
       "      <td>1</td>\n",
       "      <td>1</td>\n",
       "      <td>1</td>\n",
       "      <td>1</td>\n",
       "      <td>1</td>\n",
       "    </tr>\n",
       "    <tr>\n",
       "      <th>4</th>\n",
       "      <td>0</td>\n",
       "      <td>2</td>\n",
       "      <td>2</td>\n",
       "      <td>1</td>\n",
       "      <td>3</td>\n",
       "      <td>1</td>\n",
       "      <td>7</td>\n",
       "    </tr>\n",
       "  </tbody>\n",
       "</table>\n",
       "</div>"
      ],
      "text/plain": [
       "   Attrition  BusinessTravel  MaritalStatus  Department  EducationField  \\\n",
       "0          0               2              1           2               1   \n",
       "1          1               1              2           1               1   \n",
       "2          0               1              1           1               4   \n",
       "3          0               0              1           1               1   \n",
       "4          0               2              2           1               3   \n",
       "\n",
       "   Gender  JobRole  \n",
       "0       0        0  \n",
       "1       0        6  \n",
       "2       1        7  \n",
       "3       1        1  \n",
       "4       1        7  "
      ]
     },
     "execution_count": 71,
     "metadata": {},
     "output_type": "execute_result"
    }
   ],
   "source": [
    "# to display the newly modified coluumns \n",
    "ds2[['Attrition','BusinessTravel','MaritalStatus','Department','EducationField','Gender','JobRole']].head()"
   ]
  },
  {
   "cell_type": "code",
   "execution_count": 72,
   "metadata": {
    "scrolled": true
   },
   "outputs": [
    {
     "data": {
      "text/html": [
       "<div>\n",
       "<style scoped>\n",
       "    .dataframe tbody tr th:only-of-type {\n",
       "        vertical-align: middle;\n",
       "    }\n",
       "\n",
       "    .dataframe tbody tr th {\n",
       "        vertical-align: top;\n",
       "    }\n",
       "\n",
       "    .dataframe thead th {\n",
       "        text-align: right;\n",
       "    }\n",
       "</style>\n",
       "<table border=\"1\" class=\"dataframe\">\n",
       "  <thead>\n",
       "    <tr style=\"text-align: right;\">\n",
       "      <th></th>\n",
       "      <th>Age</th>\n",
       "      <th>Attrition</th>\n",
       "      <th>BusinessTravel</th>\n",
       "      <th>Department</th>\n",
       "      <th>DistanceFromHome</th>\n",
       "      <th>Education</th>\n",
       "      <th>EducationField</th>\n",
       "      <th>Gender</th>\n",
       "      <th>JobLevel</th>\n",
       "      <th>JobRole</th>\n",
       "      <th>MaritalStatus</th>\n",
       "      <th>MonthlyIncome</th>\n",
       "      <th>NumCompaniesWorked</th>\n",
       "      <th>PercentSalaryHike</th>\n",
       "      <th>StockOptionLevel</th>\n",
       "      <th>TotalWorkingYears</th>\n",
       "      <th>TrainingTimesLastYear</th>\n",
       "      <th>YearsAtCompany</th>\n",
       "      <th>YearsSinceLastPromotion</th>\n",
       "      <th>YearsWithCurrManager</th>\n",
       "    </tr>\n",
       "  </thead>\n",
       "  <tbody>\n",
       "    <tr>\n",
       "      <th>count</th>\n",
       "      <td>4382.000000</td>\n",
       "      <td>4382.000000</td>\n",
       "      <td>4382.000000</td>\n",
       "      <td>4382.000000</td>\n",
       "      <td>4382.000000</td>\n",
       "      <td>4382.000000</td>\n",
       "      <td>4382.000000</td>\n",
       "      <td>4382.000000</td>\n",
       "      <td>4382.000000</td>\n",
       "      <td>4382.000000</td>\n",
       "      <td>4382.000000</td>\n",
       "      <td>4382.000000</td>\n",
       "      <td>4382.000000</td>\n",
       "      <td>4382.000000</td>\n",
       "      <td>4382.000000</td>\n",
       "      <td>4382.000000</td>\n",
       "      <td>4382.000000</td>\n",
       "      <td>4382.000000</td>\n",
       "      <td>4382.000000</td>\n",
       "      <td>4382.000000</td>\n",
       "    </tr>\n",
       "    <tr>\n",
       "      <th>mean</th>\n",
       "      <td>36.933364</td>\n",
       "      <td>0.160885</td>\n",
       "      <td>1.607257</td>\n",
       "      <td>1.260840</td>\n",
       "      <td>9.198996</td>\n",
       "      <td>2.912369</td>\n",
       "      <td>2.247147</td>\n",
       "      <td>0.599270</td>\n",
       "      <td>2.063898</td>\n",
       "      <td>4.459836</td>\n",
       "      <td>1.099270</td>\n",
       "      <td>65061.702419</td>\n",
       "      <td>2.693291</td>\n",
       "      <td>15.210634</td>\n",
       "      <td>0.794614</td>\n",
       "      <td>11.290278</td>\n",
       "      <td>2.798266</td>\n",
       "      <td>7.010497</td>\n",
       "      <td>2.191693</td>\n",
       "      <td>4.126198</td>\n",
       "    </tr>\n",
       "    <tr>\n",
       "      <th>std</th>\n",
       "      <td>9.137272</td>\n",
       "      <td>0.367467</td>\n",
       "      <td>0.665635</td>\n",
       "      <td>0.527461</td>\n",
       "      <td>8.105396</td>\n",
       "      <td>1.024728</td>\n",
       "      <td>1.329810</td>\n",
       "      <td>0.490102</td>\n",
       "      <td>1.106115</td>\n",
       "      <td>2.461038</td>\n",
       "      <td>0.729559</td>\n",
       "      <td>47142.310175</td>\n",
       "      <td>2.497832</td>\n",
       "      <td>3.663007</td>\n",
       "      <td>0.852397</td>\n",
       "      <td>7.785717</td>\n",
       "      <td>1.289402</td>\n",
       "      <td>6.129351</td>\n",
       "      <td>3.224994</td>\n",
       "      <td>3.569674</td>\n",
       "    </tr>\n",
       "    <tr>\n",
       "      <th>min</th>\n",
       "      <td>18.000000</td>\n",
       "      <td>0.000000</td>\n",
       "      <td>0.000000</td>\n",
       "      <td>0.000000</td>\n",
       "      <td>1.000000</td>\n",
       "      <td>1.000000</td>\n",
       "      <td>0.000000</td>\n",
       "      <td>0.000000</td>\n",
       "      <td>1.000000</td>\n",
       "      <td>0.000000</td>\n",
       "      <td>0.000000</td>\n",
       "      <td>10090.000000</td>\n",
       "      <td>0.000000</td>\n",
       "      <td>11.000000</td>\n",
       "      <td>0.000000</td>\n",
       "      <td>0.000000</td>\n",
       "      <td>0.000000</td>\n",
       "      <td>0.000000</td>\n",
       "      <td>0.000000</td>\n",
       "      <td>0.000000</td>\n",
       "    </tr>\n",
       "    <tr>\n",
       "      <th>25%</th>\n",
       "      <td>30.000000</td>\n",
       "      <td>0.000000</td>\n",
       "      <td>1.000000</td>\n",
       "      <td>1.000000</td>\n",
       "      <td>2.000000</td>\n",
       "      <td>2.000000</td>\n",
       "      <td>1.000000</td>\n",
       "      <td>0.000000</td>\n",
       "      <td>1.000000</td>\n",
       "      <td>2.000000</td>\n",
       "      <td>1.000000</td>\n",
       "      <td>29110.000000</td>\n",
       "      <td>1.000000</td>\n",
       "      <td>12.000000</td>\n",
       "      <td>0.000000</td>\n",
       "      <td>6.000000</td>\n",
       "      <td>2.000000</td>\n",
       "      <td>3.000000</td>\n",
       "      <td>0.000000</td>\n",
       "      <td>2.000000</td>\n",
       "    </tr>\n",
       "    <tr>\n",
       "      <th>50%</th>\n",
       "      <td>36.000000</td>\n",
       "      <td>0.000000</td>\n",
       "      <td>2.000000</td>\n",
       "      <td>1.000000</td>\n",
       "      <td>7.000000</td>\n",
       "      <td>3.000000</td>\n",
       "      <td>2.000000</td>\n",
       "      <td>1.000000</td>\n",
       "      <td>2.000000</td>\n",
       "      <td>5.000000</td>\n",
       "      <td>1.000000</td>\n",
       "      <td>49190.000000</td>\n",
       "      <td>2.000000</td>\n",
       "      <td>14.000000</td>\n",
       "      <td>1.000000</td>\n",
       "      <td>10.000000</td>\n",
       "      <td>3.000000</td>\n",
       "      <td>5.000000</td>\n",
       "      <td>1.000000</td>\n",
       "      <td>3.000000</td>\n",
       "    </tr>\n",
       "    <tr>\n",
       "      <th>75%</th>\n",
       "      <td>43.000000</td>\n",
       "      <td>0.000000</td>\n",
       "      <td>2.000000</td>\n",
       "      <td>2.000000</td>\n",
       "      <td>14.000000</td>\n",
       "      <td>4.000000</td>\n",
       "      <td>3.000000</td>\n",
       "      <td>1.000000</td>\n",
       "      <td>3.000000</td>\n",
       "      <td>7.000000</td>\n",
       "      <td>2.000000</td>\n",
       "      <td>83790.000000</td>\n",
       "      <td>4.000000</td>\n",
       "      <td>18.000000</td>\n",
       "      <td>1.000000</td>\n",
       "      <td>15.000000</td>\n",
       "      <td>3.000000</td>\n",
       "      <td>9.000000</td>\n",
       "      <td>3.000000</td>\n",
       "      <td>7.000000</td>\n",
       "    </tr>\n",
       "    <tr>\n",
       "      <th>max</th>\n",
       "      <td>60.000000</td>\n",
       "      <td>1.000000</td>\n",
       "      <td>2.000000</td>\n",
       "      <td>2.000000</td>\n",
       "      <td>29.000000</td>\n",
       "      <td>5.000000</td>\n",
       "      <td>5.000000</td>\n",
       "      <td>1.000000</td>\n",
       "      <td>5.000000</td>\n",
       "      <td>8.000000</td>\n",
       "      <td>2.000000</td>\n",
       "      <td>199990.000000</td>\n",
       "      <td>9.000000</td>\n",
       "      <td>25.000000</td>\n",
       "      <td>3.000000</td>\n",
       "      <td>40.000000</td>\n",
       "      <td>6.000000</td>\n",
       "      <td>40.000000</td>\n",
       "      <td>15.000000</td>\n",
       "      <td>17.000000</td>\n",
       "    </tr>\n",
       "  </tbody>\n",
       "</table>\n",
       "</div>"
      ],
      "text/plain": [
       "               Age    Attrition  BusinessTravel   Department  \\\n",
       "count  4382.000000  4382.000000     4382.000000  4382.000000   \n",
       "mean     36.933364     0.160885        1.607257     1.260840   \n",
       "std       9.137272     0.367467        0.665635     0.527461   \n",
       "min      18.000000     0.000000        0.000000     0.000000   \n",
       "25%      30.000000     0.000000        1.000000     1.000000   \n",
       "50%      36.000000     0.000000        2.000000     1.000000   \n",
       "75%      43.000000     0.000000        2.000000     2.000000   \n",
       "max      60.000000     1.000000        2.000000     2.000000   \n",
       "\n",
       "       DistanceFromHome    Education  EducationField       Gender  \\\n",
       "count       4382.000000  4382.000000     4382.000000  4382.000000   \n",
       "mean           9.198996     2.912369        2.247147     0.599270   \n",
       "std            8.105396     1.024728        1.329810     0.490102   \n",
       "min            1.000000     1.000000        0.000000     0.000000   \n",
       "25%            2.000000     2.000000        1.000000     0.000000   \n",
       "50%            7.000000     3.000000        2.000000     1.000000   \n",
       "75%           14.000000     4.000000        3.000000     1.000000   \n",
       "max           29.000000     5.000000        5.000000     1.000000   \n",
       "\n",
       "          JobLevel      JobRole  MaritalStatus  MonthlyIncome  \\\n",
       "count  4382.000000  4382.000000    4382.000000    4382.000000   \n",
       "mean      2.063898     4.459836       1.099270   65061.702419   \n",
       "std       1.106115     2.461038       0.729559   47142.310175   \n",
       "min       1.000000     0.000000       0.000000   10090.000000   \n",
       "25%       1.000000     2.000000       1.000000   29110.000000   \n",
       "50%       2.000000     5.000000       1.000000   49190.000000   \n",
       "75%       3.000000     7.000000       2.000000   83790.000000   \n",
       "max       5.000000     8.000000       2.000000  199990.000000   \n",
       "\n",
       "       NumCompaniesWorked  PercentSalaryHike  StockOptionLevel  \\\n",
       "count         4382.000000        4382.000000       4382.000000   \n",
       "mean             2.693291          15.210634          0.794614   \n",
       "std              2.497832           3.663007          0.852397   \n",
       "min              0.000000          11.000000          0.000000   \n",
       "25%              1.000000          12.000000          0.000000   \n",
       "50%              2.000000          14.000000          1.000000   \n",
       "75%              4.000000          18.000000          1.000000   \n",
       "max              9.000000          25.000000          3.000000   \n",
       "\n",
       "       TotalWorkingYears  TrainingTimesLastYear  YearsAtCompany  \\\n",
       "count        4382.000000            4382.000000     4382.000000   \n",
       "mean           11.290278               2.798266        7.010497   \n",
       "std             7.785717               1.289402        6.129351   \n",
       "min             0.000000               0.000000        0.000000   \n",
       "25%             6.000000               2.000000        3.000000   \n",
       "50%            10.000000               3.000000        5.000000   \n",
       "75%            15.000000               3.000000        9.000000   \n",
       "max            40.000000               6.000000       40.000000   \n",
       "\n",
       "       YearsSinceLastPromotion  YearsWithCurrManager  \n",
       "count              4382.000000           4382.000000  \n",
       "mean                  2.191693              4.126198  \n",
       "std                   3.224994              3.569674  \n",
       "min                   0.000000              0.000000  \n",
       "25%                   0.000000              2.000000  \n",
       "50%                   1.000000              3.000000  \n",
       "75%                   3.000000              7.000000  \n",
       "max                  15.000000             17.000000  "
      ]
     },
     "execution_count": 72,
     "metadata": {},
     "output_type": "execute_result"
    }
   ],
   "source": [
    "# stats summary for full dataset\n",
    "ds2.describe()"
   ]
  },
  {
   "cell_type": "markdown",
   "metadata": {},
   "source": [
    "#### Note: In column Attrition \n",
    "\n",
    ">no  = 0\n",
    "\n",
    ">yes = 1"
   ]
  },
  {
   "cell_type": "code",
   "execution_count": 73,
   "metadata": {},
   "outputs": [],
   "source": [
    "# grouping the dataset by Yes or No for Attrition\n",
    "ds3 = ds2.groupby('Attrition')"
   ]
  },
  {
   "cell_type": "code",
   "execution_count": 128,
   "metadata": {
    "scrolled": false
   },
   "outputs": [
    {
     "data": {
      "text/html": [
       "<div>\n",
       "<style scoped>\n",
       "    .dataframe tbody tr th:only-of-type {\n",
       "        vertical-align: middle;\n",
       "    }\n",
       "\n",
       "    .dataframe tbody tr th {\n",
       "        vertical-align: top;\n",
       "    }\n",
       "\n",
       "    .dataframe thead th {\n",
       "        text-align: right;\n",
       "    }\n",
       "</style>\n",
       "<table border=\"1\" class=\"dataframe\">\n",
       "  <thead>\n",
       "    <tr style=\"text-align: right;\">\n",
       "      <th></th>\n",
       "      <th>Age</th>\n",
       "      <th>BusinessTravel</th>\n",
       "      <th>Department</th>\n",
       "      <th>DistanceFromHome</th>\n",
       "      <th>Education</th>\n",
       "      <th>EducationField</th>\n",
       "      <th>Gender</th>\n",
       "      <th>JobLevel</th>\n",
       "      <th>JobRole</th>\n",
       "      <th>MaritalStatus</th>\n",
       "      <th>MonthlyIncome</th>\n",
       "      <th>NumCompaniesWorked</th>\n",
       "      <th>PercentSalaryHike</th>\n",
       "      <th>StockOptionLevel</th>\n",
       "      <th>TotalWorkingYears</th>\n",
       "      <th>TrainingTimesLastYear</th>\n",
       "      <th>YearsAtCompany</th>\n",
       "      <th>YearsSinceLastPromotion</th>\n",
       "      <th>YearsWithCurrManager</th>\n",
       "    </tr>\n",
       "    <tr>\n",
       "      <th>Attrition</th>\n",
       "      <th></th>\n",
       "      <th></th>\n",
       "      <th></th>\n",
       "      <th></th>\n",
       "      <th></th>\n",
       "      <th></th>\n",
       "      <th></th>\n",
       "      <th></th>\n",
       "      <th></th>\n",
       "      <th></th>\n",
       "      <th></th>\n",
       "      <th></th>\n",
       "      <th></th>\n",
       "      <th></th>\n",
       "      <th></th>\n",
       "      <th></th>\n",
       "      <th></th>\n",
       "      <th></th>\n",
       "      <th></th>\n",
       "    </tr>\n",
       "  </thead>\n",
       "  <tbody>\n",
       "    <tr>\n",
       "      <th>0</th>\n",
       "      <td>37.567038</td>\n",
       "      <td>1.607017</td>\n",
       "      <td>1.271145</td>\n",
       "      <td>9.232527</td>\n",
       "      <td>2.920044</td>\n",
       "      <td>2.280392</td>\n",
       "      <td>0.595322</td>\n",
       "      <td>2.069894</td>\n",
       "      <td>4.431058</td>\n",
       "      <td>1.048137</td>\n",
       "      <td>65684.209954</td>\n",
       "      <td>2.646451</td>\n",
       "      <td>15.157465</td>\n",
       "      <td>0.797661</td>\n",
       "      <td>11.868643</td>\n",
       "      <td>2.825129</td>\n",
       "      <td>7.367419</td>\n",
       "      <td>2.236062</td>\n",
       "      <td>4.367963</td>\n",
       "    </tr>\n",
       "    <tr>\n",
       "      <th>1</th>\n",
       "      <td>33.628369</td>\n",
       "      <td>1.608511</td>\n",
       "      <td>1.207092</td>\n",
       "      <td>9.024113</td>\n",
       "      <td>2.872340</td>\n",
       "      <td>2.073759</td>\n",
       "      <td>0.619858</td>\n",
       "      <td>2.032624</td>\n",
       "      <td>4.609929</td>\n",
       "      <td>1.365957</td>\n",
       "      <td>61814.950355</td>\n",
       "      <td>2.937589</td>\n",
       "      <td>15.487943</td>\n",
       "      <td>0.778723</td>\n",
       "      <td>8.273759</td>\n",
       "      <td>2.658156</td>\n",
       "      <td>5.148936</td>\n",
       "      <td>1.960284</td>\n",
       "      <td>2.865248</td>\n",
       "    </tr>\n",
       "  </tbody>\n",
       "</table>\n",
       "</div>"
      ],
      "text/plain": [
       "                 Age  BusinessTravel  Department  DistanceFromHome  Education  \\\n",
       "Attrition                                                                       \n",
       "0          37.567038        1.607017    1.271145          9.232527   2.920044   \n",
       "1          33.628369        1.608511    1.207092          9.024113   2.872340   \n",
       "\n",
       "           EducationField    Gender  JobLevel   JobRole  MaritalStatus  \\\n",
       "Attrition                                                                \n",
       "0                2.280392  0.595322  2.069894  4.431058       1.048137   \n",
       "1                2.073759  0.619858  2.032624  4.609929       1.365957   \n",
       "\n",
       "           MonthlyIncome  NumCompaniesWorked  PercentSalaryHike  \\\n",
       "Attrition                                                         \n",
       "0           65684.209954            2.646451          15.157465   \n",
       "1           61814.950355            2.937589          15.487943   \n",
       "\n",
       "           StockOptionLevel  TotalWorkingYears  TrainingTimesLastYear  \\\n",
       "Attrition                                                               \n",
       "0                  0.797661          11.868643               2.825129   \n",
       "1                  0.778723           8.273759               2.658156   \n",
       "\n",
       "           YearsAtCompany  YearsSinceLastPromotion  YearsWithCurrManager  \n",
       "Attrition                                                                 \n",
       "0                7.367419                 2.236062              4.367963  \n",
       "1                5.148936                 1.960284              2.865248  "
      ]
     },
     "execution_count": 128,
     "metadata": {},
     "output_type": "execute_result"
    }
   ],
   "source": [
    "# we get mean of all columns or both attrition = no and yes \n",
    "ds3.mean()"
   ]
  },
  {
   "cell_type": "markdown",
   "metadata": {},
   "source": [
    "Similarly we can check the other stats "
   ]
  },
  {
   "cell_type": "code",
   "execution_count": 129,
   "metadata": {
    "scrolled": true
   },
   "outputs": [],
   "source": [
    "# Cheking the mean, median, variance, skewness for grouped dataset\n",
    "# and checking mode, Kurt for ungrouped dataset\n",
    "df = [ds3.mean().transpose(), ds3.median().transpose(), \n",
    "      ds2.mode().transpose(),ds3.var().transpose(), \n",
    "      ds3.skew().transpose(), ds2.kurt().transpose()]"
   ]
  },
  {
   "cell_type": "code",
   "execution_count": 130,
   "metadata": {
    "scrolled": false
   },
   "outputs": [
    {
     "data": {
      "text/html": [
       "<div>\n",
       "<style scoped>\n",
       "    .dataframe tbody tr th:only-of-type {\n",
       "        vertical-align: middle;\n",
       "    }\n",
       "\n",
       "    .dataframe tbody tr th {\n",
       "        vertical-align: top;\n",
       "    }\n",
       "\n",
       "    .dataframe thead tr th {\n",
       "        text-align: left;\n",
       "    }\n",
       "</style>\n",
       "<table border=\"1\" class=\"dataframe\">\n",
       "  <thead>\n",
       "    <tr>\n",
       "      <th></th>\n",
       "      <th colspan=\"2\" halign=\"left\">Mean()</th>\n",
       "      <th colspan=\"2\" halign=\"left\">Median()</th>\n",
       "      <th>Mode()</th>\n",
       "      <th colspan=\"2\" halign=\"left\">Var()</th>\n",
       "      <th colspan=\"2\" halign=\"left\">Skew()</th>\n",
       "      <th>Kurt()</th>\n",
       "    </tr>\n",
       "    <tr>\n",
       "      <th>Attrition</th>\n",
       "      <th>0</th>\n",
       "      <th>1</th>\n",
       "      <th>0</th>\n",
       "      <th>1</th>\n",
       "      <th>0</th>\n",
       "      <th>0</th>\n",
       "      <th>1</th>\n",
       "      <th>0</th>\n",
       "      <th>1</th>\n",
       "      <th>0</th>\n",
       "    </tr>\n",
       "  </thead>\n",
       "  <tbody>\n",
       "    <tr>\n",
       "      <th>Age</th>\n",
       "      <td>37.567038</td>\n",
       "      <td>33.628369</td>\n",
       "      <td>36.0</td>\n",
       "      <td>32.0</td>\n",
       "      <td>35.0</td>\n",
       "      <td>7.906440e+01</td>\n",
       "      <td>9.367988e+01</td>\n",
       "      <td>0.406885</td>\n",
       "      <td>0.714479</td>\n",
       "      <td>-0.409517</td>\n",
       "    </tr>\n",
       "    <tr>\n",
       "      <th>BusinessTravel</th>\n",
       "      <td>1.607017</td>\n",
       "      <td>1.608511</td>\n",
       "      <td>2.0</td>\n",
       "      <td>2.0</td>\n",
       "      <td>2.0</td>\n",
       "      <td>4.627690e-01</td>\n",
       "      <td>3.408366e-01</td>\n",
       "      <td>-1.459686</td>\n",
       "      <td>-1.201873</td>\n",
       "      <td>0.695632</td>\n",
       "    </tr>\n",
       "    <tr>\n",
       "      <th>Department</th>\n",
       "      <td>1.271145</td>\n",
       "      <td>1.207092</td>\n",
       "      <td>1.0</td>\n",
       "      <td>1.0</td>\n",
       "      <td>1.0</td>\n",
       "      <td>2.694963e-01</td>\n",
       "      <td>3.206883e-01</td>\n",
       "      <td>0.229290</td>\n",
       "      <td>-0.004108</td>\n",
       "      <td>-0.394980</td>\n",
       "    </tr>\n",
       "    <tr>\n",
       "      <th>DistanceFromHome</th>\n",
       "      <td>9.232527</td>\n",
       "      <td>9.024113</td>\n",
       "      <td>7.0</td>\n",
       "      <td>7.0</td>\n",
       "      <td>2.0</td>\n",
       "      <td>6.677209e+01</td>\n",
       "      <td>6.014288e+01</td>\n",
       "      <td>0.953779</td>\n",
       "      <td>0.957983</td>\n",
       "      <td>-0.230691</td>\n",
       "    </tr>\n",
       "    <tr>\n",
       "      <th>Education</th>\n",
       "      <td>2.920044</td>\n",
       "      <td>2.872340</td>\n",
       "      <td>3.0</td>\n",
       "      <td>3.0</td>\n",
       "      <td>3.0</td>\n",
       "      <td>1.053997e+00</td>\n",
       "      <td>1.029134e+00</td>\n",
       "      <td>-0.303039</td>\n",
       "      <td>-0.217029</td>\n",
       "      <td>-0.565008</td>\n",
       "    </tr>\n",
       "    <tr>\n",
       "      <th>EducationField</th>\n",
       "      <td>2.280392</td>\n",
       "      <td>2.073759</td>\n",
       "      <td>2.0</td>\n",
       "      <td>2.0</td>\n",
       "      <td>1.0</td>\n",
       "      <td>1.781805e+00</td>\n",
       "      <td>1.665006e+00</td>\n",
       "      <td>0.545219</td>\n",
       "      <td>0.570440</td>\n",
       "      <td>-0.687173</td>\n",
       "    </tr>\n",
       "    <tr>\n",
       "      <th>Gender</th>\n",
       "      <td>0.595322</td>\n",
       "      <td>0.619858</td>\n",
       "      <td>1.0</td>\n",
       "      <td>1.0</td>\n",
       "      <td>1.0</td>\n",
       "      <td>2.409792e-01</td>\n",
       "      <td>2.359687e-01</td>\n",
       "      <td>-0.388571</td>\n",
       "      <td>-0.494885</td>\n",
       "      <td>-1.836584</td>\n",
       "    </tr>\n",
       "    <tr>\n",
       "      <th>JobLevel</th>\n",
       "      <td>2.069894</td>\n",
       "      <td>2.032624</td>\n",
       "      <td>2.0</td>\n",
       "      <td>2.0</td>\n",
       "      <td>1.0</td>\n",
       "      <td>1.247290e+00</td>\n",
       "      <td>1.099786e+00</td>\n",
       "      <td>1.014550</td>\n",
       "      <td>1.053776</td>\n",
       "      <td>0.388189</td>\n",
       "    </tr>\n",
       "    <tr>\n",
       "      <th>JobRole</th>\n",
       "      <td>4.431058</td>\n",
       "      <td>4.609929</td>\n",
       "      <td>5.0</td>\n",
       "      <td>6.0</td>\n",
       "      <td>7.0</td>\n",
       "      <td>6.094606e+00</td>\n",
       "      <td>5.840526e+00</td>\n",
       "      <td>-0.334043</td>\n",
       "      <td>-0.484378</td>\n",
       "      <td>-1.194397</td>\n",
       "    </tr>\n",
       "    <tr>\n",
       "      <th>MaritalStatus</th>\n",
       "      <td>1.048137</td>\n",
       "      <td>1.365957</td>\n",
       "      <td>1.0</td>\n",
       "      <td>2.0</td>\n",
       "      <td>1.0</td>\n",
       "      <td>5.202611e-01</td>\n",
       "      <td>5.107713e-01</td>\n",
       "      <td>-0.072237</td>\n",
       "      <td>-0.668578</td>\n",
       "      <td>-1.112941</td>\n",
       "    </tr>\n",
       "    <tr>\n",
       "      <th>MonthlyIncome</th>\n",
       "      <td>65684.209954</td>\n",
       "      <td>61814.950355</td>\n",
       "      <td>49300.0</td>\n",
       "      <td>49080.0</td>\n",
       "      <td>23420.0</td>\n",
       "      <td>2.260283e+09</td>\n",
       "      <td>2.015153e+09</td>\n",
       "      <td>1.337715</td>\n",
       "      <td>1.536183</td>\n",
       "      <td>0.990836</td>\n",
       "    </tr>\n",
       "    <tr>\n",
       "      <th>NumCompaniesWorked</th>\n",
       "      <td>2.646451</td>\n",
       "      <td>2.937589</td>\n",
       "      <td>2.0</td>\n",
       "      <td>1.0</td>\n",
       "      <td>1.0</td>\n",
       "      <td>6.045263e+00</td>\n",
       "      <td>7.189281e+00</td>\n",
       "      <td>1.060904</td>\n",
       "      <td>0.864889</td>\n",
       "      <td>0.014307</td>\n",
       "    </tr>\n",
       "    <tr>\n",
       "      <th>PercentSalaryHike</th>\n",
       "      <td>15.157465</td>\n",
       "      <td>15.487943</td>\n",
       "      <td>14.0</td>\n",
       "      <td>14.0</td>\n",
       "      <td>11.0</td>\n",
       "      <td>1.322846e+01</td>\n",
       "      <td>1.433260e+01</td>\n",
       "      <td>0.830327</td>\n",
       "      <td>0.760011</td>\n",
       "      <td>-0.306951</td>\n",
       "    </tr>\n",
       "    <tr>\n",
       "      <th>StockOptionLevel</th>\n",
       "      <td>0.797661</td>\n",
       "      <td>0.778723</td>\n",
       "      <td>1.0</td>\n",
       "      <td>1.0</td>\n",
       "      <td>0.0</td>\n",
       "      <td>7.250979e-01</td>\n",
       "      <td>7.350580e-01</td>\n",
       "      <td>0.970007</td>\n",
       "      <td>0.956491</td>\n",
       "      <td>0.356755</td>\n",
       "    </tr>\n",
       "    <tr>\n",
       "      <th>TotalWorkingYears</th>\n",
       "      <td>11.868643</td>\n",
       "      <td>8.273759</td>\n",
       "      <td>10.0</td>\n",
       "      <td>7.0</td>\n",
       "      <td>10.0</td>\n",
       "      <td>6.029912e+01</td>\n",
       "      <td>5.150592e+01</td>\n",
       "      <td>1.065443</td>\n",
       "      <td>1.674396</td>\n",
       "      <td>0.909316</td>\n",
       "    </tr>\n",
       "    <tr>\n",
       "      <th>TrainingTimesLastYear</th>\n",
       "      <td>2.825129</td>\n",
       "      <td>2.658156</td>\n",
       "      <td>3.0</td>\n",
       "      <td>3.0</td>\n",
       "      <td>2.0</td>\n",
       "      <td>1.721044e+00</td>\n",
       "      <td>1.336102e+00</td>\n",
       "      <td>0.556424</td>\n",
       "      <td>0.416718</td>\n",
       "      <td>0.494215</td>\n",
       "    </tr>\n",
       "    <tr>\n",
       "      <th>YearsAtCompany</th>\n",
       "      <td>7.367419</td>\n",
       "      <td>5.148936</td>\n",
       "      <td>6.0</td>\n",
       "      <td>3.0</td>\n",
       "      <td>5.0</td>\n",
       "      <td>3.717699e+01</td>\n",
       "      <td>3.553318e+01</td>\n",
       "      <td>1.658986</td>\n",
       "      <td>2.659829</td>\n",
       "      <td>3.930726</td>\n",
       "    </tr>\n",
       "    <tr>\n",
       "      <th>YearsSinceLastPromotion</th>\n",
       "      <td>2.236062</td>\n",
       "      <td>1.960284</td>\n",
       "      <td>1.0</td>\n",
       "      <td>1.0</td>\n",
       "      <td>0.0</td>\n",
       "      <td>1.047364e+01</td>\n",
       "      <td>9.970011e+00</td>\n",
       "      <td>1.944890</td>\n",
       "      <td>2.195541</td>\n",
       "      <td>3.592162</td>\n",
       "    </tr>\n",
       "    <tr>\n",
       "      <th>YearsWithCurrManager</th>\n",
       "      <td>4.367963</td>\n",
       "      <td>2.865248</td>\n",
       "      <td>3.0</td>\n",
       "      <td>2.0</td>\n",
       "      <td>2.0</td>\n",
       "      <td>1.292686e+01</td>\n",
       "      <td>9.900850e+00</td>\n",
       "      <td>0.803398</td>\n",
       "      <td>1.017582</td>\n",
       "      <td>0.170703</td>\n",
       "    </tr>\n",
       "    <tr>\n",
       "      <th>Attrition</th>\n",
       "      <td>NaN</td>\n",
       "      <td>NaN</td>\n",
       "      <td>NaN</td>\n",
       "      <td>NaN</td>\n",
       "      <td>0.0</td>\n",
       "      <td>NaN</td>\n",
       "      <td>NaN</td>\n",
       "      <td>NaN</td>\n",
       "      <td>NaN</td>\n",
       "      <td>1.410313</td>\n",
       "    </tr>\n",
       "  </tbody>\n",
       "</table>\n",
       "</div>"
      ],
      "text/plain": [
       "                               Mean()               Median()           \\\n",
       "Attrition                           0             1        0        1   \n",
       "Age                         37.567038     33.628369     36.0     32.0   \n",
       "BusinessTravel               1.607017      1.608511      2.0      2.0   \n",
       "Department                   1.271145      1.207092      1.0      1.0   \n",
       "DistanceFromHome             9.232527      9.024113      7.0      7.0   \n",
       "Education                    2.920044      2.872340      3.0      3.0   \n",
       "EducationField               2.280392      2.073759      2.0      2.0   \n",
       "Gender                       0.595322      0.619858      1.0      1.0   \n",
       "JobLevel                     2.069894      2.032624      2.0      2.0   \n",
       "JobRole                      4.431058      4.609929      5.0      6.0   \n",
       "MaritalStatus                1.048137      1.365957      1.0      2.0   \n",
       "MonthlyIncome            65684.209954  61814.950355  49300.0  49080.0   \n",
       "NumCompaniesWorked           2.646451      2.937589      2.0      1.0   \n",
       "PercentSalaryHike           15.157465     15.487943     14.0     14.0   \n",
       "StockOptionLevel             0.797661      0.778723      1.0      1.0   \n",
       "TotalWorkingYears           11.868643      8.273759     10.0      7.0   \n",
       "TrainingTimesLastYear        2.825129      2.658156      3.0      3.0   \n",
       "YearsAtCompany               7.367419      5.148936      6.0      3.0   \n",
       "YearsSinceLastPromotion      2.236062      1.960284      1.0      1.0   \n",
       "YearsWithCurrManager         4.367963      2.865248      3.0      2.0   \n",
       "Attrition                         NaN           NaN      NaN      NaN   \n",
       "\n",
       "                          Mode()         Var()                  Skew()  \\\n",
       "Attrition                      0             0             1         0   \n",
       "Age                         35.0  7.906440e+01  9.367988e+01  0.406885   \n",
       "BusinessTravel               2.0  4.627690e-01  3.408366e-01 -1.459686   \n",
       "Department                   1.0  2.694963e-01  3.206883e-01  0.229290   \n",
       "DistanceFromHome             2.0  6.677209e+01  6.014288e+01  0.953779   \n",
       "Education                    3.0  1.053997e+00  1.029134e+00 -0.303039   \n",
       "EducationField               1.0  1.781805e+00  1.665006e+00  0.545219   \n",
       "Gender                       1.0  2.409792e-01  2.359687e-01 -0.388571   \n",
       "JobLevel                     1.0  1.247290e+00  1.099786e+00  1.014550   \n",
       "JobRole                      7.0  6.094606e+00  5.840526e+00 -0.334043   \n",
       "MaritalStatus                1.0  5.202611e-01  5.107713e-01 -0.072237   \n",
       "MonthlyIncome            23420.0  2.260283e+09  2.015153e+09  1.337715   \n",
       "NumCompaniesWorked           1.0  6.045263e+00  7.189281e+00  1.060904   \n",
       "PercentSalaryHike           11.0  1.322846e+01  1.433260e+01  0.830327   \n",
       "StockOptionLevel             0.0  7.250979e-01  7.350580e-01  0.970007   \n",
       "TotalWorkingYears           10.0  6.029912e+01  5.150592e+01  1.065443   \n",
       "TrainingTimesLastYear        2.0  1.721044e+00  1.336102e+00  0.556424   \n",
       "YearsAtCompany               5.0  3.717699e+01  3.553318e+01  1.658986   \n",
       "YearsSinceLastPromotion      0.0  1.047364e+01  9.970011e+00  1.944890   \n",
       "YearsWithCurrManager         2.0  1.292686e+01  9.900850e+00  0.803398   \n",
       "Attrition                    0.0           NaN           NaN       NaN   \n",
       "\n",
       "                                     Kurt()  \n",
       "Attrition                       1         0  \n",
       "Age                      0.714479 -0.409517  \n",
       "BusinessTravel          -1.201873  0.695632  \n",
       "Department              -0.004108 -0.394980  \n",
       "DistanceFromHome         0.957983 -0.230691  \n",
       "Education               -0.217029 -0.565008  \n",
       "EducationField           0.570440 -0.687173  \n",
       "Gender                  -0.494885 -1.836584  \n",
       "JobLevel                 1.053776  0.388189  \n",
       "JobRole                 -0.484378 -1.194397  \n",
       "MaritalStatus           -0.668578 -1.112941  \n",
       "MonthlyIncome            1.536183  0.990836  \n",
       "NumCompaniesWorked       0.864889  0.014307  \n",
       "PercentSalaryHike        0.760011 -0.306951  \n",
       "StockOptionLevel         0.956491  0.356755  \n",
       "TotalWorkingYears        1.674396  0.909316  \n",
       "TrainingTimesLastYear    0.416718  0.494215  \n",
       "YearsAtCompany           2.659829  3.930726  \n",
       "YearsSinceLastPromotion  2.195541  3.592162  \n",
       "YearsWithCurrManager     1.017582  0.170703  \n",
       "Attrition                     NaN  1.410313  "
      ]
     },
     "execution_count": 130,
     "metadata": {},
     "output_type": "execute_result"
    }
   ],
   "source": [
    "pd.concat( df, axis=1, keys=['Mean()', 'Median()', 'Mode()','Var()','Skew()','Kurt()'])"
   ]
  },
  {
   "cell_type": "markdown",
   "metadata": {},
   "source": [
    "#### Interesting obeservations from the above table\n",
    "The column with _**'0'**_ represents _**NO**_ for Attrition\n",
    "\n",
    "The column with _**'1'**_ represents _**YES**_ for Attrition\n",
    "\n",
    "1. The average Age of current employees is _**37.5**_ \n",
    "   \n",
    "   The average Age of ex - employees is _**33.6**_\n",
    "\n",
    "\n",
    "2. The average YearsAtCompany of current employees is _**7.3**_\n",
    "   \n",
    "   The average YearsAtCompany of ex - employees is _**5.1**_\n",
    "\n",
    "\n",
    "3. The average YearsSinceLastPromotion of current employees is _**2.2**_\n",
    "   \n",
    "   The average YearsSinceLastPromotion of ex - employees is _**1.96**_\n",
    " \n",
    " \n",
    "4. The average YearsWithCurrManager of current employees is _**4.3**_\n",
    "   \n",
    "   The average YearsWithCurrManager of ex - employees is _**2.8**_\n",
    "   \n",
    "   \n",
    "5. The average MaritalStatus of current employees is _**1.04**_\n",
    "   \n",
    "   The average MaritalStatus of ex - employees is _**1.36**_\n",
    "   \n",
    "   \n",
    "6. The average PercentSalaryHike of current employees is _**15.1**_\n",
    "   \n",
    "   The average PercentSalaryHike of ex - employees is _**15.4**_\n",
    "    \n",
    "#### These observations can considered as H0 and H1 statements for testing "
   ]
  },
  {
   "cell_type": "markdown",
   "metadata": {},
   "source": [
    "### The same observations can be seen in the below histographs \n",
    "- The 1st set of graphs are for Attrition = _**NO**_\n",
    "- The 2nd set of graphs are for Attrition = _**YES**_"
   ]
  },
  {
   "cell_type": "markdown",
   "metadata": {},
   "source": [
    "#### Ploting the histograph for grouped dataset"
   ]
  },
  {
   "cell_type": "code",
   "execution_count": 136,
   "metadata": {
    "scrolled": true
   },
   "outputs": [
    {
     "data": {
      "image/png": "[encoded data removed]",
      "text/plain": [
       "<Figure size 720x360 with 1 Axes>"
      ]
     },
     "metadata": {
      "needs_background": "light"
     },
     "output_type": "display_data"
    }
   ],
   "source": [
    "ds3.Age.hist(figsize=(10,5))\n",
    "plt.show()"
   ]
  },
  {
   "cell_type": "markdown",
   "metadata": {},
   "source": [
    "> As we can observe the mean age of employees who leave the company is around 33(orange) and those who stay is around 37(blue) as we have already seen in the above table\n",
    "\n",
    "#### Likewise we can plot a similar graph for other columns "
   ]
  },
  {
   "cell_type": "code",
   "execution_count": 121,
   "metadata": {
    "scrolled": false
   },
   "outputs": [
    {
     "data": {
      "image/png": "[encoded data removed]",
      "text/plain": [
       "<Figure size 1440x1440 with 20 Axes>"
      ]
     },
     "metadata": {
      "needs_background": "light"
     },
     "output_type": "display_data"
    },
    {
     "data": {
      "image/png": "[encoded data removed]",
      "text/plain": [
       "<Figure size 1440x1440 with 20 Axes>"
      ]
     },
     "metadata": {
      "needs_background": "light"
     },
     "output_type": "display_data"
    }
   ],
   "source": [
    "ds3.hist(figsize=(20,20))\n",
    "plt.show()"
   ]
  },
  {
   "cell_type": "markdown",
   "metadata": {},
   "source": [
    "### Ploting the heatmap "
   ]
  },
  {
   "cell_type": "code",
   "execution_count": 163,
   "metadata": {
    "scrolled": true
   },
   "outputs": [],
   "source": [
    "# Calculate correlations\n",
    "corr = ds2.corr()\n",
    "#print(corr)\n",
    "# to create a zero matrix of size/shape corr\n",
    "heatmap_mask = np.zeros_like(corr)\n",
    "\n",
    "# Return the indices for the upper-triangle and mae them eual to 1\n",
    "heatmap_mask[np.triu_indices_from(heatmap_mask)] = True\n",
    "#print(heatmap_mask)"
   ]
  },
  {
   "cell_type": "code",
   "execution_count": 165,
   "metadata": {},
   "outputs": [
    {
     "data": {
      "text/plain": [
       "<matplotlib.axes._subplots.AxesSubplot at 0x1d81f624ec8>"
      ]
     },
     "execution_count": 165,
     "metadata": {},
     "output_type": "execute_result"
    },
    {
     "data": {
      "image/png": "[encoded data removed]",
      "text/plain": [
       "<Figure size 1440x1080 with 2 Axes>"
      ]
     },
     "metadata": {
      "needs_background": "light"
     },
     "output_type": "display_data"
    }
   ],
   "source": [
    "# Heatmap for visualizeing \n",
    "# to set the size of the map uusing mathplotlib.pyplot\n",
    "plt.figure(figsize=(20, 15))\n",
    "# heatmap parameters used \n",
    "# mask -> masks cell which is true(1)\n",
    "# annot ->  to display values inside each cell\n",
    "# linewidths -> for spacing bwtn cells \n",
    "sns.heatmap(corr,mask=heatmap_mask, annot=True, linewidths=.3)"
   ]
  },
  {
   "cell_type": "markdown",
   "metadata": {},
   "source": [
    "#### Inference from the above analysis\n",
    ">  As shown above in heat map, \"Monthly Rate\", \"Number of Companies Worked\" and \"Distance From Home\" are positively correlated to Attrition while \"Total Working Years\", \"Job Level\", and \"Years In Current Role\" are negatively correlated to Attrition."
   ]
  },
  {
   "cell_type": "markdown",
   "metadata": {},
   "source": [
    "## Outliers"
   ]
  },
  {
   "cell_type": "code",
   "execution_count": 173,
   "metadata": {
    "scrolled": false
   },
   "outputs": [
    {
     "data": {
      "text/plain": [
       "{'whiskers': [<matplotlib.lines.Line2D at 0x1d8241c3488>,\n",
       "  <matplotlib.lines.Line2D at 0x1d8241a5f88>],\n",
       " 'caps': [<matplotlib.lines.Line2D at 0x1d8241c3f88>,\n",
       "  <matplotlib.lines.Line2D at 0x1d8241c3bc8>],\n",
       " 'boxes': [<matplotlib.lines.Line2D at 0x1d8241a5dc8>],\n",
       " 'medians': [<matplotlib.lines.Line2D at 0x1d8241c9a88>],\n",
       " 'fliers': [<matplotlib.lines.Line2D at 0x1d8241c3dc8>],\n",
       " 'means': []}"
      ]
     },
     "execution_count": 173,
     "metadata": {},
     "output_type": "execute_result"
    },
    {
     "data": {
      "image/png": "[encoded data removed]",
      "text/plain": [
       "<Figure size 432x288 with 1 Axes>"
      ]
     },
     "metadata": {
      "needs_background": "light"
     },
     "output_type": "display_data"
    }
   ],
   "source": [
    "box_plot = ds2.MonthlyIncome\n",
    "plt.boxplot(box_plot)"
   ]
  },
  {
   "cell_type": "code",
   "execution_count": 175,
   "metadata": {
    "scrolled": false
   },
   "outputs": [
    {
     "data": {
      "text/plain": [
       "{'whiskers': [<matplotlib.lines.Line2D at 0x1d8241ebd88>,\n",
       "  <matplotlib.lines.Line2D at 0x1d8241eb748>],\n",
       " 'caps': [<matplotlib.lines.Line2D at 0x1d8241f3408>,\n",
       "  <matplotlib.lines.Line2D at 0x1d8241f3648>],\n",
       " 'boxes': [<matplotlib.lines.Line2D at 0x1d8241eb608>],\n",
       " 'medians': [<matplotlib.lines.Line2D at 0x1d8241f9bc8>],\n",
       " 'fliers': [<matplotlib.lines.Line2D at 0x1d824196788>],\n",
       " 'means': []}"
      ]
     },
     "execution_count": 175,
     "metadata": {},
     "output_type": "execute_result"
    },
    {
     "data": {
      "image/png": "[encoded data removed]",
      "text/plain": [
       "<Figure size 432x288 with 1 Axes>"
      ]
     },
     "metadata": {
      "needs_background": "light"
     },
     "output_type": "display_data"
    }
   ],
   "source": [
    "box_plot=ds2.YearsAtCompany\n",
    "plt.boxplot(box_plot)"
   ]
  },
  {
   "cell_type": "markdown",
   "metadata": {},
   "source": [
    "#### It can be observed that we have a lot of outliners for MonthlyIncome & YearsAtCompany columns "
   ]
  },
  {
   "cell_type": "markdown",
   "metadata": {},
   "source": [
    "## Data Description and Exploratory Visualisations"
   ]
  },
  {
   "cell_type": "markdown",
   "metadata": {
    "_cell_guid": "9c5a80c1-fc40-2aff-4cb1-f70559a569f0",
    "_uuid": "ecbf1071bfdc7b61d20f60fc7c365601093afcc2"
   },
   "source": [
    "##  box plots, means, standard deviations, and z-tests to explore the attrition"
   ]
  },
  {
   "cell_type": "code",
   "execution_count": 176,
   "metadata": {},
   "outputs": [],
   "source": [
    "def display_ttest(data, category, numeric):\n",
    "    output = {}\n",
    "    s1 = data[data[category] == data[category].unique()[0]][numeric]\n",
    "    s2 = data[data[category] == data[category].unique()[1]][numeric]\n",
    "    from scipy.stats import ttest_ind\n",
    "    t, p = ttest_ind(s1,s2)\n",
    "    from IPython.display import display\n",
    "    from pandas import DataFrame\n",
    "    display(DataFrame(data=[{\"t-test statistic\" : t, \"p-value\" : p}], columns=[\"t-test statistic\", \"p-value\"], index=[category]).round(2))\n",
    "\n",
    "def display_ztest(data, category, numeric):\n",
    "    output = {}\n",
    "    s1 = data[data[category] == data[category].unique()[0]][numeric]\n",
    "    s2 = data[data[category] == data[category].unique()[1]][numeric]\n",
    "    from statsmodels.stats.weightstats import ztest\n",
    "    z, p = ztest(s1,s2)\n",
    "    from IPython.display import display\n",
    "    from pandas import DataFrame\n",
    "    display(DataFrame(data=[{\"z-test statistic\" : z, \"p-value\" : p}], columns=[\"z-test statistic\", \"p-value\"], index=[category]).round(2))\n",
    "  "
   ]
  },
  {
   "cell_type": "code",
   "execution_count": 206,
   "metadata": {},
   "outputs": [],
   "source": [
    "def display_cxn_analysis(data, category, numeric, target):\n",
    "    \n",
    "    from seaborn import boxplot, set_style\n",
    "    from matplotlib.pyplot import show, figure, subplots, ylabel, xlabel, subplot, suptitle\n",
    "    \n",
    "    not_target = [a for a in data[category].unique() if a != target][0]\n",
    "    \n",
    "    pal = {target : \"yellow\",\n",
    "          not_target : \"darkgrey\"}\n",
    "    \n",
    "\n",
    "    set_style(\"whitegrid\")\n",
    "    figure(figsize=(12,5))\n",
    "    suptitle(numeric + \" by \" + category)\n",
    " \n",
    "    \n",
    "    p1 = subplot(2,2,2)\n",
    "    boxplot(y=category, x=numeric, data=data, orient=\"h\", palette = pal)\n",
    "    p1.get_xaxis().set_visible(False)\n",
    "    \n",
    "    #display p value\n",
    "    \n",
    "    if(data[category].value_counts()[0] > 30 and data[category].value_counts()[1] > 30):\n",
    "        display_ztest(data,category,numeric)\n",
    "    else:\n",
    "        display_ttest(data,category,numeric)\n",
    "    \n",
    "    #Means, Standard Deviation, Absolute Distance\n",
    "    table = data[[category,numeric]]\n",
    "    \n",
    "    means = table.groupby(category).mean()\n",
    "    stds = table.groupby(category).std()\n",
    "    \n",
    "    s1_mean = means.loc[data[category].unique()[0]]\n",
    "    s1_std = stds.loc[data[category].unique()[0]]\n",
    "    \n",
    "    s2_mean = means.loc[data[category].unique()[1]]\n",
    "    s2_std = means.loc[data[category].unique()[1]]\n",
    "    \n",
    "    print(\"%s Mean: %.2f (+/- %.2f)\" % (category + \" == \" + str(data[category].unique()[0]),s1_mean, s1_std))\n",
    "    print(\"%s Mean : %.2f (+/- %.2f)\" % (category + \" == \" + str(data[category].unique()[1]), s2_mean, s2_std))\n",
    "    print(\"Absolute Mean Diferrence Distance: %.2f\" % abs(s1_mean - s2_mean))"
   ]
  },
  {
   "cell_type": "code",
   "execution_count": 202,
   "metadata": {},
   "outputs": [],
   "source": [
    "def get_p_value(s1,s2):\n",
    "    \n",
    "    from statsmodels.stats.weightstats import ztest\n",
    "    from scipy.stats import ttest_ind\n",
    "    \n",
    "    if(len(s1) > 30 & len(s2) > 30):\n",
    "        z, p = ztest(s1,s2)\n",
    "        return p\n",
    "    else:\n",
    "        t, p = ttest_ind(s1,s2)\n",
    "        return p\n",
    "    \n",
    "def get_p_values(data, category, numerics):\n",
    "    \n",
    "    output = {}\n",
    "    \n",
    "    for numeric in numerics:\n",
    "        s1 = data[data[category] == data[category].unique()[0]][numeric]\n",
    "        s2 = data[data[category] == data[category].unique()[1]][numeric]\n",
    "        row = {\"p-value\" : get_p_value(s1,s2)}\n",
    "        output[numeric] = row\n",
    "    \n",
    "    from pandas import DataFrame\n",
    "    \n",
    "    return DataFrame(data=output).T\n",
    "\n",
    "def get_statistically_significant_numerics(data, category, numerics):\n",
    "    df = get_p_values(data, category, numerics)\n",
    "    return list(df[df[\"p-value\"] < 0.05].index)\n",
    "\n",
    "def get_statistically_non_significant_numerics(data, category, numerics):\n",
    "    df = get_p_values(data, category, numerics)\n",
    "    return list(df[df[\"p-value\"] >= 0.05].index)\n",
    "    \n",
    "def display_p_values(data, category, numerics):\n",
    "    from IPython.display import display\n",
    "    display(get_p_values(data, category, numerics).round(2).sort_values(\"p-value\", ascending=False))"
   ]
  },
  {
   "cell_type": "code",
   "execution_count": 186,
   "metadata": {
    "_cell_guid": "ffeaa166-8434-36c8-13c7-125c449132da",
    "_uuid": "aa7276ac382d5bbf94267f6c5e8a0500d2ee6c9e"
   },
   "outputs": [],
   "source": [
    "data = pd.read_csv(\"general_data.csv\")"
   ]
  },
  {
   "cell_type": "code",
   "execution_count": 188,
   "metadata": {
    "_cell_guid": "ca9b8fbf-754d-0be5-597f-abf57009c9df",
    "_uuid": "64184bac9e20df0ba26f922982eb2428803acd6d"
   },
   "outputs": [],
   "source": [
    "target = \"Attrition\""
   ]
  },
  {
   "cell_type": "code",
   "execution_count": 189,
   "metadata": {
    "_cell_guid": "d0e26e32-79fe-d929-f047-2ff4402d08ec",
    "_uuid": "d67d40fa7768323e25aade1075296364b3b0ea84"
   },
   "outputs": [
    {
     "data": {
      "text/plain": [
       "dict_keys(['int64', 'object', 'float64'])"
      ]
     },
     "execution_count": 189,
     "metadata": {},
     "output_type": "execute_result"
    }
   ],
   "source": [
    "feature_by_dtype = {}\n",
    "for c in data.columns:\n",
    "    \n",
    "    if c == target: continue\n",
    "    \n",
    "    data_type = str(data[c].dtype)\n",
    "    \n",
    "    if data_type not in feature_by_dtype.keys():\n",
    "         feature_by_dtype[data_type] = [c]\n",
    "    else:\n",
    "        feature_by_dtype[data_type].append(c)\n",
    "\n",
    "feature_by_dtype\n",
    "feature_by_dtype.keys()"
   ]
  },
  {
   "cell_type": "code",
   "execution_count": 190,
   "metadata": {
    "_cell_guid": "04fc8344-410b-5240-949e-83ac21ce5757",
    "_uuid": "f8e8e8762c0c7dc821d2f37279d919a4fc186cf0"
   },
   "outputs": [],
   "source": [
    "objects = feature_by_dtype[\"object\"]"
   ]
  },
  {
   "cell_type": "code",
   "execution_count": 191,
   "metadata": {
    "_cell_guid": "73c16fe6-def8-46be-7537-e34bbe2a17e0",
    "_uuid": "182d482b295f48114e119d174e613de3693a6aa0"
   },
   "outputs": [],
   "source": [
    "remove = [\"Over18\"]"
   ]
  },
  {
   "cell_type": "code",
   "execution_count": 192,
   "metadata": {
    "_cell_guid": "7133d78f-ffcb-0487-f96d-bc4903837df2",
    "_uuid": "cb9d07302e69129fa1f22afd9c7023a0aa039be9"
   },
   "outputs": [],
   "source": [
    "categorical_features = [f for f in objects if f not in remove]"
   ]
  },
  {
   "cell_type": "code",
   "execution_count": 209,
   "metadata": {},
   "outputs": [
    {
     "data": {
      "text/plain": [
       "['BusinessTravel',\n",
       " 'Department',\n",
       " 'EducationField',\n",
       " 'Gender',\n",
       " 'JobRole',\n",
       " 'MaritalStatus']"
      ]
     },
     "execution_count": 209,
     "metadata": {},
     "output_type": "execute_result"
    }
   ],
   "source": [
    "categorical_features"
   ]
  },
  {
   "cell_type": "code",
   "execution_count": 193,
   "metadata": {
    "_cell_guid": "ebb80f50-0976-1ef1-3fac-c61560494166",
    "_uuid": "d55c2effea01ef9f88091fc348327c4ff983cd79"
   },
   "outputs": [],
   "source": [
    "int64s = feature_by_dtype[\"int64\"]"
   ]
  },
  {
   "cell_type": "code",
   "execution_count": 194,
   "metadata": {
    "_cell_guid": "86b1950a-8146-897a-c3af-1a9ef6cd46db",
    "_uuid": "a6478bf987a057dc390fa89263891527bc52884c"
   },
   "outputs": [],
   "source": [
    "remove.append(\"StandardHours\")\n",
    "remove.append(\"EmployeeCount\")"
   ]
  },
  {
   "cell_type": "code",
   "execution_count": 210,
   "metadata": {},
   "outputs": [
    {
     "data": {
      "text/plain": [
       "['Over18', 'StandardHours', 'EmployeeCount', 'EmployeeNumber']"
      ]
     },
     "execution_count": 210,
     "metadata": {},
     "output_type": "execute_result"
    }
   ],
   "source": [
    "remove"
   ]
  },
  {
   "cell_type": "code",
   "execution_count": 195,
   "metadata": {
    "_cell_guid": "c0f1fa1f-3bb4-b7bf-6dd6-2dc5ff053998",
    "_uuid": "13d2b420f9086702df4d4baaa555bb70dd018569"
   },
   "outputs": [],
   "source": [
    "count_features = []\n",
    "for i in [i for i in int64s if len(data[i].unique()) < 20 and i not in remove]:\n",
    "    count_features.append(i)"
   ]
  },
  {
   "cell_type": "code",
   "execution_count": 211,
   "metadata": {},
   "outputs": [
    {
     "data": {
      "text/plain": [
       "['Education',\n",
       " 'JobLevel',\n",
       " 'PercentSalaryHike',\n",
       " 'StockOptionLevel',\n",
       " 'TrainingTimesLastYear',\n",
       " 'YearsSinceLastPromotion',\n",
       " 'YearsWithCurrManager']"
      ]
     },
     "execution_count": 211,
     "metadata": {},
     "output_type": "execute_result"
    }
   ],
   "source": [
    "count_features"
   ]
  },
  {
   "cell_type": "code",
   "execution_count": 196,
   "metadata": {
    "_cell_guid": "1916a875-8d94-f11b-8ecf-d323f845724d",
    "_uuid": "cc1dd8571f56c5564322447f0af8cc117c276c44"
   },
   "outputs": [],
   "source": [
    "count_features = count_features #+ [\"TotalWorkingYears\", \"YearsAtCompany\", \"HourlyRate\"]"
   ]
  },
  {
   "cell_type": "code",
   "execution_count": 197,
   "metadata": {
    "_cell_guid": "089b6488-ce2b-2a6a-7476-0913feda69bb",
    "_uuid": "e88bd12fcef2f28f87ad26f68291f069ab3fe5d9"
   },
   "outputs": [],
   "source": [
    "remove.append(\"EmployeeNumber\")"
   ]
  },
  {
   "cell_type": "code",
   "execution_count": 198,
   "metadata": {
    "_cell_guid": "231c5763-0105-175f-19fe-1586f3cfa2e9",
    "_uuid": "acc55c9bb530adfd3ad6ec2bb0df018b102049f0"
   },
   "outputs": [],
   "source": [
    "numerical_features = [i for i in int64s if i not in remove]"
   ]
  },
  {
   "cell_type": "code",
   "execution_count": 212,
   "metadata": {},
   "outputs": [
    {
     "data": {
      "text/plain": [
       "['Age',\n",
       " 'DistanceFromHome',\n",
       " 'Education',\n",
       " 'EmployeeID',\n",
       " 'JobLevel',\n",
       " 'MonthlyIncome',\n",
       " 'PercentSalaryHike',\n",
       " 'StockOptionLevel',\n",
       " 'TrainingTimesLastYear',\n",
       " 'YearsAtCompany',\n",
       " 'YearsSinceLastPromotion',\n",
       " 'YearsWithCurrManager']"
      ]
     },
     "execution_count": 212,
     "metadata": {},
     "output_type": "execute_result"
    }
   ],
   "source": [
    "numerical_features"
   ]
  },
  {
   "cell_type": "code",
   "execution_count": 214,
   "metadata": {},
   "outputs": [
    {
     "name": "stdout",
     "output_type": "stream",
     "text": [
      "non significant\n",
      " ['DistanceFromHome', 'Education', 'EmployeeID', 'JobLevel', 'StockOptionLevel']\n",
      "\n",
      "significant\n",
      " ['Age', 'MonthlyIncome', 'PercentSalaryHike', 'TrainingTimesLastYear', 'YearsAtCompany', 'YearsSinceLastPromotion', 'YearsWithCurrManager']\n"
     ]
    }
   ],
   "source": [
    "significant = get_statistically_significant_numerics(data,target,numerical_features) \n",
    "ns = get_statistically_non_significant_numerics(data,target,numerical_features)\n",
    "print('non significant\\n',ns)\n",
    "print()\n",
    "print('significant\\n',significant)"
   ]
  },
  {
   "cell_type": "code",
   "execution_count": 207,
   "metadata": {
    "scrolled": false
   },
   "outputs": [
    {
     "name": "stdout",
     "output_type": "stream",
     "text": [
      "DistanceFromHome\n"
     ]
    },
    {
     "data": {
      "text/html": [
       "<div>\n",
       "<style scoped>\n",
       "    .dataframe tbody tr th:only-of-type {\n",
       "        vertical-align: middle;\n",
       "    }\n",
       "\n",
       "    .dataframe tbody tr th {\n",
       "        vertical-align: top;\n",
       "    }\n",
       "\n",
       "    .dataframe thead th {\n",
       "        text-align: right;\n",
       "    }\n",
       "</style>\n",
       "<table border=\"1\" class=\"dataframe\">\n",
       "  <thead>\n",
       "    <tr style=\"text-align: right;\">\n",
       "      <th></th>\n",
       "      <th>z-test statistic</th>\n",
       "      <th>p-value</th>\n",
       "    </tr>\n",
       "  </thead>\n",
       "  <tbody>\n",
       "    <tr>\n",
       "      <th>Attrition</th>\n",
       "      <td>0.65</td>\n",
       "      <td>0.52</td>\n",
       "    </tr>\n",
       "  </tbody>\n",
       "</table>\n",
       "</div>"
      ],
      "text/plain": [
       "           z-test statistic  p-value\n",
       "Attrition              0.65     0.52"
      ]
     },
     "metadata": {},
     "output_type": "display_data"
    },
    {
     "name": "stdout",
     "output_type": "stream",
     "text": [
      "Attrition == No Mean: 9.23 (+/- 8.17)\n",
      "Attrition == Yes Mean : 9.01 (+/- 9.01)\n",
      "Absolute Mean Diferrence Distance: 0.21\n",
      "Education\n"
     ]
    },
    {
     "data": {
      "text/html": [
       "<div>\n",
       "<style scoped>\n",
       "    .dataframe tbody tr th:only-of-type {\n",
       "        vertical-align: middle;\n",
       "    }\n",
       "\n",
       "    .dataframe tbody tr th {\n",
       "        vertical-align: top;\n",
       "    }\n",
       "\n",
       "    .dataframe thead th {\n",
       "        text-align: right;\n",
       "    }\n",
       "</style>\n",
       "<table border=\"1\" class=\"dataframe\">\n",
       "  <thead>\n",
       "    <tr style=\"text-align: right;\">\n",
       "      <th></th>\n",
       "      <th>z-test statistic</th>\n",
       "      <th>p-value</th>\n",
       "    </tr>\n",
       "  </thead>\n",
       "  <tbody>\n",
       "    <tr>\n",
       "      <th>Attrition</th>\n",
       "      <td>1.0</td>\n",
       "      <td>0.32</td>\n",
       "    </tr>\n",
       "  </tbody>\n",
       "</table>\n",
       "</div>"
      ],
      "text/plain": [
       "           z-test statistic  p-value\n",
       "Attrition               1.0     0.32"
      ]
     },
     "metadata": {},
     "output_type": "display_data"
    },
    {
     "name": "stdout",
     "output_type": "stream",
     "text": [
      "Attrition == No Mean: 2.92 (+/- 1.03)\n",
      "Attrition == Yes Mean : 2.88 (+/- 2.88)\n",
      "Absolute Mean Diferrence Distance: 0.04\n",
      "EmployeeID\n"
     ]
    },
    {
     "data": {
      "text/html": [
       "<div>\n",
       "<style scoped>\n",
       "    .dataframe tbody tr th:only-of-type {\n",
       "        vertical-align: middle;\n",
       "    }\n",
       "\n",
       "    .dataframe tbody tr th {\n",
       "        vertical-align: top;\n",
       "    }\n",
       "\n",
       "    .dataframe thead th {\n",
       "        text-align: right;\n",
       "    }\n",
       "</style>\n",
       "<table border=\"1\" class=\"dataframe\">\n",
       "  <thead>\n",
       "    <tr style=\"text-align: right;\">\n",
       "      <th></th>\n",
       "      <th>z-test statistic</th>\n",
       "      <th>p-value</th>\n",
       "    </tr>\n",
       "  </thead>\n",
       "  <tbody>\n",
       "    <tr>\n",
       "      <th>Attrition</th>\n",
       "      <td>0.31</td>\n",
       "      <td>0.75</td>\n",
       "    </tr>\n",
       "  </tbody>\n",
       "</table>\n",
       "</div>"
      ],
      "text/plain": [
       "           z-test statistic  p-value\n",
       "Attrition              0.31     0.75"
      ]
     },
     "metadata": {},
     "output_type": "display_data"
    },
    {
     "name": "stdout",
     "output_type": "stream",
     "text": [
      "Attrition == No Mean: 2208.14 (+/- 1273.94)\n",
      "Attrition == Yes Mean : 2191.77 (+/- 2191.77)\n",
      "Absolute Mean Diferrence Distance: 16.37\n",
      "JobLevel\n"
     ]
    },
    {
     "data": {
      "text/html": [
       "<div>\n",
       "<style scoped>\n",
       "    .dataframe tbody tr th:only-of-type {\n",
       "        vertical-align: middle;\n",
       "    }\n",
       "\n",
       "    .dataframe tbody tr th {\n",
       "        vertical-align: top;\n",
       "    }\n",
       "\n",
       "    .dataframe thead th {\n",
       "        text-align: right;\n",
       "    }\n",
       "</style>\n",
       "<table border=\"1\" class=\"dataframe\">\n",
       "  <thead>\n",
       "    <tr style=\"text-align: right;\">\n",
       "      <th></th>\n",
       "      <th>z-test statistic</th>\n",
       "      <th>p-value</th>\n",
       "    </tr>\n",
       "  </thead>\n",
       "  <tbody>\n",
       "    <tr>\n",
       "      <th>Attrition</th>\n",
       "      <td>0.68</td>\n",
       "      <td>0.49</td>\n",
       "    </tr>\n",
       "  </tbody>\n",
       "</table>\n",
       "</div>"
      ],
      "text/plain": [
       "           z-test statistic  p-value\n",
       "Attrition              0.68     0.49"
      ]
     },
     "metadata": {},
     "output_type": "display_data"
    },
    {
     "name": "stdout",
     "output_type": "stream",
     "text": [
      "Attrition == No Mean: 2.07 (+/- 1.12)\n",
      "Attrition == Yes Mean : 2.04 (+/- 2.04)\n",
      "Absolute Mean Diferrence Distance: 0.03\n",
      "StockOptionLevel\n"
     ]
    },
    {
     "data": {
      "text/html": [
       "<div>\n",
       "<style scoped>\n",
       "    .dataframe tbody tr th:only-of-type {\n",
       "        vertical-align: middle;\n",
       "    }\n",
       "\n",
       "    .dataframe tbody tr th {\n",
       "        vertical-align: top;\n",
       "    }\n",
       "\n",
       "    .dataframe thead th {\n",
       "        text-align: right;\n",
       "    }\n",
       "</style>\n",
       "<table border=\"1\" class=\"dataframe\">\n",
       "  <thead>\n",
       "    <tr style=\"text-align: right;\">\n",
       "      <th></th>\n",
       "      <th>z-test statistic</th>\n",
       "      <th>p-value</th>\n",
       "    </tr>\n",
       "  </thead>\n",
       "  <tbody>\n",
       "    <tr>\n",
       "      <th>Attrition</th>\n",
       "      <td>0.45</td>\n",
       "      <td>0.65</td>\n",
       "    </tr>\n",
       "  </tbody>\n",
       "</table>\n",
       "</div>"
      ],
      "text/plain": [
       "           z-test statistic  p-value\n",
       "Attrition              0.45     0.65"
      ]
     },
     "metadata": {},
     "output_type": "display_data"
    },
    {
     "name": "stdout",
     "output_type": "stream",
     "text": [
      "Attrition == No Mean: 0.80 (+/- 0.85)\n",
      "Attrition == Yes Mean : 0.78 (+/- 0.78)\n",
      "Absolute Mean Diferrence Distance: 0.02\n"
     ]
    },
    {
     "data": {
      "image/png": "[encoded data removed]",
      "text/plain": [
       "<Figure size 864x360 with 1 Axes>"
      ]
     },
     "metadata": {},
     "output_type": "display_data"
    },
    {
     "data": {
      "image/png": "[encoded data removed]",
      "text/plain": [
       "<Figure size 864x360 with 1 Axes>"
      ]
     },
     "metadata": {},
     "output_type": "display_data"
    },
    {
     "data": {
      "image/png": "[encoded data removed]",
      "text/plain": [
       "<Figure size 864x360 with 1 Axes>"
      ]
     },
     "metadata": {},
     "output_type": "display_data"
    },
    {
     "data": {
      "image/png": "[encoded data removed]",
      "text/plain": [
       "<Figure size 864x360 with 1 Axes>"
      ]
     },
     "metadata": {},
     "output_type": "display_data"
    },
    {
     "data": {
      "image/png": "[encoded data removed]",
      "text/plain": [
       "<Figure size 864x360 with 1 Axes>"
      ]
     },
     "metadata": {},
     "output_type": "display_data"
    }
   ],
   "source": [
    "for n in ns:\n",
    "    print(n)\n",
    "    display_cxn_analysis(data, target, n, \"Yes\")"
   ]
  },
  {
   "cell_type": "code",
   "execution_count": 208,
   "metadata": {
    "scrolled": false
   },
   "outputs": [
    {
     "name": "stdout",
     "output_type": "stream",
     "text": [
      "Age\n"
     ]
    },
    {
     "data": {
      "text/html": [
       "<div>\n",
       "<style scoped>\n",
       "    .dataframe tbody tr th:only-of-type {\n",
       "        vertical-align: middle;\n",
       "    }\n",
       "\n",
       "    .dataframe tbody tr th {\n",
       "        vertical-align: top;\n",
       "    }\n",
       "\n",
       "    .dataframe thead th {\n",
       "        text-align: right;\n",
       "    }\n",
       "</style>\n",
       "<table border=\"1\" class=\"dataframe\">\n",
       "  <thead>\n",
       "    <tr style=\"text-align: right;\">\n",
       "      <th></th>\n",
       "      <th>z-test statistic</th>\n",
       "      <th>p-value</th>\n",
       "    </tr>\n",
       "  </thead>\n",
       "  <tbody>\n",
       "    <tr>\n",
       "      <th>Attrition</th>\n",
       "      <td>10.71</td>\n",
       "      <td>0.0</td>\n",
       "    </tr>\n",
       "  </tbody>\n",
       "</table>\n",
       "</div>"
      ],
      "text/plain": [
       "           z-test statistic  p-value\n",
       "Attrition             10.71      0.0"
      ]
     },
     "metadata": {},
     "output_type": "display_data"
    },
    {
     "name": "stdout",
     "output_type": "stream",
     "text": [
      "Attrition == No Mean: 37.56 (+/- 8.89)\n",
      "Attrition == Yes Mean : 33.61 (+/- 33.61)\n",
      "Absolute Mean Diferrence Distance: 3.95\n",
      "MonthlyIncome\n"
     ]
    },
    {
     "data": {
      "text/html": [
       "<div>\n",
       "<style scoped>\n",
       "    .dataframe tbody tr th:only-of-type {\n",
       "        vertical-align: middle;\n",
       "    }\n",
       "\n",
       "    .dataframe tbody tr th {\n",
       "        vertical-align: top;\n",
       "    }\n",
       "\n",
       "    .dataframe thead th {\n",
       "        text-align: right;\n",
       "    }\n",
       "</style>\n",
       "<table border=\"1\" class=\"dataframe\">\n",
       "  <thead>\n",
       "    <tr style=\"text-align: right;\">\n",
       "      <th></th>\n",
       "      <th>z-test statistic</th>\n",
       "      <th>p-value</th>\n",
       "    </tr>\n",
       "  </thead>\n",
       "  <tbody>\n",
       "    <tr>\n",
       "      <th>Attrition</th>\n",
       "      <td>2.07</td>\n",
       "      <td>0.04</td>\n",
       "    </tr>\n",
       "  </tbody>\n",
       "</table>\n",
       "</div>"
      ],
      "text/plain": [
       "           z-test statistic  p-value\n",
       "Attrition              2.07     0.04"
      ]
     },
     "metadata": {},
     "output_type": "display_data"
    },
    {
     "name": "stdout",
     "output_type": "stream",
     "text": [
      "Attrition == No Mean: 65672.60 (+/- 47472.81)\n",
      "Attrition == Yes Mean : 61682.62 (+/- 61682.62)\n",
      "Absolute Mean Diferrence Distance: 3989.98\n",
      "PercentSalaryHike\n"
     ]
    },
    {
     "data": {
      "text/html": [
       "<div>\n",
       "<style scoped>\n",
       "    .dataframe tbody tr th:only-of-type {\n",
       "        vertical-align: middle;\n",
       "    }\n",
       "\n",
       "    .dataframe tbody tr th {\n",
       "        vertical-align: top;\n",
       "    }\n",
       "\n",
       "    .dataframe thead th {\n",
       "        text-align: right;\n",
       "    }\n",
       "</style>\n",
       "<table border=\"1\" class=\"dataframe\">\n",
       "  <thead>\n",
       "    <tr style=\"text-align: right;\">\n",
       "      <th></th>\n",
       "      <th>z-test statistic</th>\n",
       "      <th>p-value</th>\n",
       "    </tr>\n",
       "  </thead>\n",
       "  <tbody>\n",
       "    <tr>\n",
       "      <th>Attrition</th>\n",
       "      <td>-2.16</td>\n",
       "      <td>0.03</td>\n",
       "    </tr>\n",
       "  </tbody>\n",
       "</table>\n",
       "</div>"
      ],
      "text/plain": [
       "           z-test statistic  p-value\n",
       "Attrition             -2.16     0.03"
      ]
     },
     "metadata": {},
     "output_type": "display_data"
    },
    {
     "name": "stdout",
     "output_type": "stream",
     "text": [
      "Attrition == No Mean: 15.16 (+/- 3.63)\n",
      "Attrition == Yes Mean : 15.48 (+/- 15.48)\n",
      "Absolute Mean Diferrence Distance: 0.32\n",
      "TrainingTimesLastYear\n"
     ]
    },
    {
     "data": {
      "text/html": [
       "<div>\n",
       "<style scoped>\n",
       "    .dataframe tbody tr th:only-of-type {\n",
       "        vertical-align: middle;\n",
       "    }\n",
       "\n",
       "    .dataframe tbody tr th {\n",
       "        vertical-align: top;\n",
       "    }\n",
       "\n",
       "    .dataframe thead th {\n",
       "        text-align: right;\n",
       "    }\n",
       "</style>\n",
       "<table border=\"1\" class=\"dataframe\">\n",
       "  <thead>\n",
       "    <tr style=\"text-align: right;\">\n",
       "      <th></th>\n",
       "      <th>z-test statistic</th>\n",
       "      <th>p-value</th>\n",
       "    </tr>\n",
       "  </thead>\n",
       "  <tbody>\n",
       "    <tr>\n",
       "      <th>Attrition</th>\n",
       "      <td>3.29</td>\n",
       "      <td>0.0</td>\n",
       "    </tr>\n",
       "  </tbody>\n",
       "</table>\n",
       "</div>"
      ],
      "text/plain": [
       "           z-test statistic  p-value\n",
       "Attrition              3.29      0.0"
      ]
     },
     "metadata": {},
     "output_type": "display_data"
    },
    {
     "name": "stdout",
     "output_type": "stream",
     "text": [
      "Attrition == No Mean: 2.83 (+/- 1.31)\n",
      "Attrition == Yes Mean : 2.65 (+/- 2.65)\n",
      "Absolute Mean Diferrence Distance: 0.17\n",
      "YearsAtCompany\n"
     ]
    },
    {
     "data": {
      "text/html": [
       "<div>\n",
       "<style scoped>\n",
       "    .dataframe tbody tr th:only-of-type {\n",
       "        vertical-align: middle;\n",
       "    }\n",
       "\n",
       "    .dataframe tbody tr th {\n",
       "        vertical-align: top;\n",
       "    }\n",
       "\n",
       "    .dataframe thead th {\n",
       "        text-align: right;\n",
       "    }\n",
       "</style>\n",
       "<table border=\"1\" class=\"dataframe\">\n",
       "  <thead>\n",
       "    <tr style=\"text-align: right;\">\n",
       "      <th></th>\n",
       "      <th>z-test statistic</th>\n",
       "      <th>p-value</th>\n",
       "    </tr>\n",
       "  </thead>\n",
       "  <tbody>\n",
       "    <tr>\n",
       "      <th>Attrition</th>\n",
       "      <td>9.0</td>\n",
       "      <td>0.0</td>\n",
       "    </tr>\n",
       "  </tbody>\n",
       "</table>\n",
       "</div>"
      ],
      "text/plain": [
       "           z-test statistic  p-value\n",
       "Attrition               9.0      0.0"
      ]
     },
     "metadata": {},
     "output_type": "display_data"
    },
    {
     "name": "stdout",
     "output_type": "stream",
     "text": [
      "Attrition == No Mean: 7.37 (+/- 6.09)\n",
      "Attrition == Yes Mean : 5.13 (+/- 5.13)\n",
      "Absolute Mean Diferrence Distance: 2.24\n",
      "YearsSinceLastPromotion\n"
     ]
    },
    {
     "data": {
      "text/html": [
       "<div>\n",
       "<style scoped>\n",
       "    .dataframe tbody tr th:only-of-type {\n",
       "        vertical-align: middle;\n",
       "    }\n",
       "\n",
       "    .dataframe tbody tr th {\n",
       "        vertical-align: top;\n",
       "    }\n",
       "\n",
       "    .dataframe thead th {\n",
       "        text-align: right;\n",
       "    }\n",
       "</style>\n",
       "<table border=\"1\" class=\"dataframe\">\n",
       "  <thead>\n",
       "    <tr style=\"text-align: right;\">\n",
       "      <th></th>\n",
       "      <th>z-test statistic</th>\n",
       "      <th>p-value</th>\n",
       "    </tr>\n",
       "  </thead>\n",
       "  <tbody>\n",
       "    <tr>\n",
       "      <th>Attrition</th>\n",
       "      <td>2.19</td>\n",
       "      <td>0.03</td>\n",
       "    </tr>\n",
       "  </tbody>\n",
       "</table>\n",
       "</div>"
      ],
      "text/plain": [
       "           z-test statistic  p-value\n",
       "Attrition              2.19     0.03"
      ]
     },
     "metadata": {},
     "output_type": "display_data"
    },
    {
     "name": "stdout",
     "output_type": "stream",
     "text": [
      "Attrition == No Mean: 2.23 (+/- 3.23)\n",
      "Attrition == Yes Mean : 1.95 (+/- 1.95)\n",
      "Absolute Mean Diferrence Distance: 0.29\n",
      "YearsWithCurrManager\n"
     ]
    },
    {
     "data": {
      "text/html": [
       "<div>\n",
       "<style scoped>\n",
       "    .dataframe tbody tr th:only-of-type {\n",
       "        vertical-align: middle;\n",
       "    }\n",
       "\n",
       "    .dataframe tbody tr th {\n",
       "        vertical-align: top;\n",
       "    }\n",
       "\n",
       "    .dataframe thead th {\n",
       "        text-align: right;\n",
       "    }\n",
       "</style>\n",
       "<table border=\"1\" class=\"dataframe\">\n",
       "  <thead>\n",
       "    <tr style=\"text-align: right;\">\n",
       "      <th></th>\n",
       "      <th>z-test statistic</th>\n",
       "      <th>p-value</th>\n",
       "    </tr>\n",
       "  </thead>\n",
       "  <tbody>\n",
       "    <tr>\n",
       "      <th>Attrition</th>\n",
       "      <td>10.5</td>\n",
       "      <td>0.0</td>\n",
       "    </tr>\n",
       "  </tbody>\n",
       "</table>\n",
       "</div>"
      ],
      "text/plain": [
       "           z-test statistic  p-value\n",
       "Attrition              10.5      0.0"
      ]
     },
     "metadata": {},
     "output_type": "display_data"
    },
    {
     "name": "stdout",
     "output_type": "stream",
     "text": [
      "Attrition == No Mean: 4.37 (+/- 3.59)\n",
      "Attrition == Yes Mean : 2.85 (+/- 2.85)\n",
      "Absolute Mean Diferrence Distance: 1.52\n"
     ]
    },
    {
     "data": {
      "image/png": "[encoded data removed]",
      "text/plain": [
       "<Figure size 864x360 with 1 Axes>"
      ]
     },
     "metadata": {},
     "output_type": "display_data"
    },
    {
     "data": {
      "image/png": "[encoded data removed]",
      "text/plain": [
       "<Figure size 864x360 with 1 Axes>"
      ]
     },
     "metadata": {},
     "output_type": "display_data"
    },
    {
     "data": {
      "image/png": "[encoded data removed]",
      "text/plain": [
       "<Figure size 864x360 with 1 Axes>"
      ]
     },
     "metadata": {},
     "output_type": "display_data"
    },
    {
     "data": {
      "image/png": "[encoded data removed]",
      "text/plain": [
       "<Figure size 864x360 with 1 Axes>"
      ]
     },
     "metadata": {},
     "output_type": "display_data"
    },
    {
     "data": {
      "image/png": "[encoded data removed]",
      "text/plain": [
       "<Figure size 864x360 with 1 Axes>"
      ]
     },
     "metadata": {},
     "output_type": "display_data"
    },
    {
     "data": {
      "image/png": "[encoded data removed]",
      "text/plain": [
       "<Figure size 864x360 with 1 Axes>"
      ]
     },
     "metadata": {},
     "output_type": "display_data"
    },
    {
     "data": {
      "image/png": "[encoded data removed]",
      "text/plain": [
       "<Figure size 864x360 with 1 Axes>"
      ]
     },
     "metadata": {},
     "output_type": "display_data"
    }
   ],
   "source": [
    "for n in significant:\n",
    "    print(n)\n",
    "    display_cxn_analysis(data, target, n, \"Yes\")"
   ]
  },
  {
   "cell_type": "markdown",
   "metadata": {},
   "source": [
    "- The stronger indicators of people leaving include:\n",
    "    - **Monthly Income**: people on higher wages are less likely to leave the company. Hence, efforts should be made to gather information on industry benchmarks in the current local market to determine if the company is providing competitive wages.\n",
    "    - **Over Time**: people who work overtime are more likelty to leave the company. Hence efforts  must be taken to appropriately scope projects upfront with adequate support and manpower so as to reduce the use of overtime.\n",
    "    - **YearsWithCurrManager**: A large number of leavers leave 6 months after their Current Managers. By using Line Manager details for each employee, one can determine which Manager have experienced the largest numbers of employees resigning over the past year. Several metrics can be used here to determine whether action should be taken with a Line Manager: \n",
    "    - **Age**: Employees in relatively young age bracket 25-35 are more likely to leave. Hence, efforts should be made to clearly articulate the long-term vision of the company and young employees fit in that vision, as well as provide incentives in the form of clear paths to promotion for instance.\n",
    "    - **DistanceFromHome**: Employees who live further from home are more likely to leave the company. Hence, efforts should be made to provide support in the form of company transportation for clusters of employees leaving the same area, or in the form of Transportation Allowance. Initial screening of employees based on their home location is probably not recommended as it would be regarded as a form of discrimination as long as employees make it to work on time every day.\n",
    "    - **TotalWorkingYears**: The more experienced employees are less likely to leave. Employees who have between 5-8 years of experience should be identified as potentially having a higher-risk of leaving.\n",
    "    - **YearsAtCompany**: Loyal companies are less likely to leave. Employees who hit their two-year anniversary should be identified as potentially having a higher-risk of leaving."
   ]
  }
 ],
 "metadata": {
  "kernelspec": {
   "display_name": "Python 3",
   "language": "python",
   "name": "python3"
  },
  "language_info": {
   "codemirror_mode": {
    "name": "ipython",
    "version": 3
   },
   "file_extension": ".py",
   "mimetype": "text/x-python",
   "name": "python",
   "nbconvert_exporter": "python",
   "pygments_lexer": "ipython3",
   "version": "3.7.6"
  }
 },
 "nbformat": 4,
 "nbformat_minor": 4
}
