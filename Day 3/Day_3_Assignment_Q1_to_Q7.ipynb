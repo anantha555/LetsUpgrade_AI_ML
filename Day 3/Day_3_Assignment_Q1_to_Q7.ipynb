{
 "cells": [
  {
   "cell_type": "markdown",
   "metadata": {},
   "source": [
    "# Question 1 :\n",
    "Write a program to subtract two complex numbers in Python."
   ]
  },
  {
   "cell_type": "code",
   "execution_count": 1,
   "metadata": {},
   "outputs": [
    {
     "name": "stdout",
     "output_type": "stream",
     "text": [
      "(6+2j) - (5+7j) is (1-5j)\n"
     ]
    }
   ],
   "source": [
    "c1 = 6+2j\n",
    "c2 = 5+7j\n",
    "\n",
    "sub = c1 - c2\n",
    "print(c1,\"-\",c2,\"is\",sub)"
   ]
  },
  {
   "cell_type": "markdown",
   "metadata": {},
   "source": [
    "# Question 2 :\n",
    "Write a program to find the fourth root of a number"
   ]
  },
  {
   "cell_type": "code",
   "execution_count": 2,
   "metadata": {},
   "outputs": [
    {
     "name": "stdout",
     "output_type": "stream",
     "text": [
      "Fourth root of 16 is: 2.0\n"
     ]
    }
   ],
   "source": [
    "n = 16\n",
    "fr = n ** (1/4)\n",
    "print(\"Fourth root of\",n,\"is:\",fr)"
   ]
  },
  {
   "cell_type": "markdown",
   "metadata": {},
   "source": [
    "# Question 3:\n",
    "Write a program to swap two numbers in Python with the help of a temporary variable."
   ]
  },
  {
   "cell_type": "code",
   "execution_count": 3,
   "metadata": {},
   "outputs": [
    {
     "name": "stdout",
     "output_type": "stream",
     "text": [
      "Before swap\n",
      "e is 5\n",
      "f is 7\n",
      "After swap\n",
      "e is 7\n",
      "f is 5\n"
     ]
    }
   ],
   "source": [
    "e = 5\n",
    "f = 7\n",
    "print(\"Before swap\")\n",
    "print(\"e is\",e)\n",
    "print(\"f is\",f)\n",
    "c = e\n",
    "e = f\n",
    "f = c\n",
    "print(\"After swap\")\n",
    "print(\"e is\",e)\n",
    "print(\"f is\",f)"
   ]
  },
  {
   "cell_type": "markdown",
   "metadata": {},
   "source": [
    "# Question 4:\n",
    "Write a program to swap two numbers in Python without using a temporary variable."
   ]
  },
  {
   "cell_type": "code",
   "execution_count": 4,
   "metadata": {},
   "outputs": [
    {
     "name": "stdout",
     "output_type": "stream",
     "text": [
      "Before swap\n",
      "a is 51\n",
      "b is 72\n",
      "After swap\n",
      "a is 72\n",
      "b is 51\n"
     ]
    }
   ],
   "source": [
    "#method 1\n",
    "a = 51\n",
    "b = 72\n",
    "print(\"Before swap\")\n",
    "print(\"a is\",a)\n",
    "print(\"b is\",b)\n",
    "a = a+b\n",
    "b = a - b\n",
    "a = a - b\n",
    "print(\"After swap\")\n",
    "print(\"a is\",a)\n",
    "print(\"b is\",b)"
   ]
  },
  {
   "cell_type": "code",
   "execution_count": 5,
   "metadata": {},
   "outputs": [
    {
     "name": "stdout",
     "output_type": "stream",
     "text": [
      "3\n",
      "4\n"
     ]
    }
   ],
   "source": [
    "#method 2\n",
    "s1 = 4\n",
    "s2 = 3\n",
    "s1,s2 =s2,s1\n",
    "print(s1)\n",
    "print(s2)"
   ]
  },
  {
   "cell_type": "markdown",
   "metadata": {},
   "source": [
    "# Question 5:\n",
    "Write a program to convert fahrenheit to kelvin and celsius both."
   ]
  },
  {
   "cell_type": "code",
   "execution_count": 6,
   "metadata": {},
   "outputs": [
    {
     "name": "stdout",
     "output_type": "stream",
     "text": [
      "Fahrenheit of 100 in Celsius is 37.77777777777778\n",
      "Fahrenheit of 100 in Kelvin is 310.92777777777775\n"
     ]
    }
   ],
   "source": [
    "fahrenheit = 100\n",
    "celsius = (fahrenheit -32) * 5/9 \n",
    "kelvin = celsius + 273.15 \n",
    "print(\"Fahrenheit of\", fahrenheit,\"in Celsius is\", celsius)\n",
    "print(\"Fahrenheit of\", fahrenheit,\"in Kelvin is\", kelvin)"
   ]
  },
  {
   "cell_type": "markdown",
   "metadata": {},
   "source": [
    "# Question 6:\n",
    "Write a program to demonstrate all the available data types in Python. Hint: Use type() function."
   ]
  },
  {
   "cell_type": "code",
   "execution_count": 7,
   "metadata": {},
   "outputs": [
    {
     "name": "stdout",
     "output_type": "stream",
     "text": [
      "<class 'int'>\n",
      "<class 'float'>\n",
      "<class 'str'>\n",
      "<class 'complex'>\n",
      "<class 'list'>\n",
      "<class 'tuple'>\n",
      "<class 'dict'>\n",
      "<class 'set'>\n"
     ]
    }
   ],
   "source": [
    "ia = 1\n",
    "fb = 1.2\n",
    "sc =\" anantha\"\n",
    "cd = 5+6j\n",
    "le = [1,2,3]\n",
    "tf = (\"sa\",35,5)\n",
    "dg = {\"s1\":\"1\",\"s2\":\"2\"}\n",
    "sh = {1,2,3,4,5,6,7,4,1,2,3,5}\n",
    "print(type(ia))\n",
    "print(type(fb))\n",
    "print(type(sc))\n",
    "print(type(cd))\n",
    "print(type(le))\n",
    "print(type(tf))\n",
    "print(type(dg))\n",
    "print(type(sh))"
   ]
  },
  {
   "cell_type": "markdown",
   "metadata": {},
   "source": [
    "# Question 7:\n",
    "Create a Markdown cell in jupyter and list the steps discussed in the session by Dr. Darshan\n",
    "Ingle sir to create Github profile and upload Githubs Assignment link."
   ]
  },
  {
   "cell_type": "markdown",
   "metadata": {},
   "source": [
    "### steps\n",
    "1. create git hub profile if not already done \n",
    "2. make a public repo with LetsUpgarde-AI-ML name \n",
    "3. make a folder for each day assignment e.g: day 2\n",
    "4. upload the assignment file i.e ipynb file in that day's folder\n",
    "5. copy path link and check in incog mode for pubic visability \n",
    "6. submit the link with proper info in assignment link by the end of week max"
   ]
  }
 ],
 "metadata": {
  "kernelspec": {
   "display_name": "Python 3",
   "language": "python",
   "name": "python3"
  },
  "language_info": {
   "codemirror_mode": {
    "name": "ipython",
    "version": 3
   },
   "file_extension": ".py",
   "mimetype": "text/x-python",
   "name": "python",
   "nbconvert_exporter": "python",
   "pygments_lexer": "ipython3",
   "version": "3.7.6"
  }
 },
 "nbformat": 4,
 "nbformat_minor": 4
}
