{
 "cells": [
  {
   "cell_type": "markdown",
   "metadata": {},
   "source": [
    "# Question 1 :\n",
    "Research on whether addition, subtraction, multiplication, division, floor division and modulo\n",
    "operations be performed on complex numbers. Based on your study, implement a Python\n",
    "program to demonstrate these operations.\n"
   ]
  },
  {
   "cell_type": "code",
   "execution_count": 1,
   "metadata": {},
   "outputs": [
    {
     "name": "stdout",
     "output_type": "stream",
     "text": [
      "addition of c1 and c2 is: (8+13j)\n",
      "subtraction of c1 and c2 is: (-4-1j)\n",
      "multiplication of c1 and c2 is: (-30+50j)\n",
      "division of c1 and c2 is: (0.6352941176470589+0.2588235294117647j)\n"
     ]
    }
   ],
   "source": [
    "\n",
    "#addition, subtraction, multiplication, division operations can be performed on complex numbers\n",
    "#floor division and modulo operations can not be performed on complex numbers\n",
    "\n",
    "c1 = 2+6j\n",
    "c2 = 6+7j\n",
    "print(\"addition of c1 and c2 is:\", c1 + c2)\n",
    "print(\"subtraction of c1 and c2 is:\", c1 - c2)\n",
    "print(\"multiplication of c1 and c2 is:\", c1 * c2)\n",
    "print(\"division of c1 and c2 is:\", c1 / c2)\n",
    "#print(\"subtraction of c1 and c2 is:\", c1 // c2)\n",
    "#print(\"subtraction of c1 and c2 is:\", c1 % c2)"
   ]
  },
  {
   "cell_type": "markdown",
   "metadata": {},
   "source": [
    "# Question 2 :\n",
    "Research on range() functions and its parameters. Create a markdown cell and write in your own\n",
    "words (no copy-paste from google please) what you understand about it. Implement a small\n",
    "program of your choice on the same.\n"
   ]
  },
  {
   "cell_type": "markdown",
   "metadata": {},
   "source": [
    "### range() has 3 argumnets and can genarate number sequence\n",
    "\n",
    "##### range(start, stop, step) \n",
    "\n",
    "- __start__ -> sequence starting range position and this postion is inclusive in the sequence\n",
    "- __stop__  -> postion to end sequence and this postion is exclusive in the sequence\n",
    "- __step__  -> it specifies the increment or decrement\n",
    "\n",
    "__Note:__ if start is given the defaut start of sequence is 0\n"
   ]
  },
  {
   "cell_type": "code",
   "execution_count": 2,
   "metadata": {},
   "outputs": [
    {
     "name": "stdout",
     "output_type": "stream",
     "text": [
      "To print numbers from 10 to 19\n",
      "[10, 11, 12, 13, 14, 15, 16, 17, 18, 19] \n",
      "\n",
      "To print numbers till 19\n",
      "[0, 1, 2, 3, 4, 5, 6, 7, 8, 9, 10, 11, 12, 13, 14, 15, 16, 17, 18, 19] \n",
      "\n",
      "To print numbers from 5 to 100 with incremnets in 5\n",
      "[1, 6, 11, 16, 21, 26, 31, 36, 41, 46, 51, 56, 61, 66, 71, 76, 81, 86, 91, 96] \n",
      "\n"
     ]
    }
   ],
   "source": [
    "print(\"To print numbers from 10 to 19\")\n",
    "print(list(range(10,20)),\"\\n\")\n",
    "print(\"To print numbers till 19\")\n",
    "print(list(range(20)),\"\\n\")\n",
    "print(\"To print numbers from 5 to 100 with incremnets in 5\")\n",
    "print(list(range(1,101,5)),\"\\n\")"
   ]
  },
  {
   "cell_type": "markdown",
   "metadata": {},
   "source": [
    "# Question 3:\n",
    " Consider two numbers. Perform their subtraction and if the result of subtraction is greater than\n",
    "25, print their multiplication result else print their division result.\n"
   ]
  },
  {
   "cell_type": "code",
   "execution_count": 3,
   "metadata": {},
   "outputs": [
    {
     "name": "stdout",
     "output_type": "stream",
     "text": [
      "5000\n"
     ]
    }
   ],
   "source": [
    "a = 100\n",
    "b = 50\n",
    "\n",
    "if a - b > 25:\n",
    "    print(a*b)\n",
    "else:\n",
    "    print(a/b)"
   ]
  },
  {
   "cell_type": "code",
   "execution_count": 4,
   "metadata": {},
   "outputs": [
    {
     "name": "stdout",
     "output_type": "stream",
     "text": [
      "0.5\n"
     ]
    }
   ],
   "source": [
    "c = 50\n",
    "d = 100\n",
    "\n",
    "if c - d > 25:\n",
    "    print(c*d)\n",
    "else:\n",
    "    print(c/d)"
   ]
  },
  {
   "cell_type": "markdown",
   "metadata": {},
   "source": [
    "# Question 4:\n",
    "Consider a list of 10 elements of integer values. If the number in the list is divisible by 2, print the\n",
    "result as \"square of that number minus 2\".\n"
   ]
  },
  {
   "cell_type": "code",
   "execution_count": 5,
   "metadata": {},
   "outputs": [
    {
     "name": "stdout",
     "output_type": "stream",
     "text": [
      "square of that number minus 2   -2\n",
      "square of that number minus 2   14\n",
      "square of that number minus 2   34\n",
      "square of that number minus 2   1294\n",
      "square of that number minus 2   2702\n"
     ]
    }
   ],
   "source": [
    "lst = [1,0,4,41,6,33,53,21,36,52]\n",
    "\n",
    "for i in lst:\n",
    "    if i%2 ==0:\n",
    "        print(\"square of that number minus 2  \", i**2-2)\n"
   ]
  },
  {
   "cell_type": "markdown",
   "metadata": {},
   "source": [
    "# Question 5:\n",
    "Consider a list of 10 elements. Print all the elements in the list which are greater than 7 when that\n",
    "number is divided 2."
   ]
  },
  {
   "cell_type": "code",
   "execution_count": 6,
   "metadata": {},
   "outputs": [
    {
     "name": "stdout",
     "output_type": "stream",
     "text": [
      "41\n",
      "33\n",
      "53\n",
      "21\n",
      "36\n",
      "52\n"
     ]
    }
   ],
   "source": [
    "lst = [1,0,4,41,6,33,53,21,36,52]\n",
    "\n",
    "for i in lst:\n",
    "    if i/2 > 7:\n",
    "        print(i)\n"
   ]
  },
  {
   "cell_type": "markdown",
   "metadata": {},
   "source": [
    "# steps to install nbextensions \n",
    "\n",
    "- run the below commands in same order in any off your jupyter NB\n",
    "\n",
    "!pip install https://github.com/ipython-contrib/jupyter_contrib_nbextensions/tarball/master\n",
    "\n",
    "!jupyter nbextensions_configurator enable\n",
    "\n",
    "restart NB"
   ]
  }
 ],
 "metadata": {
  "kernelspec": {
   "display_name": "Python 3",
   "language": "python",
   "name": "python3"
  },
  "language_info": {
   "codemirror_mode": {
    "name": "ipython",
    "version": 3
   },
   "file_extension": ".py",
   "mimetype": "text/x-python",
   "name": "python",
   "nbconvert_exporter": "python",
   "pygments_lexer": "ipython3",
   "version": "3.7.6"
  }
 },
 "nbformat": 4,
 "nbformat_minor": 4
}
