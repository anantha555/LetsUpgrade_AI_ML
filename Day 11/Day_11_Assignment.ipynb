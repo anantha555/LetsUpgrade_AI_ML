{
 "cells": [
  {
   "cell_type": "markdown",
   "metadata": {},
   "source": [
    "# To find the correlation between Attrition column and other columns in the genaral_data.csv dataset "
   ]
  },
  {
   "cell_type": "code",
   "execution_count": 1,
   "metadata": {},
   "outputs": [],
   "source": [
    "#to import the requried the lib\n",
    "import numpy as np\n",
    "import pandas as pd\n",
    "from scipy.stats import pearsonr\n",
    "import matplotlib.pyplot as plt\n"
   ]
  },
  {
   "cell_type": "code",
   "execution_count": 2,
   "metadata": {},
   "outputs": [
    {
     "data": {
      "text/html": [
       "<div>\n",
       "<style scoped>\n",
       "    .dataframe tbody tr th:only-of-type {\n",
       "        vertical-align: middle;\n",
       "    }\n",
       "\n",
       "    .dataframe tbody tr th {\n",
       "        vertical-align: top;\n",
       "    }\n",
       "\n",
       "    .dataframe thead th {\n",
       "        text-align: right;\n",
       "    }\n",
       "</style>\n",
       "<table border=\"1\" class=\"dataframe\">\n",
       "  <thead>\n",
       "    <tr style=\"text-align: right;\">\n",
       "      <th></th>\n",
       "      <th>Age</th>\n",
       "      <th>Attrition</th>\n",
       "      <th>BusinessTravel</th>\n",
       "      <th>Department</th>\n",
       "      <th>DistanceFromHome</th>\n",
       "      <th>Education</th>\n",
       "      <th>EducationField</th>\n",
       "      <th>EmployeeCount</th>\n",
       "      <th>EmployeeID</th>\n",
       "      <th>Gender</th>\n",
       "      <th>...</th>\n",
       "      <th>NumCompaniesWorked</th>\n",
       "      <th>Over18</th>\n",
       "      <th>PercentSalaryHike</th>\n",
       "      <th>StandardHours</th>\n",
       "      <th>StockOptionLevel</th>\n",
       "      <th>TotalWorkingYears</th>\n",
       "      <th>TrainingTimesLastYear</th>\n",
       "      <th>YearsAtCompany</th>\n",
       "      <th>YearsSinceLastPromotion</th>\n",
       "      <th>YearsWithCurrManager</th>\n",
       "    </tr>\n",
       "  </thead>\n",
       "  <tbody>\n",
       "    <tr>\n",
       "      <th>0</th>\n",
       "      <td>51</td>\n",
       "      <td>No</td>\n",
       "      <td>Travel_Rarely</td>\n",
       "      <td>Sales</td>\n",
       "      <td>6</td>\n",
       "      <td>2</td>\n",
       "      <td>Life Sciences</td>\n",
       "      <td>1</td>\n",
       "      <td>1</td>\n",
       "      <td>Female</td>\n",
       "      <td>...</td>\n",
       "      <td>1.0</td>\n",
       "      <td>Y</td>\n",
       "      <td>11</td>\n",
       "      <td>8</td>\n",
       "      <td>0</td>\n",
       "      <td>1.0</td>\n",
       "      <td>6</td>\n",
       "      <td>1</td>\n",
       "      <td>0</td>\n",
       "      <td>0</td>\n",
       "    </tr>\n",
       "    <tr>\n",
       "      <th>1</th>\n",
       "      <td>31</td>\n",
       "      <td>Yes</td>\n",
       "      <td>Travel_Frequently</td>\n",
       "      <td>Research &amp; Development</td>\n",
       "      <td>10</td>\n",
       "      <td>1</td>\n",
       "      <td>Life Sciences</td>\n",
       "      <td>1</td>\n",
       "      <td>2</td>\n",
       "      <td>Female</td>\n",
       "      <td>...</td>\n",
       "      <td>0.0</td>\n",
       "      <td>Y</td>\n",
       "      <td>23</td>\n",
       "      <td>8</td>\n",
       "      <td>1</td>\n",
       "      <td>6.0</td>\n",
       "      <td>3</td>\n",
       "      <td>5</td>\n",
       "      <td>1</td>\n",
       "      <td>4</td>\n",
       "    </tr>\n",
       "    <tr>\n",
       "      <th>2</th>\n",
       "      <td>32</td>\n",
       "      <td>No</td>\n",
       "      <td>Travel_Frequently</td>\n",
       "      <td>Research &amp; Development</td>\n",
       "      <td>17</td>\n",
       "      <td>4</td>\n",
       "      <td>Other</td>\n",
       "      <td>1</td>\n",
       "      <td>3</td>\n",
       "      <td>Male</td>\n",
       "      <td>...</td>\n",
       "      <td>1.0</td>\n",
       "      <td>Y</td>\n",
       "      <td>15</td>\n",
       "      <td>8</td>\n",
       "      <td>3</td>\n",
       "      <td>5.0</td>\n",
       "      <td>2</td>\n",
       "      <td>5</td>\n",
       "      <td>0</td>\n",
       "      <td>3</td>\n",
       "    </tr>\n",
       "    <tr>\n",
       "      <th>3</th>\n",
       "      <td>38</td>\n",
       "      <td>No</td>\n",
       "      <td>Non-Travel</td>\n",
       "      <td>Research &amp; Development</td>\n",
       "      <td>2</td>\n",
       "      <td>5</td>\n",
       "      <td>Life Sciences</td>\n",
       "      <td>1</td>\n",
       "      <td>4</td>\n",
       "      <td>Male</td>\n",
       "      <td>...</td>\n",
       "      <td>3.0</td>\n",
       "      <td>Y</td>\n",
       "      <td>11</td>\n",
       "      <td>8</td>\n",
       "      <td>3</td>\n",
       "      <td>13.0</td>\n",
       "      <td>5</td>\n",
       "      <td>8</td>\n",
       "      <td>7</td>\n",
       "      <td>5</td>\n",
       "    </tr>\n",
       "    <tr>\n",
       "      <th>4</th>\n",
       "      <td>32</td>\n",
       "      <td>No</td>\n",
       "      <td>Travel_Rarely</td>\n",
       "      <td>Research &amp; Development</td>\n",
       "      <td>10</td>\n",
       "      <td>1</td>\n",
       "      <td>Medical</td>\n",
       "      <td>1</td>\n",
       "      <td>5</td>\n",
       "      <td>Male</td>\n",
       "      <td>...</td>\n",
       "      <td>4.0</td>\n",
       "      <td>Y</td>\n",
       "      <td>12</td>\n",
       "      <td>8</td>\n",
       "      <td>2</td>\n",
       "      <td>9.0</td>\n",
       "      <td>2</td>\n",
       "      <td>6</td>\n",
       "      <td>0</td>\n",
       "      <td>4</td>\n",
       "    </tr>\n",
       "    <tr>\n",
       "      <th>5</th>\n",
       "      <td>46</td>\n",
       "      <td>No</td>\n",
       "      <td>Travel_Rarely</td>\n",
       "      <td>Research &amp; Development</td>\n",
       "      <td>8</td>\n",
       "      <td>3</td>\n",
       "      <td>Life Sciences</td>\n",
       "      <td>1</td>\n",
       "      <td>6</td>\n",
       "      <td>Female</td>\n",
       "      <td>...</td>\n",
       "      <td>3.0</td>\n",
       "      <td>Y</td>\n",
       "      <td>13</td>\n",
       "      <td>8</td>\n",
       "      <td>0</td>\n",
       "      <td>28.0</td>\n",
       "      <td>5</td>\n",
       "      <td>7</td>\n",
       "      <td>7</td>\n",
       "      <td>7</td>\n",
       "    </tr>\n",
       "    <tr>\n",
       "      <th>6</th>\n",
       "      <td>28</td>\n",
       "      <td>Yes</td>\n",
       "      <td>Travel_Rarely</td>\n",
       "      <td>Research &amp; Development</td>\n",
       "      <td>11</td>\n",
       "      <td>2</td>\n",
       "      <td>Medical</td>\n",
       "      <td>1</td>\n",
       "      <td>7</td>\n",
       "      <td>Male</td>\n",
       "      <td>...</td>\n",
       "      <td>2.0</td>\n",
       "      <td>Y</td>\n",
       "      <td>20</td>\n",
       "      <td>8</td>\n",
       "      <td>1</td>\n",
       "      <td>5.0</td>\n",
       "      <td>2</td>\n",
       "      <td>0</td>\n",
       "      <td>0</td>\n",
       "      <td>0</td>\n",
       "    </tr>\n",
       "  </tbody>\n",
       "</table>\n",
       "<p>7 rows × 24 columns</p>\n",
       "</div>"
      ],
      "text/plain": [
       "   Age Attrition     BusinessTravel              Department  DistanceFromHome  \\\n",
       "0   51        No      Travel_Rarely                   Sales                 6   \n",
       "1   31       Yes  Travel_Frequently  Research & Development                10   \n",
       "2   32        No  Travel_Frequently  Research & Development                17   \n",
       "3   38        No         Non-Travel  Research & Development                 2   \n",
       "4   32        No      Travel_Rarely  Research & Development                10   \n",
       "5   46        No      Travel_Rarely  Research & Development                 8   \n",
       "6   28       Yes      Travel_Rarely  Research & Development                11   \n",
       "\n",
       "   Education EducationField  EmployeeCount  EmployeeID  Gender  ...  \\\n",
       "0          2  Life Sciences              1           1  Female  ...   \n",
       "1          1  Life Sciences              1           2  Female  ...   \n",
       "2          4          Other              1           3    Male  ...   \n",
       "3          5  Life Sciences              1           4    Male  ...   \n",
       "4          1        Medical              1           5    Male  ...   \n",
       "5          3  Life Sciences              1           6  Female  ...   \n",
       "6          2        Medical              1           7    Male  ...   \n",
       "\n",
       "   NumCompaniesWorked Over18 PercentSalaryHike  StandardHours  \\\n",
       "0                 1.0      Y                11              8   \n",
       "1                 0.0      Y                23              8   \n",
       "2                 1.0      Y                15              8   \n",
       "3                 3.0      Y                11              8   \n",
       "4                 4.0      Y                12              8   \n",
       "5                 3.0      Y                13              8   \n",
       "6                 2.0      Y                20              8   \n",
       "\n",
       "   StockOptionLevel TotalWorkingYears  TrainingTimesLastYear  YearsAtCompany  \\\n",
       "0                 0               1.0                      6               1   \n",
       "1                 1               6.0                      3               5   \n",
       "2                 3               5.0                      2               5   \n",
       "3                 3              13.0                      5               8   \n",
       "4                 2               9.0                      2               6   \n",
       "5                 0              28.0                      5               7   \n",
       "6                 1               5.0                      2               0   \n",
       "\n",
       "   YearsSinceLastPromotion  YearsWithCurrManager  \n",
       "0                        0                     0  \n",
       "1                        1                     4  \n",
       "2                        0                     3  \n",
       "3                        7                     5  \n",
       "4                        0                     4  \n",
       "5                        7                     7  \n",
       "6                        0                     0  \n",
       "\n",
       "[7 rows x 24 columns]"
      ]
     },
     "execution_count": 2,
     "metadata": {},
     "output_type": "execute_result"
    }
   ],
   "source": [
    "#to import the dataset into the notebook\n",
    "\n",
    "ds = pd.read_csv(\"general_data.csv\")\n",
    "ds.head(7)"
   ]
  },
  {
   "cell_type": "markdown",
   "metadata": {},
   "source": [
    ">The dataset contains several numerical and categorical columns providing various information on employee's personal and employment details."
   ]
  },
  {
   "cell_type": "code",
   "execution_count": 3,
   "metadata": {
    "scrolled": false
   },
   "outputs": [
    {
     "name": "stdout",
     "output_type": "stream",
     "text": [
      "<class 'pandas.core.frame.DataFrame'>\n",
      "RangeIndex: 4410 entries, 0 to 4409\n",
      "Data columns (total 24 columns):\n",
      " #   Column                   Non-Null Count  Dtype  \n",
      "---  ------                   --------------  -----  \n",
      " 0   Age                      4410 non-null   int64  \n",
      " 1   Attrition                4410 non-null   object \n",
      " 2   BusinessTravel           4410 non-null   object \n",
      " 3   Department               4410 non-null   object \n",
      " 4   DistanceFromHome         4410 non-null   int64  \n",
      " 5   Education                4410 non-null   int64  \n",
      " 6   EducationField           4410 non-null   object \n",
      " 7   EmployeeCount            4410 non-null   int64  \n",
      " 8   EmployeeID               4410 non-null   int64  \n",
      " 9   Gender                   4410 non-null   object \n",
      " 10  JobLevel                 4410 non-null   int64  \n",
      " 11  JobRole                  4410 non-null   object \n",
      " 12  MaritalStatus            4410 non-null   object \n",
      " 13  MonthlyIncome            4410 non-null   int64  \n",
      " 14  NumCompaniesWorked       4391 non-null   float64\n",
      " 15  Over18                   4410 non-null   object \n",
      " 16  PercentSalaryHike        4410 non-null   int64  \n",
      " 17  StandardHours            4410 non-null   int64  \n",
      " 18  StockOptionLevel         4410 non-null   int64  \n",
      " 19  TotalWorkingYears        4401 non-null   float64\n",
      " 20  TrainingTimesLastYear    4410 non-null   int64  \n",
      " 21  YearsAtCompany           4410 non-null   int64  \n",
      " 22  YearsSinceLastPromotion  4410 non-null   int64  \n",
      " 23  YearsWithCurrManager     4410 non-null   int64  \n",
      "dtypes: float64(2), int64(14), object(8)\n",
      "memory usage: 827.0+ KB\n"
     ]
    }
   ],
   "source": [
    "ds.info()\n",
    "# we see that there are no null values in the dataset "
   ]
  },
  {
   "cell_type": "code",
   "execution_count": 4,
   "metadata": {},
   "outputs": [
    {
     "data": {
      "text/plain": [
       "(4410, 24)"
      ]
     },
     "execution_count": 4,
     "metadata": {},
     "output_type": "execute_result"
    }
   ],
   "source": [
    "ds.shape"
   ]
  },
  {
   "cell_type": "code",
   "execution_count": 5,
   "metadata": {},
   "outputs": [
    {
     "data": {
      "text/plain": [
       "Index(['Age', 'Attrition', 'BusinessTravel', 'Department', 'DistanceFromHome',\n",
       "       'Education', 'EducationField', 'EmployeeCount', 'EmployeeID', 'Gender',\n",
       "       'JobLevel', 'JobRole', 'MaritalStatus', 'MonthlyIncome',\n",
       "       'NumCompaniesWorked', 'Over18', 'PercentSalaryHike', 'StandardHours',\n",
       "       'StockOptionLevel', 'TotalWorkingYears', 'TrainingTimesLastYear',\n",
       "       'YearsAtCompany', 'YearsSinceLastPromotion', 'YearsWithCurrManager'],\n",
       "      dtype='object')"
      ]
     },
     "execution_count": 5,
     "metadata": {},
     "output_type": "execute_result"
    }
   ],
   "source": [
    "# Dataset columns\n",
    "ds.columns"
   ]
  },
  {
   "cell_type": "markdown",
   "metadata": {},
   "source": [
    "#### Numerical features overview"
   ]
  },
  {
   "cell_type": "code",
   "execution_count": 6,
   "metadata": {
    "scrolled": true
   },
   "outputs": [
    {
     "data": {
      "text/html": [
       "<div>\n",
       "<style scoped>\n",
       "    .dataframe tbody tr th:only-of-type {\n",
       "        vertical-align: middle;\n",
       "    }\n",
       "\n",
       "    .dataframe tbody tr th {\n",
       "        vertical-align: top;\n",
       "    }\n",
       "\n",
       "    .dataframe thead th {\n",
       "        text-align: right;\n",
       "    }\n",
       "</style>\n",
       "<table border=\"1\" class=\"dataframe\">\n",
       "  <thead>\n",
       "    <tr style=\"text-align: right;\">\n",
       "      <th></th>\n",
       "      <th>Age</th>\n",
       "      <th>DistanceFromHome</th>\n",
       "      <th>Education</th>\n",
       "      <th>EmployeeCount</th>\n",
       "      <th>EmployeeID</th>\n",
       "      <th>JobLevel</th>\n",
       "      <th>MonthlyIncome</th>\n",
       "      <th>NumCompaniesWorked</th>\n",
       "      <th>PercentSalaryHike</th>\n",
       "      <th>StandardHours</th>\n",
       "      <th>StockOptionLevel</th>\n",
       "      <th>TotalWorkingYears</th>\n",
       "      <th>TrainingTimesLastYear</th>\n",
       "      <th>YearsAtCompany</th>\n",
       "      <th>YearsSinceLastPromotion</th>\n",
       "      <th>YearsWithCurrManager</th>\n",
       "    </tr>\n",
       "  </thead>\n",
       "  <tbody>\n",
       "    <tr>\n",
       "      <th>count</th>\n",
       "      <td>4410.000000</td>\n",
       "      <td>4410.000000</td>\n",
       "      <td>4410.000000</td>\n",
       "      <td>4410.0</td>\n",
       "      <td>4410.000000</td>\n",
       "      <td>4410.000000</td>\n",
       "      <td>4410.000000</td>\n",
       "      <td>4391.000000</td>\n",
       "      <td>4410.000000</td>\n",
       "      <td>4410.0</td>\n",
       "      <td>4410.000000</td>\n",
       "      <td>4401.000000</td>\n",
       "      <td>4410.000000</td>\n",
       "      <td>4410.000000</td>\n",
       "      <td>4410.000000</td>\n",
       "      <td>4410.000000</td>\n",
       "    </tr>\n",
       "    <tr>\n",
       "      <th>mean</th>\n",
       "      <td>36.923810</td>\n",
       "      <td>9.192517</td>\n",
       "      <td>2.912925</td>\n",
       "      <td>1.0</td>\n",
       "      <td>2205.500000</td>\n",
       "      <td>2.063946</td>\n",
       "      <td>65029.312925</td>\n",
       "      <td>2.694830</td>\n",
       "      <td>15.209524</td>\n",
       "      <td>8.0</td>\n",
       "      <td>0.793878</td>\n",
       "      <td>11.279936</td>\n",
       "      <td>2.799320</td>\n",
       "      <td>7.008163</td>\n",
       "      <td>2.187755</td>\n",
       "      <td>4.123129</td>\n",
       "    </tr>\n",
       "    <tr>\n",
       "      <th>std</th>\n",
       "      <td>9.133301</td>\n",
       "      <td>8.105026</td>\n",
       "      <td>1.023933</td>\n",
       "      <td>0.0</td>\n",
       "      <td>1273.201673</td>\n",
       "      <td>1.106689</td>\n",
       "      <td>47068.888559</td>\n",
       "      <td>2.498887</td>\n",
       "      <td>3.659108</td>\n",
       "      <td>0.0</td>\n",
       "      <td>0.851883</td>\n",
       "      <td>7.782222</td>\n",
       "      <td>1.288978</td>\n",
       "      <td>6.125135</td>\n",
       "      <td>3.221699</td>\n",
       "      <td>3.567327</td>\n",
       "    </tr>\n",
       "    <tr>\n",
       "      <th>min</th>\n",
       "      <td>18.000000</td>\n",
       "      <td>1.000000</td>\n",
       "      <td>1.000000</td>\n",
       "      <td>1.0</td>\n",
       "      <td>1.000000</td>\n",
       "      <td>1.000000</td>\n",
       "      <td>10090.000000</td>\n",
       "      <td>0.000000</td>\n",
       "      <td>11.000000</td>\n",
       "      <td>8.0</td>\n",
       "      <td>0.000000</td>\n",
       "      <td>0.000000</td>\n",
       "      <td>0.000000</td>\n",
       "      <td>0.000000</td>\n",
       "      <td>0.000000</td>\n",
       "      <td>0.000000</td>\n",
       "    </tr>\n",
       "    <tr>\n",
       "      <th>25%</th>\n",
       "      <td>30.000000</td>\n",
       "      <td>2.000000</td>\n",
       "      <td>2.000000</td>\n",
       "      <td>1.0</td>\n",
       "      <td>1103.250000</td>\n",
       "      <td>1.000000</td>\n",
       "      <td>29110.000000</td>\n",
       "      <td>1.000000</td>\n",
       "      <td>12.000000</td>\n",
       "      <td>8.0</td>\n",
       "      <td>0.000000</td>\n",
       "      <td>6.000000</td>\n",
       "      <td>2.000000</td>\n",
       "      <td>3.000000</td>\n",
       "      <td>0.000000</td>\n",
       "      <td>2.000000</td>\n",
       "    </tr>\n",
       "    <tr>\n",
       "      <th>50%</th>\n",
       "      <td>36.000000</td>\n",
       "      <td>7.000000</td>\n",
       "      <td>3.000000</td>\n",
       "      <td>1.0</td>\n",
       "      <td>2205.500000</td>\n",
       "      <td>2.000000</td>\n",
       "      <td>49190.000000</td>\n",
       "      <td>2.000000</td>\n",
       "      <td>14.000000</td>\n",
       "      <td>8.0</td>\n",
       "      <td>1.000000</td>\n",
       "      <td>10.000000</td>\n",
       "      <td>3.000000</td>\n",
       "      <td>5.000000</td>\n",
       "      <td>1.000000</td>\n",
       "      <td>3.000000</td>\n",
       "    </tr>\n",
       "    <tr>\n",
       "      <th>75%</th>\n",
       "      <td>43.000000</td>\n",
       "      <td>14.000000</td>\n",
       "      <td>4.000000</td>\n",
       "      <td>1.0</td>\n",
       "      <td>3307.750000</td>\n",
       "      <td>3.000000</td>\n",
       "      <td>83800.000000</td>\n",
       "      <td>4.000000</td>\n",
       "      <td>18.000000</td>\n",
       "      <td>8.0</td>\n",
       "      <td>1.000000</td>\n",
       "      <td>15.000000</td>\n",
       "      <td>3.000000</td>\n",
       "      <td>9.000000</td>\n",
       "      <td>3.000000</td>\n",
       "      <td>7.000000</td>\n",
       "    </tr>\n",
       "    <tr>\n",
       "      <th>max</th>\n",
       "      <td>60.000000</td>\n",
       "      <td>29.000000</td>\n",
       "      <td>5.000000</td>\n",
       "      <td>1.0</td>\n",
       "      <td>4410.000000</td>\n",
       "      <td>5.000000</td>\n",
       "      <td>199990.000000</td>\n",
       "      <td>9.000000</td>\n",
       "      <td>25.000000</td>\n",
       "      <td>8.0</td>\n",
       "      <td>3.000000</td>\n",
       "      <td>40.000000</td>\n",
       "      <td>6.000000</td>\n",
       "      <td>40.000000</td>\n",
       "      <td>15.000000</td>\n",
       "      <td>17.000000</td>\n",
       "    </tr>\n",
       "  </tbody>\n",
       "</table>\n",
       "</div>"
      ],
      "text/plain": [
       "               Age  DistanceFromHome    Education  EmployeeCount   EmployeeID  \\\n",
       "count  4410.000000       4410.000000  4410.000000         4410.0  4410.000000   \n",
       "mean     36.923810          9.192517     2.912925            1.0  2205.500000   \n",
       "std       9.133301          8.105026     1.023933            0.0  1273.201673   \n",
       "min      18.000000          1.000000     1.000000            1.0     1.000000   \n",
       "25%      30.000000          2.000000     2.000000            1.0  1103.250000   \n",
       "50%      36.000000          7.000000     3.000000            1.0  2205.500000   \n",
       "75%      43.000000         14.000000     4.000000            1.0  3307.750000   \n",
       "max      60.000000         29.000000     5.000000            1.0  4410.000000   \n",
       "\n",
       "          JobLevel  MonthlyIncome  NumCompaniesWorked  PercentSalaryHike  \\\n",
       "count  4410.000000    4410.000000         4391.000000        4410.000000   \n",
       "mean      2.063946   65029.312925            2.694830          15.209524   \n",
       "std       1.106689   47068.888559            2.498887           3.659108   \n",
       "min       1.000000   10090.000000            0.000000          11.000000   \n",
       "25%       1.000000   29110.000000            1.000000          12.000000   \n",
       "50%       2.000000   49190.000000            2.000000          14.000000   \n",
       "75%       3.000000   83800.000000            4.000000          18.000000   \n",
       "max       5.000000  199990.000000            9.000000          25.000000   \n",
       "\n",
       "       StandardHours  StockOptionLevel  TotalWorkingYears  \\\n",
       "count         4410.0       4410.000000        4401.000000   \n",
       "mean             8.0          0.793878          11.279936   \n",
       "std              0.0          0.851883           7.782222   \n",
       "min              8.0          0.000000           0.000000   \n",
       "25%              8.0          0.000000           6.000000   \n",
       "50%              8.0          1.000000          10.000000   \n",
       "75%              8.0          1.000000          15.000000   \n",
       "max              8.0          3.000000          40.000000   \n",
       "\n",
       "       TrainingTimesLastYear  YearsAtCompany  YearsSinceLastPromotion  \\\n",
       "count            4410.000000     4410.000000              4410.000000   \n",
       "mean                2.799320        7.008163                 2.187755   \n",
       "std                 1.288978        6.125135                 3.221699   \n",
       "min                 0.000000        0.000000                 0.000000   \n",
       "25%                 2.000000        3.000000                 0.000000   \n",
       "50%                 3.000000        5.000000                 1.000000   \n",
       "75%                 3.000000        9.000000                 3.000000   \n",
       "max                 6.000000       40.000000                15.000000   \n",
       "\n",
       "       YearsWithCurrManager  \n",
       "count           4410.000000  \n",
       "mean               4.123129  \n",
       "std                3.567327  \n",
       "min                0.000000  \n",
       "25%                2.000000  \n",
       "50%                3.000000  \n",
       "75%                7.000000  \n",
       "max               17.000000  "
      ]
     },
     "execution_count": 6,
     "metadata": {},
     "output_type": "execute_result"
    }
   ],
   "source": [
    "ds.describe()"
   ]
  },
  {
   "cell_type": "markdown",
   "metadata": {},
   "source": [
    "# Assignment  Day 11\n",
    "\n",
    "       **The correlation between the columns**"
   ]
  },
  {
   "cell_type": "code",
   "execution_count": 7,
   "metadata": {},
   "outputs": [],
   "source": [
    "# Make a copy of the original sourcefile\n",
    "ds_copy1 = ds.copy()"
   ]
  },
  {
   "cell_type": "code",
   "execution_count": 8,
   "metadata": {},
   "outputs": [],
   "source": [
    "# to convert Yes = 1 and No = 0 into a new column Target\n",
    "ds_copy1['Target'] = ds_copy1['Attrition'].apply(lambda x: 0 if x == 'No' else 1)"
   ]
  },
  {
   "cell_type": "code",
   "execution_count": 9,
   "metadata": {},
   "outputs": [
    {
     "data": {
      "text/html": [
       "<div>\n",
       "<style scoped>\n",
       "    .dataframe tbody tr th:only-of-type {\n",
       "        vertical-align: middle;\n",
       "    }\n",
       "\n",
       "    .dataframe tbody tr th {\n",
       "        vertical-align: top;\n",
       "    }\n",
       "\n",
       "    .dataframe thead th {\n",
       "        text-align: right;\n",
       "    }\n",
       "</style>\n",
       "<table border=\"1\" class=\"dataframe\">\n",
       "  <thead>\n",
       "    <tr style=\"text-align: right;\">\n",
       "      <th></th>\n",
       "      <th>Attrition</th>\n",
       "      <th>Target</th>\n",
       "    </tr>\n",
       "  </thead>\n",
       "  <tbody>\n",
       "    <tr>\n",
       "      <th>0</th>\n",
       "      <td>No</td>\n",
       "      <td>0</td>\n",
       "    </tr>\n",
       "    <tr>\n",
       "      <th>1</th>\n",
       "      <td>Yes</td>\n",
       "      <td>1</td>\n",
       "    </tr>\n",
       "    <tr>\n",
       "      <th>2</th>\n",
       "      <td>No</td>\n",
       "      <td>0</td>\n",
       "    </tr>\n",
       "    <tr>\n",
       "      <th>3</th>\n",
       "      <td>No</td>\n",
       "      <td>0</td>\n",
       "    </tr>\n",
       "    <tr>\n",
       "      <th>4</th>\n",
       "      <td>No</td>\n",
       "      <td>0</td>\n",
       "    </tr>\n",
       "    <tr>\n",
       "      <th>5</th>\n",
       "      <td>No</td>\n",
       "      <td>0</td>\n",
       "    </tr>\n",
       "    <tr>\n",
       "      <th>6</th>\n",
       "      <td>Yes</td>\n",
       "      <td>1</td>\n",
       "    </tr>\n",
       "    <tr>\n",
       "      <th>7</th>\n",
       "      <td>No</td>\n",
       "      <td>0</td>\n",
       "    </tr>\n",
       "    <tr>\n",
       "      <th>8</th>\n",
       "      <td>No</td>\n",
       "      <td>0</td>\n",
       "    </tr>\n",
       "    <tr>\n",
       "      <th>9</th>\n",
       "      <td>No</td>\n",
       "      <td>0</td>\n",
       "    </tr>\n",
       "  </tbody>\n",
       "</table>\n",
       "</div>"
      ],
      "text/plain": [
       "  Attrition  Target\n",
       "0        No       0\n",
       "1       Yes       1\n",
       "2        No       0\n",
       "3        No       0\n",
       "4        No       0\n",
       "5        No       0\n",
       "6       Yes       1\n",
       "7        No       0\n",
       "8        No       0\n",
       "9        No       0"
      ]
     },
     "execution_count": 9,
     "metadata": {},
     "output_type": "execute_result"
    }
   ],
   "source": [
    "# to display the new coluumn Target comparing it by our old column Attrition\n",
    "ds_copy1[['Attrition','Target']].head(10)"
   ]
  },
  {
   "cell_type": "code",
   "execution_count": 10,
   "metadata": {},
   "outputs": [],
   "source": [
    "# To drop the columns which are not of any signifigance anymore\n",
    "ds_copy1 = ds_copy1.drop(['Attrition', 'EmployeeCount', 'EmployeeID', 'StandardHours', 'Over18'], axis=1)"
   ]
  },
  {
   "cell_type": "code",
   "execution_count": 11,
   "metadata": {},
   "outputs": [
    {
     "data": {
      "text/plain": [
       "Index(['Age', 'BusinessTravel', 'Department', 'DistanceFromHome', 'Education',\n",
       "       'EducationField', 'Gender', 'JobLevel', 'JobRole', 'MaritalStatus',\n",
       "       'MonthlyIncome', 'NumCompaniesWorked', 'PercentSalaryHike',\n",
       "       'StockOptionLevel', 'TotalWorkingYears', 'TrainingTimesLastYear',\n",
       "       'YearsAtCompany', 'YearsSinceLastPromotion', 'YearsWithCurrManager',\n",
       "       'Target'],\n",
       "      dtype='object')"
      ]
     },
     "execution_count": 11,
     "metadata": {},
     "output_type": "execute_result"
    }
   ],
   "source": [
    "ds_copy1.columns"
   ]
  },
  {
   "cell_type": "markdown",
   "metadata": {},
   "source": [
    "# Correlations with the target(i.e Attrition) with each column \n",
    "## Method 1\n",
    "> by using pearsonr method and passing each column"
   ]
  },
  {
   "cell_type": "code",
   "execution_count": 12,
   "metadata": {
    "scrolled": true
   },
   "outputs": [
    {
     "name": "stdout",
     "output_type": "stream",
     "text": [
      "-0.15920500686577965 1.996801615886744e-26\n"
     ]
    }
   ],
   "source": [
    "stats,p = pearsonr(ds_copy1.Target , ds_copy1.Age)\n",
    "print(stats,p)"
   ]
  },
  {
   "cell_type": "code",
   "execution_count": 13,
   "metadata": {
    "scrolled": true
   },
   "outputs": [
    {
     "name": "stdout",
     "output_type": "stream",
     "text": [
      "-0.009730141010179674 0.5182860428050771\n"
     ]
    }
   ],
   "source": [
    "stats,p = pearsonr(ds_copy1.Target , ds_copy1.DistanceFromHome)\n",
    "print(stats,p)"
   ]
  },
  {
   "cell_type": "code",
   "execution_count": 14,
   "metadata": {
    "scrolled": true
   },
   "outputs": [
    {
     "name": "stdout",
     "output_type": "stream",
     "text": [
      "-0.015111167710968713 0.3157293177118575\n"
     ]
    }
   ],
   "source": [
    "stats,p = pearsonr(ds_copy1.Target , ds_copy1.Education)\n",
    "print(stats,p)"
   ]
  },
  {
   "cell_type": "code",
   "execution_count": 15,
   "metadata": {
    "scrolled": true
   },
   "outputs": [
    {
     "name": "stdout",
     "output_type": "stream",
     "text": [
      "-0.010289713287495042 0.49451717271828405\n"
     ]
    }
   ],
   "source": [
    "stats,p = pearsonr(ds_copy1.Target , ds_copy1.JobLevel)\n",
    "print(stats,p)"
   ]
  },
  {
   "cell_type": "code",
   "execution_count": 16,
   "metadata": {
    "scrolled": true
   },
   "outputs": [
    {
     "name": "stdout",
     "output_type": "stream",
     "text": [
      "-0.031176281698115007 0.03842748490600132\n"
     ]
    }
   ],
   "source": [
    "stats,p = pearsonr(ds_copy1.Target , ds_copy1.MonthlyIncome)\n",
    "print(stats,p)"
   ]
  },
  {
   "cell_type": "code",
   "execution_count": 17,
   "metadata": {
    "scrolled": false
   },
   "outputs": [
    {
     "name": "stdout",
     "output_type": "stream",
     "text": [
      "-0.006838852403261513 0.6498072937475723\n"
     ]
    }
   ],
   "source": [
    "stats,p = pearsonr(ds_copy1.Target , ds_copy1.StockOptionLevel)\n",
    "print(stats,p)"
   ]
  },
  {
   "cell_type": "code",
   "execution_count": 18,
   "metadata": {
    "scrolled": false
   },
   "outputs": [
    {
     "name": "stdout",
     "output_type": "stream",
     "text": [
      "-0.049430576244255 0.0010247061915365072\n"
     ]
    }
   ],
   "source": [
    "stats,p = pearsonr(ds_copy1.Target , ds_copy1.TrainingTimesLastYear)\n",
    "print(stats,p)"
   ]
  },
  {
   "cell_type": "code",
   "execution_count": 19,
   "metadata": {
    "scrolled": false
   },
   "outputs": [
    {
     "name": "stdout",
     "output_type": "stream",
     "text": [
      "-0.1343922139899772 3.1638831224877484e-19\n"
     ]
    }
   ],
   "source": [
    "stats,p = pearsonr(ds_copy1.Target , ds_copy1.YearsAtCompany)\n",
    "print(stats,p)"
   ]
  },
  {
   "cell_type": "code",
   "execution_count": 20,
   "metadata": {
    "scrolled": false
   },
   "outputs": [
    {
     "name": "stdout",
     "output_type": "stream",
     "text": [
      "-0.03301877514258434 0.028330336189396753\n"
     ]
    }
   ],
   "source": [
    "stats,p = pearsonr(ds_copy1.Target , ds_copy1.YearsSinceLastPromotion)\n",
    "print(stats,p)"
   ]
  },
  {
   "cell_type": "code",
   "execution_count": 21,
   "metadata": {
    "scrolled": false
   },
   "outputs": [
    {
     "name": "stdout",
     "output_type": "stream",
     "text": [
      "-0.15619931590162847 1.7339322652896276e-25\n"
     ]
    }
   ],
   "source": [
    "stats,p = pearsonr(ds_copy1.Target , ds_copy1.YearsWithCurrManager)\n",
    "print(stats,p)"
   ]
  },
  {
   "cell_type": "markdown",
   "metadata": {},
   "source": [
    "# Correlations with the target(i.e Attrition) with each column \n",
    "## Method 2\n",
    "> by using corr() method "
   ]
  },
  {
   "cell_type": "code",
   "execution_count": 22,
   "metadata": {
    "scrolled": true
   },
   "outputs": [
    {
     "name": "stdout",
     "output_type": "stream",
     "text": [
      "TotalWorkingYears         -0.170338\n",
      "Age                       -0.159205\n",
      "YearsWithCurrManager      -0.156199\n",
      "YearsAtCompany            -0.134392\n",
      "TrainingTimesLastYear     -0.049431\n",
      "YearsSinceLastPromotion   -0.033019\n",
      "MonthlyIncome             -0.031176\n",
      "Education                 -0.015111\n",
      "JobLevel                  -0.010290\n",
      "DistanceFromHome          -0.009730\n",
      "StockOptionLevel          -0.006839\n",
      "PercentSalaryHike          0.032533\n",
      "NumCompaniesWorked         0.042345\n",
      "Target                     1.000000\n",
      "Name: Target, dtype: float64\n"
     ]
    }
   ],
   "source": [
    "# Find correlations with the target(i.e Attrition) with each column and sort \n",
    "correlations = ds_copy1.corr()['Target'].sort_values()\n",
    "print(correlations) "
   ]
  },
  {
   "cell_type": "markdown",
   "metadata": {},
   "source": [
    "# Correlation Matrix \n",
    "## Method 1\n",
    "> by using corr() method and display as table "
   ]
  },
  {
   "cell_type": "code",
   "execution_count": 23,
   "metadata": {},
   "outputs": [
    {
     "data": {
      "text/html": [
       "<div>\n",
       "<style scoped>\n",
       "    .dataframe tbody tr th:only-of-type {\n",
       "        vertical-align: middle;\n",
       "    }\n",
       "\n",
       "    .dataframe tbody tr th {\n",
       "        vertical-align: top;\n",
       "    }\n",
       "\n",
       "    .dataframe thead th {\n",
       "        text-align: right;\n",
       "    }\n",
       "</style>\n",
       "<table border=\"1\" class=\"dataframe\">\n",
       "  <thead>\n",
       "    <tr style=\"text-align: right;\">\n",
       "      <th></th>\n",
       "      <th>Age</th>\n",
       "      <th>DistanceFromHome</th>\n",
       "      <th>Education</th>\n",
       "      <th>JobLevel</th>\n",
       "      <th>MonthlyIncome</th>\n",
       "      <th>NumCompaniesWorked</th>\n",
       "      <th>PercentSalaryHike</th>\n",
       "      <th>StockOptionLevel</th>\n",
       "      <th>TotalWorkingYears</th>\n",
       "      <th>TrainingTimesLastYear</th>\n",
       "      <th>YearsAtCompany</th>\n",
       "      <th>YearsSinceLastPromotion</th>\n",
       "      <th>YearsWithCurrManager</th>\n",
       "      <th>Target</th>\n",
       "    </tr>\n",
       "  </thead>\n",
       "  <tbody>\n",
       "    <tr>\n",
       "      <th>Age</th>\n",
       "      <td>1.000000</td>\n",
       "      <td>0.006963</td>\n",
       "      <td>-0.035706</td>\n",
       "      <td>-0.002884</td>\n",
       "      <td>-0.044314</td>\n",
       "      <td>0.299243</td>\n",
       "      <td>-0.033137</td>\n",
       "      <td>-0.031753</td>\n",
       "      <td>0.680661</td>\n",
       "      <td>-0.027308</td>\n",
       "      <td>0.311309</td>\n",
       "      <td>0.216513</td>\n",
       "      <td>0.202089</td>\n",
       "      <td>-0.159205</td>\n",
       "    </tr>\n",
       "    <tr>\n",
       "      <th>DistanceFromHome</th>\n",
       "      <td>0.006963</td>\n",
       "      <td>1.000000</td>\n",
       "      <td>-0.008638</td>\n",
       "      <td>-0.037329</td>\n",
       "      <td>-0.021607</td>\n",
       "      <td>-0.013843</td>\n",
       "      <td>0.038125</td>\n",
       "      <td>0.011169</td>\n",
       "      <td>0.009374</td>\n",
       "      <td>-0.009001</td>\n",
       "      <td>0.031684</td>\n",
       "      <td>0.002290</td>\n",
       "      <td>0.021584</td>\n",
       "      <td>-0.009730</td>\n",
       "    </tr>\n",
       "    <tr>\n",
       "      <th>Education</th>\n",
       "      <td>-0.035706</td>\n",
       "      <td>-0.008638</td>\n",
       "      <td>1.000000</td>\n",
       "      <td>0.045746</td>\n",
       "      <td>0.006410</td>\n",
       "      <td>-0.016250</td>\n",
       "      <td>-0.040531</td>\n",
       "      <td>0.001261</td>\n",
       "      <td>-0.010717</td>\n",
       "      <td>0.010472</td>\n",
       "      <td>0.006080</td>\n",
       "      <td>0.022490</td>\n",
       "      <td>0.005358</td>\n",
       "      <td>-0.015111</td>\n",
       "    </tr>\n",
       "    <tr>\n",
       "      <th>JobLevel</th>\n",
       "      <td>-0.002884</td>\n",
       "      <td>-0.037329</td>\n",
       "      <td>0.045746</td>\n",
       "      <td>1.000000</td>\n",
       "      <td>0.047316</td>\n",
       "      <td>-0.009875</td>\n",
       "      <td>0.010973</td>\n",
       "      <td>0.000993</td>\n",
       "      <td>-0.036957</td>\n",
       "      <td>-0.032500</td>\n",
       "      <td>-0.064219</td>\n",
       "      <td>-0.060811</td>\n",
       "      <td>-0.055251</td>\n",
       "      <td>-0.010290</td>\n",
       "    </tr>\n",
       "    <tr>\n",
       "      <th>MonthlyIncome</th>\n",
       "      <td>-0.044314</td>\n",
       "      <td>-0.021607</td>\n",
       "      <td>0.006410</td>\n",
       "      <td>0.047316</td>\n",
       "      <td>1.000000</td>\n",
       "      <td>-0.020726</td>\n",
       "      <td>0.004325</td>\n",
       "      <td>0.026930</td>\n",
       "      <td>-0.033787</td>\n",
       "      <td>0.050112</td>\n",
       "      <td>0.000995</td>\n",
       "      <td>0.065219</td>\n",
       "      <td>0.024304</td>\n",
       "      <td>-0.031176</td>\n",
       "    </tr>\n",
       "    <tr>\n",
       "      <th>NumCompaniesWorked</th>\n",
       "      <td>0.299243</td>\n",
       "      <td>-0.013843</td>\n",
       "      <td>-0.016250</td>\n",
       "      <td>-0.009875</td>\n",
       "      <td>-0.020726</td>\n",
       "      <td>1.000000</td>\n",
       "      <td>0.030860</td>\n",
       "      <td>0.017163</td>\n",
       "      <td>0.238807</td>\n",
       "      <td>-0.032286</td>\n",
       "      <td>-0.117959</td>\n",
       "      <td>-0.036656</td>\n",
       "      <td>-0.109667</td>\n",
       "      <td>0.042345</td>\n",
       "    </tr>\n",
       "    <tr>\n",
       "      <th>PercentSalaryHike</th>\n",
       "      <td>-0.033137</td>\n",
       "      <td>0.038125</td>\n",
       "      <td>-0.040531</td>\n",
       "      <td>0.010973</td>\n",
       "      <td>0.004325</td>\n",
       "      <td>0.030860</td>\n",
       "      <td>1.000000</td>\n",
       "      <td>0.012548</td>\n",
       "      <td>-0.018736</td>\n",
       "      <td>-0.037392</td>\n",
       "      <td>-0.029707</td>\n",
       "      <td>-0.029542</td>\n",
       "      <td>-0.040864</td>\n",
       "      <td>0.032533</td>\n",
       "    </tr>\n",
       "    <tr>\n",
       "      <th>StockOptionLevel</th>\n",
       "      <td>-0.031753</td>\n",
       "      <td>0.011169</td>\n",
       "      <td>0.001261</td>\n",
       "      <td>0.000993</td>\n",
       "      <td>0.026930</td>\n",
       "      <td>0.017163</td>\n",
       "      <td>0.012548</td>\n",
       "      <td>1.000000</td>\n",
       "      <td>0.002694</td>\n",
       "      <td>-0.069902</td>\n",
       "      <td>0.007886</td>\n",
       "      <td>0.019063</td>\n",
       "      <td>0.017757</td>\n",
       "      <td>-0.006839</td>\n",
       "    </tr>\n",
       "    <tr>\n",
       "      <th>TotalWorkingYears</th>\n",
       "      <td>0.680661</td>\n",
       "      <td>0.009374</td>\n",
       "      <td>-0.010717</td>\n",
       "      <td>-0.036957</td>\n",
       "      <td>-0.033787</td>\n",
       "      <td>0.238807</td>\n",
       "      <td>-0.018736</td>\n",
       "      <td>0.002694</td>\n",
       "      <td>1.000000</td>\n",
       "      <td>-0.040762</td>\n",
       "      <td>0.627703</td>\n",
       "      <td>0.404444</td>\n",
       "      <td>0.458800</td>\n",
       "      <td>-0.170338</td>\n",
       "    </tr>\n",
       "    <tr>\n",
       "      <th>TrainingTimesLastYear</th>\n",
       "      <td>-0.027308</td>\n",
       "      <td>-0.009001</td>\n",
       "      <td>0.010472</td>\n",
       "      <td>-0.032500</td>\n",
       "      <td>0.050112</td>\n",
       "      <td>-0.032286</td>\n",
       "      <td>-0.037392</td>\n",
       "      <td>-0.069902</td>\n",
       "      <td>-0.040762</td>\n",
       "      <td>1.000000</td>\n",
       "      <td>-0.007894</td>\n",
       "      <td>0.016121</td>\n",
       "      <td>-0.013270</td>\n",
       "      <td>-0.049431</td>\n",
       "    </tr>\n",
       "    <tr>\n",
       "      <th>YearsAtCompany</th>\n",
       "      <td>0.311309</td>\n",
       "      <td>0.031684</td>\n",
       "      <td>0.006080</td>\n",
       "      <td>-0.064219</td>\n",
       "      <td>0.000995</td>\n",
       "      <td>-0.117959</td>\n",
       "      <td>-0.029707</td>\n",
       "      <td>0.007886</td>\n",
       "      <td>0.627703</td>\n",
       "      <td>-0.007894</td>\n",
       "      <td>1.000000</td>\n",
       "      <td>0.618409</td>\n",
       "      <td>0.769212</td>\n",
       "      <td>-0.134392</td>\n",
       "    </tr>\n",
       "    <tr>\n",
       "      <th>YearsSinceLastPromotion</th>\n",
       "      <td>0.216513</td>\n",
       "      <td>0.002290</td>\n",
       "      <td>0.022490</td>\n",
       "      <td>-0.060811</td>\n",
       "      <td>0.065219</td>\n",
       "      <td>-0.036656</td>\n",
       "      <td>-0.029542</td>\n",
       "      <td>0.019063</td>\n",
       "      <td>0.404444</td>\n",
       "      <td>0.016121</td>\n",
       "      <td>0.618409</td>\n",
       "      <td>1.000000</td>\n",
       "      <td>0.510224</td>\n",
       "      <td>-0.033019</td>\n",
       "    </tr>\n",
       "    <tr>\n",
       "      <th>YearsWithCurrManager</th>\n",
       "      <td>0.202089</td>\n",
       "      <td>0.021584</td>\n",
       "      <td>0.005358</td>\n",
       "      <td>-0.055251</td>\n",
       "      <td>0.024304</td>\n",
       "      <td>-0.109667</td>\n",
       "      <td>-0.040864</td>\n",
       "      <td>0.017757</td>\n",
       "      <td>0.458800</td>\n",
       "      <td>-0.013270</td>\n",
       "      <td>0.769212</td>\n",
       "      <td>0.510224</td>\n",
       "      <td>1.000000</td>\n",
       "      <td>-0.156199</td>\n",
       "    </tr>\n",
       "    <tr>\n",
       "      <th>Target</th>\n",
       "      <td>-0.159205</td>\n",
       "      <td>-0.009730</td>\n",
       "      <td>-0.015111</td>\n",
       "      <td>-0.010290</td>\n",
       "      <td>-0.031176</td>\n",
       "      <td>0.042345</td>\n",
       "      <td>0.032533</td>\n",
       "      <td>-0.006839</td>\n",
       "      <td>-0.170338</td>\n",
       "      <td>-0.049431</td>\n",
       "      <td>-0.134392</td>\n",
       "      <td>-0.033019</td>\n",
       "      <td>-0.156199</td>\n",
       "      <td>1.000000</td>\n",
       "    </tr>\n",
       "  </tbody>\n",
       "</table>\n",
       "</div>"
      ],
      "text/plain": [
       "                              Age  DistanceFromHome  Education  JobLevel  \\\n",
       "Age                      1.000000          0.006963  -0.035706 -0.002884   \n",
       "DistanceFromHome         0.006963          1.000000  -0.008638 -0.037329   \n",
       "Education               -0.035706         -0.008638   1.000000  0.045746   \n",
       "JobLevel                -0.002884         -0.037329   0.045746  1.000000   \n",
       "MonthlyIncome           -0.044314         -0.021607   0.006410  0.047316   \n",
       "NumCompaniesWorked       0.299243         -0.013843  -0.016250 -0.009875   \n",
       "PercentSalaryHike       -0.033137          0.038125  -0.040531  0.010973   \n",
       "StockOptionLevel        -0.031753          0.011169   0.001261  0.000993   \n",
       "TotalWorkingYears        0.680661          0.009374  -0.010717 -0.036957   \n",
       "TrainingTimesLastYear   -0.027308         -0.009001   0.010472 -0.032500   \n",
       "YearsAtCompany           0.311309          0.031684   0.006080 -0.064219   \n",
       "YearsSinceLastPromotion  0.216513          0.002290   0.022490 -0.060811   \n",
       "YearsWithCurrManager     0.202089          0.021584   0.005358 -0.055251   \n",
       "Target                  -0.159205         -0.009730  -0.015111 -0.010290   \n",
       "\n",
       "                         MonthlyIncome  NumCompaniesWorked  PercentSalaryHike  \\\n",
       "Age                          -0.044314            0.299243          -0.033137   \n",
       "DistanceFromHome             -0.021607           -0.013843           0.038125   \n",
       "Education                     0.006410           -0.016250          -0.040531   \n",
       "JobLevel                      0.047316           -0.009875           0.010973   \n",
       "MonthlyIncome                 1.000000           -0.020726           0.004325   \n",
       "NumCompaniesWorked           -0.020726            1.000000           0.030860   \n",
       "PercentSalaryHike             0.004325            0.030860           1.000000   \n",
       "StockOptionLevel              0.026930            0.017163           0.012548   \n",
       "TotalWorkingYears            -0.033787            0.238807          -0.018736   \n",
       "TrainingTimesLastYear         0.050112           -0.032286          -0.037392   \n",
       "YearsAtCompany                0.000995           -0.117959          -0.029707   \n",
       "YearsSinceLastPromotion       0.065219           -0.036656          -0.029542   \n",
       "YearsWithCurrManager          0.024304           -0.109667          -0.040864   \n",
       "Target                       -0.031176            0.042345           0.032533   \n",
       "\n",
       "                         StockOptionLevel  TotalWorkingYears  \\\n",
       "Age                             -0.031753           0.680661   \n",
       "DistanceFromHome                 0.011169           0.009374   \n",
       "Education                        0.001261          -0.010717   \n",
       "JobLevel                         0.000993          -0.036957   \n",
       "MonthlyIncome                    0.026930          -0.033787   \n",
       "NumCompaniesWorked               0.017163           0.238807   \n",
       "PercentSalaryHike                0.012548          -0.018736   \n",
       "StockOptionLevel                 1.000000           0.002694   \n",
       "TotalWorkingYears                0.002694           1.000000   \n",
       "TrainingTimesLastYear           -0.069902          -0.040762   \n",
       "YearsAtCompany                   0.007886           0.627703   \n",
       "YearsSinceLastPromotion          0.019063           0.404444   \n",
       "YearsWithCurrManager             0.017757           0.458800   \n",
       "Target                          -0.006839          -0.170338   \n",
       "\n",
       "                         TrainingTimesLastYear  YearsAtCompany  \\\n",
       "Age                                  -0.027308        0.311309   \n",
       "DistanceFromHome                     -0.009001        0.031684   \n",
       "Education                             0.010472        0.006080   \n",
       "JobLevel                             -0.032500       -0.064219   \n",
       "MonthlyIncome                         0.050112        0.000995   \n",
       "NumCompaniesWorked                   -0.032286       -0.117959   \n",
       "PercentSalaryHike                    -0.037392       -0.029707   \n",
       "StockOptionLevel                     -0.069902        0.007886   \n",
       "TotalWorkingYears                    -0.040762        0.627703   \n",
       "TrainingTimesLastYear                 1.000000       -0.007894   \n",
       "YearsAtCompany                       -0.007894        1.000000   \n",
       "YearsSinceLastPromotion               0.016121        0.618409   \n",
       "YearsWithCurrManager                 -0.013270        0.769212   \n",
       "Target                               -0.049431       -0.134392   \n",
       "\n",
       "                         YearsSinceLastPromotion  YearsWithCurrManager  \\\n",
       "Age                                     0.216513              0.202089   \n",
       "DistanceFromHome                        0.002290              0.021584   \n",
       "Education                               0.022490              0.005358   \n",
       "JobLevel                               -0.060811             -0.055251   \n",
       "MonthlyIncome                           0.065219              0.024304   \n",
       "NumCompaniesWorked                     -0.036656             -0.109667   \n",
       "PercentSalaryHike                      -0.029542             -0.040864   \n",
       "StockOptionLevel                        0.019063              0.017757   \n",
       "TotalWorkingYears                       0.404444              0.458800   \n",
       "TrainingTimesLastYear                   0.016121             -0.013270   \n",
       "YearsAtCompany                          0.618409              0.769212   \n",
       "YearsSinceLastPromotion                 1.000000              0.510224   \n",
       "YearsWithCurrManager                    0.510224              1.000000   \n",
       "Target                                 -0.033019             -0.156199   \n",
       "\n",
       "                           Target  \n",
       "Age                     -0.159205  \n",
       "DistanceFromHome        -0.009730  \n",
       "Education               -0.015111  \n",
       "JobLevel                -0.010290  \n",
       "MonthlyIncome           -0.031176  \n",
       "NumCompaniesWorked       0.042345  \n",
       "PercentSalaryHike        0.032533  \n",
       "StockOptionLevel        -0.006839  \n",
       "TotalWorkingYears       -0.170338  \n",
       "TrainingTimesLastYear   -0.049431  \n",
       "YearsAtCompany          -0.134392  \n",
       "YearsSinceLastPromotion -0.033019  \n",
       "YearsWithCurrManager    -0.156199  \n",
       "Target                   1.000000  "
      ]
     },
     "execution_count": 23,
     "metadata": {},
     "output_type": "execute_result"
    }
   ],
   "source": [
    "#this is the genralized correlation matrix by maping eacch column with each other\n",
    "ds_copy1.corr()"
   ]
  },
  {
   "cell_type": "markdown",
   "metadata": {},
   "source": [
    "# Correlation Matrix \n",
    "## Method 2\n",
    "> By using seaborn lib and display as heatmap "
   ]
  },
  {
   "cell_type": "markdown",
   "metadata": {},
   "source": [
    "To plot a heatmap to visualize the correlation between Attrition(target) and the columns."
   ]
  },
  {
   "cell_type": "code",
   "execution_count": 24,
   "metadata": {},
   "outputs": [],
   "source": [
    "import seaborn as sns"
   ]
  },
  {
   "cell_type": "code",
   "execution_count": 25,
   "metadata": {},
   "outputs": [],
   "source": [
    "# Calculate correlations\n",
    "corr = ds_copy1.corr()\n",
    "\n",
    "# to create a zero matrix of size/shape corr\n",
    "heatmap_mask = np.zeros_like(corr)\n",
    "\n",
    "# Return the indices for the upper-triangle and mae them eual to 1\n",
    "heatmap_mask[np.triu_indices_from(heatmap_mask)] = True\n",
    "#print(heatmap_mask)"
   ]
  },
  {
   "cell_type": "code",
   "execution_count": 26,
   "metadata": {},
   "outputs": [
    {
     "data": {
      "text/plain": [
       "<matplotlib.axes._subplots.AxesSubplot at 0x2435522ba48>"
      ]
     },
     "execution_count": 26,
     "metadata": {},
     "output_type": "execute_result"
    },
    {
     "data": {
      "image/png": "[encoded data removed]",
      "text/plain": [
       "<Figure size 1080x720 with 2 Axes>"
      ]
     },
     "metadata": {
      "needs_background": "light"
     },
     "output_type": "display_data"
    }
   ],
   "source": [
    "# Heatmap for visualizeing \n",
    "# to set the size of the map uusing mathplotlib.pyplot\n",
    "plt.figure(figsize=(15, 10))\n",
    "# heatmap parameters used \n",
    "# mask -> masks cell which is true(1)\n",
    "# annot ->  to display values inside each cell\n",
    "# linewidths -> for spacing bwtn cells \n",
    "sns.heatmap(corr,mask=heatmap_mask, annot=True, linewidths=.2)"
   ]
  },
  {
   "cell_type": "markdown",
   "metadata": {},
   "source": [
    "### As shown above, \"Monthly Rate\", \"Number of Companies Worked\" and \"Distance From Home\" are positively correlated to Attrition while \"Total Working Years\", \"Job Level\", and \"Years In Current Role\" are negatively correlated to Attrition."
   ]
  }
 ],
 "metadata": {
  "kernelspec": {
   "display_name": "Python 3",
   "language": "python",
   "name": "python3"
  },
  "language_info": {
   "codemirror_mode": {
    "name": "ipython",
    "version": 3
   },
   "file_extension": ".py",
   "mimetype": "text/x-python",
   "name": "python",
   "nbconvert_exporter": "python",
   "pygments_lexer": "ipython3",
   "version": "3.7.6"
  }
 },
 "nbformat": 4,
 "nbformat_minor": 4
}
